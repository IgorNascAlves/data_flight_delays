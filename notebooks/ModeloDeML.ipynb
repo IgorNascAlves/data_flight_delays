{
 "cells": [
  {
   "cell_type": "code",
   "execution_count": 1,
   "metadata": {},
   "outputs": [],
   "source": [
    "import pandas as pd"
   ]
  },
  {
   "cell_type": "code",
   "execution_count": 2,
   "metadata": {},
   "outputs": [],
   "source": [
    "caminho = r'..\\data\\ny_flights.csv'"
   ]
  },
  {
   "cell_type": "code",
   "execution_count": 3,
   "metadata": {},
   "outputs": [],
   "source": [
    "df = pd.read_csv(caminho)"
   ]
  },
  {
   "cell_type": "code",
   "execution_count": 5,
   "metadata": {},
   "outputs": [],
   "source": [
    "df.dropna(inplace=True)"
   ]
  },
  {
   "cell_type": "code",
   "execution_count": 10,
   "metadata": {},
   "outputs": [],
   "source": [
    "subset = df.sample(n=1000)  # Randomly sample 1000 rows"
   ]
  },
  {
   "cell_type": "code",
   "execution_count": 12,
   "metadata": {},
   "outputs": [
    {
     "name": "stdout",
     "output_type": "stream",
     "text": [
      "Mean Squared Error: 8577.82\n",
      "Mean Absolute Error: 63.45\n",
      "R-squared Score: -0.8239979416331802\n"
     ]
    }
   ],
   "source": [
    "from sklearn.gaussian_process import GaussianProcessRegressor\n",
    "from sklearn.gaussian_process.kernels import RBF\n",
    "from sklearn.model_selection import train_test_split\n",
    "from sklearn.metrics import mean_squared_error, mean_absolute_error, r2_score\n",
    "import numpy as np\n",
    "\n",
    "# Assuming your DataFrame is named 'df' containing the flight data\n",
    "\n",
    "# Extract features and target variable\n",
    "# X = df[['CRS_DEP_TIME', 'DEP_TIME']]  # Add other relevant columns\n",
    "X = subset[['CRS_DEP_TIME', 'DEP_TIME', 'TAXI_OUT', 'WHEELS_OFF', 'WHEELS_ON', 'TAXI_IN', 'CRS_ARR_TIME', 'CANCELLED', 'DIVERTED', 'CRS_ELAPSED_TIME', 'ACTUAL_ELAPSED_TIME', 'AIR_TIME', 'DISTANCE', 'CARRIER_DELAY', 'WEATHER_DELAY', 'NAS_DELAY', 'SECURITY_DELAY', 'LATE_AIRCRAFT_DELAY']]\n",
    "y = subset['DEP_DELAY']\n",
    "\n",
    "# Split the data into training and testing sets\n",
    "X_train, X_test, y_train, y_test = train_test_split(X, y, test_size=0.2, random_state=42)\n",
    "\n",
    "# Define the Gaussian Process regression model\n",
    "kernel = RBF()\n",
    "gpr = GaussianProcessRegressor(kernel=kernel)\n",
    "\n",
    "# Train the model\n",
    "gpr.fit(X_train, y_train)\n",
    "\n",
    "# Make predictions on the testing set\n",
    "y_pred = gpr.predict(X_test)\n",
    "\n",
    "# Evaluate the performance of the model\n",
    "mse = mean_squared_error(y_test, y_pred)\n",
    "mae = mean_absolute_error(y_test, y_pred)\n",
    "r2 = r2_score(y_test, y_pred)\n",
    "\n",
    "print(\"Mean Squared Error:\", mse)\n",
    "print(\"Mean Absolute Error:\", mae)\n",
    "print(\"R-squared Score:\", r2)\n"
   ]
  },
  {
   "attachments": {},
   "cell_type": "markdown",
   "metadata": {},
   "source": [
    "1. Mean Squared Error (Erro Médio Quadrático): O valor obtido para o MSE é de 8577.82. Essa métrica mede a média dos erros ao quadrado entre os valores previstos e os valores reais do atraso de partida dos voos. Quanto menor o valor do MSE, melhor é o desempenho do modelo em fazer previsões precisas. No caso, um MSE de 8577.82 indica que as previsões têm uma quantidade razoável de erros ao quadrado em relação aos valores reais.\n",
    "\n",
    "2. Mean Absolute Error (Erro Médio Absoluto): O valor obtido para o MAE é de 63.45. Essa métrica mede a média dos erros absolutos entre os valores previstos e os valores reais do atraso de partida dos voos. O MAE fornece uma medida da magnitude média dos erros de previsão, sem considerar a direção dos erros. Quanto menor o valor do MAE, melhor é o desempenho do modelo em fazer previsões precisas. No caso, um MAE de 63.45 indica que as previsões têm uma quantidade razoável de erros absolutos em relação aos valores reais.\n",
    "\n",
    "3. R-squared Score (Coeficiente de Determinação): O valor obtido para o R-quadrado é de -0.8239979416331802. Essa métrica fornece uma medida da qualidade geral do ajuste do modelo aos dados. O R-quadrado varia de -∞ a 1, e quanto mais próximo de 1, melhor é o ajuste do modelo. No caso, um R-quadrado de -0.8239979416331802 indica que o modelo tem um ajuste ruim aos dados, pois o valor está negativo. Isso sugere que o modelo não é capaz de capturar as variações e tendências presentes nos dados.\n",
    "\n",
    "Em resumo, os resultados indicam que o modelo de regressão Gaussian Process não está fornecendo previsões precisas e um bom ajuste aos dados do atraso de partida dos voos. É importante revisar e explorar outras abordagens de modelagem ou considerar a inclusão de mais recursos relevantes para melhorar o desempenho do modelo.\""
   ]
  },
  {
   "attachments": {},
   "cell_type": "markdown",
   "metadata": {},
   "source": []
  },
  {
   "cell_type": "code",
   "execution_count": null,
   "metadata": {},
   "outputs": [],
   "source": []
  }
 ],
 "metadata": {
  "kernelspec": {
   "display_name": "Python 3",
   "language": "python",
   "name": "python3"
  },
  "language_info": {
   "codemirror_mode": {
    "name": "ipython",
    "version": 3
   },
   "file_extension": ".py",
   "mimetype": "text/x-python",
   "name": "python",
   "nbconvert_exporter": "python",
   "pygments_lexer": "ipython3",
   "version": "3.11.3"
  },
  "orig_nbformat": 4
 },
 "nbformat": 4,
 "nbformat_minor": 2
}
