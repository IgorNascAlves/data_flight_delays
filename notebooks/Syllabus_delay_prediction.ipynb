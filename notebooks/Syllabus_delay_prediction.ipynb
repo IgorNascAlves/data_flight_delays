{
  "nbformat": 4,
  "nbformat_minor": 0,
  "metadata": {
    "colab": {
      "provenance": []
    },
    "kernelspec": {
      "name": "python3",
      "display_name": "Python 3"
    },
    "language_info": {
      "name": "python"
    }
  },
  "cells": [
    {
      "cell_type": "markdown",
      "source": [
        "#**Exploratory data analysis**"
      ],
      "metadata": {
        "id": "TkAIew8ClLtw"
      }
    },
    {
      "cell_type": "markdown",
      "source": [
        "###**Understanding the dataset**"
      ],
      "metadata": {
        "id": "ctO4366ildG9"
      }
    },
    {
      "cell_type": "code",
      "source": [
        "import pandas as pd"
      ],
      "metadata": {
        "id": "BTkgfF85mprn"
      },
      "execution_count": 143,
      "outputs": []
    },
    {
      "cell_type": "code",
      "source": [
        "df = pd.read_csv('https://github.com/IgorNascAlves/data_flight_delays/blob/main/data/flights.csv?raw=True')"
      ],
      "metadata": {
        "id": "eAO6SNf_mpyW"
      },
      "execution_count": 144,
      "outputs": []
    },
    {
      "cell_type": "code",
      "source": [
        "df.head()"
      ],
      "metadata": {
        "colab": {
          "base_uri": "https://localhost:8080/",
          "height": 206
        },
        "id": "D1Zy_2HirBLn",
        "outputId": "c93455ba-7747-4629-db3b-acbd43e3f7c6"
      },
      "execution_count": 145,
      "outputs": [
        {
          "output_type": "execute_result",
          "data": {
            "text/plain": [
              "   flight_id airline aircraft_type      schengen origin  arrival_time  \\\n",
              "0         26      MM   Airbus A320  non-schengen    TCY      8.885071   \n",
              "1         10      YE   Airbus A320  non-schengen    TCY      8.939996   \n",
              "2          3      BZ  Embraer E175      schengen    TZF     18.635384   \n",
              "3         28      BZ   Airbus A330  non-schengen    EMM     15.967963   \n",
              "4         15      BZ   Airbus A330  non-schengen    FJB     16.571894   \n",
              "\n",
              "   departure_time  day  year  is_holiday      delay  \n",
              "0       10.885071    0  2010       False  70.205981  \n",
              "1       11.939996    0  2010       False  38.484609  \n",
              "2       22.635384    0  2010       False   2.388305  \n",
              "3       17.967963    0  2010       False  19.138491  \n",
              "4       19.571894    0  2010       False  15.016271  "
            ],
            "text/html": [
              "\n",
              "  <div id=\"df-257e24ea-bb8e-4c8a-80d7-eb76b5e269de\">\n",
              "    <div class=\"colab-df-container\">\n",
              "      <div>\n",
              "<style scoped>\n",
              "    .dataframe tbody tr th:only-of-type {\n",
              "        vertical-align: middle;\n",
              "    }\n",
              "\n",
              "    .dataframe tbody tr th {\n",
              "        vertical-align: top;\n",
              "    }\n",
              "\n",
              "    .dataframe thead th {\n",
              "        text-align: right;\n",
              "    }\n",
              "</style>\n",
              "<table border=\"1\" class=\"dataframe\">\n",
              "  <thead>\n",
              "    <tr style=\"text-align: right;\">\n",
              "      <th></th>\n",
              "      <th>flight_id</th>\n",
              "      <th>airline</th>\n",
              "      <th>aircraft_type</th>\n",
              "      <th>schengen</th>\n",
              "      <th>origin</th>\n",
              "      <th>arrival_time</th>\n",
              "      <th>departure_time</th>\n",
              "      <th>day</th>\n",
              "      <th>year</th>\n",
              "      <th>is_holiday</th>\n",
              "      <th>delay</th>\n",
              "    </tr>\n",
              "  </thead>\n",
              "  <tbody>\n",
              "    <tr>\n",
              "      <th>0</th>\n",
              "      <td>26</td>\n",
              "      <td>MM</td>\n",
              "      <td>Airbus A320</td>\n",
              "      <td>non-schengen</td>\n",
              "      <td>TCY</td>\n",
              "      <td>8.885071</td>\n",
              "      <td>10.885071</td>\n",
              "      <td>0</td>\n",
              "      <td>2010</td>\n",
              "      <td>False</td>\n",
              "      <td>70.205981</td>\n",
              "    </tr>\n",
              "    <tr>\n",
              "      <th>1</th>\n",
              "      <td>10</td>\n",
              "      <td>YE</td>\n",
              "      <td>Airbus A320</td>\n",
              "      <td>non-schengen</td>\n",
              "      <td>TCY</td>\n",
              "      <td>8.939996</td>\n",
              "      <td>11.939996</td>\n",
              "      <td>0</td>\n",
              "      <td>2010</td>\n",
              "      <td>False</td>\n",
              "      <td>38.484609</td>\n",
              "    </tr>\n",
              "    <tr>\n",
              "      <th>2</th>\n",
              "      <td>3</td>\n",
              "      <td>BZ</td>\n",
              "      <td>Embraer E175</td>\n",
              "      <td>schengen</td>\n",
              "      <td>TZF</td>\n",
              "      <td>18.635384</td>\n",
              "      <td>22.635384</td>\n",
              "      <td>0</td>\n",
              "      <td>2010</td>\n",
              "      <td>False</td>\n",
              "      <td>2.388305</td>\n",
              "    </tr>\n",
              "    <tr>\n",
              "      <th>3</th>\n",
              "      <td>28</td>\n",
              "      <td>BZ</td>\n",
              "      <td>Airbus A330</td>\n",
              "      <td>non-schengen</td>\n",
              "      <td>EMM</td>\n",
              "      <td>15.967963</td>\n",
              "      <td>17.967963</td>\n",
              "      <td>0</td>\n",
              "      <td>2010</td>\n",
              "      <td>False</td>\n",
              "      <td>19.138491</td>\n",
              "    </tr>\n",
              "    <tr>\n",
              "      <th>4</th>\n",
              "      <td>15</td>\n",
              "      <td>BZ</td>\n",
              "      <td>Airbus A330</td>\n",
              "      <td>non-schengen</td>\n",
              "      <td>FJB</td>\n",
              "      <td>16.571894</td>\n",
              "      <td>19.571894</td>\n",
              "      <td>0</td>\n",
              "      <td>2010</td>\n",
              "      <td>False</td>\n",
              "      <td>15.016271</td>\n",
              "    </tr>\n",
              "  </tbody>\n",
              "</table>\n",
              "</div>\n",
              "      <button class=\"colab-df-convert\" onclick=\"convertToInteractive('df-257e24ea-bb8e-4c8a-80d7-eb76b5e269de')\"\n",
              "              title=\"Convert this dataframe to an interactive table.\"\n",
              "              style=\"display:none;\">\n",
              "        \n",
              "  <svg xmlns=\"http://www.w3.org/2000/svg\" height=\"24px\"viewBox=\"0 0 24 24\"\n",
              "       width=\"24px\">\n",
              "    <path d=\"M0 0h24v24H0V0z\" fill=\"none\"/>\n",
              "    <path d=\"M18.56 5.44l.94 2.06.94-2.06 2.06-.94-2.06-.94-.94-2.06-.94 2.06-2.06.94zm-11 1L8.5 8.5l.94-2.06 2.06-.94-2.06-.94L8.5 2.5l-.94 2.06-2.06.94zm10 10l.94 2.06.94-2.06 2.06-.94-2.06-.94-.94-2.06-.94 2.06-2.06.94z\"/><path d=\"M17.41 7.96l-1.37-1.37c-.4-.4-.92-.59-1.43-.59-.52 0-1.04.2-1.43.59L10.3 9.45l-7.72 7.72c-.78.78-.78 2.05 0 2.83L4 21.41c.39.39.9.59 1.41.59.51 0 1.02-.2 1.41-.59l7.78-7.78 2.81-2.81c.8-.78.8-2.07 0-2.86zM5.41 20L4 18.59l7.72-7.72 1.47 1.35L5.41 20z\"/>\n",
              "  </svg>\n",
              "      </button>\n",
              "      \n",
              "  <style>\n",
              "    .colab-df-container {\n",
              "      display:flex;\n",
              "      flex-wrap:wrap;\n",
              "      gap: 12px;\n",
              "    }\n",
              "\n",
              "    .colab-df-convert {\n",
              "      background-color: #E8F0FE;\n",
              "      border: none;\n",
              "      border-radius: 50%;\n",
              "      cursor: pointer;\n",
              "      display: none;\n",
              "      fill: #1967D2;\n",
              "      height: 32px;\n",
              "      padding: 0 0 0 0;\n",
              "      width: 32px;\n",
              "    }\n",
              "\n",
              "    .colab-df-convert:hover {\n",
              "      background-color: #E2EBFA;\n",
              "      box-shadow: 0px 1px 2px rgba(60, 64, 67, 0.3), 0px 1px 3px 1px rgba(60, 64, 67, 0.15);\n",
              "      fill: #174EA6;\n",
              "    }\n",
              "\n",
              "    [theme=dark] .colab-df-convert {\n",
              "      background-color: #3B4455;\n",
              "      fill: #D2E3FC;\n",
              "    }\n",
              "\n",
              "    [theme=dark] .colab-df-convert:hover {\n",
              "      background-color: #434B5C;\n",
              "      box-shadow: 0px 1px 3px 1px rgba(0, 0, 0, 0.15);\n",
              "      filter: drop-shadow(0px 1px 2px rgba(0, 0, 0, 0.3));\n",
              "      fill: #FFFFFF;\n",
              "    }\n",
              "  </style>\n",
              "\n",
              "      <script>\n",
              "        const buttonEl =\n",
              "          document.querySelector('#df-257e24ea-bb8e-4c8a-80d7-eb76b5e269de button.colab-df-convert');\n",
              "        buttonEl.style.display =\n",
              "          google.colab.kernel.accessAllowed ? 'block' : 'none';\n",
              "\n",
              "        async function convertToInteractive(key) {\n",
              "          const element = document.querySelector('#df-257e24ea-bb8e-4c8a-80d7-eb76b5e269de');\n",
              "          const dataTable =\n",
              "            await google.colab.kernel.invokeFunction('convertToInteractive',\n",
              "                                                     [key], {});\n",
              "          if (!dataTable) return;\n",
              "\n",
              "          const docLinkHtml = 'Like what you see? Visit the ' +\n",
              "            '<a target=\"_blank\" href=https://colab.research.google.com/notebooks/data_table.ipynb>data table notebook</a>'\n",
              "            + ' to learn more about interactive tables.';\n",
              "          element.innerHTML = '';\n",
              "          dataTable['output_type'] = 'display_data';\n",
              "          await google.colab.output.renderOutput(dataTable, element);\n",
              "          const docLink = document.createElement('div');\n",
              "          docLink.innerHTML = docLinkHtml;\n",
              "          element.appendChild(docLink);\n",
              "        }\n",
              "      </script>\n",
              "    </div>\n",
              "  </div>\n",
              "  "
            ]
          },
          "metadata": {},
          "execution_count": 145
        }
      ]
    },
    {
      "cell_type": "code",
      "source": [
        "df.tail()"
      ],
      "metadata": {
        "colab": {
          "base_uri": "https://localhost:8080/",
          "height": 206
        },
        "id": "uFzq4N_OwIPY",
        "outputId": "8a014ceb-529f-41fd-a12f-4a6b2b265cb7"
      },
      "execution_count": 42,
      "outputs": [
        {
          "output_type": "execute_result",
          "data": {
            "text/plain": [
              "       flight_id airline aircraft_type      schengen origin  arrival_time  \\\n",
              "71170          3      BZ  Embraer E175      schengen    TZF     18.635384   \n",
              "71171         17      BZ   Airbus A330  non-schengen    CNU     16.718722   \n",
              "71172          7      MM    Boeing 787      schengen    TZF      8.564949   \n",
              "71173          5      BZ   Airbus A320      schengen    ZQO      9.344097   \n",
              "71174         29      BZ    Boeing 737      schengen    ZQO      8.591208   \n",
              "\n",
              "       departure_time  day  year  is_holiday      delay  \n",
              "71170       22.635384  364  2022        True  25.677277  \n",
              "71171       21.718722  364  2022        True  52.624348  \n",
              "71172       13.564949  364  2022        True  56.167080  \n",
              "71173       12.344097  364  2022        True  56.758844  \n",
              "71174       11.591208  364  2022        True  41.401648  "
            ],
            "text/html": [
              "\n",
              "  <div id=\"df-d68542c8-11d4-4046-a4a3-4335e1d50728\">\n",
              "    <div class=\"colab-df-container\">\n",
              "      <div>\n",
              "<style scoped>\n",
              "    .dataframe tbody tr th:only-of-type {\n",
              "        vertical-align: middle;\n",
              "    }\n",
              "\n",
              "    .dataframe tbody tr th {\n",
              "        vertical-align: top;\n",
              "    }\n",
              "\n",
              "    .dataframe thead th {\n",
              "        text-align: right;\n",
              "    }\n",
              "</style>\n",
              "<table border=\"1\" class=\"dataframe\">\n",
              "  <thead>\n",
              "    <tr style=\"text-align: right;\">\n",
              "      <th></th>\n",
              "      <th>flight_id</th>\n",
              "      <th>airline</th>\n",
              "      <th>aircraft_type</th>\n",
              "      <th>schengen</th>\n",
              "      <th>origin</th>\n",
              "      <th>arrival_time</th>\n",
              "      <th>departure_time</th>\n",
              "      <th>day</th>\n",
              "      <th>year</th>\n",
              "      <th>is_holiday</th>\n",
              "      <th>delay</th>\n",
              "    </tr>\n",
              "  </thead>\n",
              "  <tbody>\n",
              "    <tr>\n",
              "      <th>71170</th>\n",
              "      <td>3</td>\n",
              "      <td>BZ</td>\n",
              "      <td>Embraer E175</td>\n",
              "      <td>schengen</td>\n",
              "      <td>TZF</td>\n",
              "      <td>18.635384</td>\n",
              "      <td>22.635384</td>\n",
              "      <td>364</td>\n",
              "      <td>2022</td>\n",
              "      <td>True</td>\n",
              "      <td>25.677277</td>\n",
              "    </tr>\n",
              "    <tr>\n",
              "      <th>71171</th>\n",
              "      <td>17</td>\n",
              "      <td>BZ</td>\n",
              "      <td>Airbus A330</td>\n",
              "      <td>non-schengen</td>\n",
              "      <td>CNU</td>\n",
              "      <td>16.718722</td>\n",
              "      <td>21.718722</td>\n",
              "      <td>364</td>\n",
              "      <td>2022</td>\n",
              "      <td>True</td>\n",
              "      <td>52.624348</td>\n",
              "    </tr>\n",
              "    <tr>\n",
              "      <th>71172</th>\n",
              "      <td>7</td>\n",
              "      <td>MM</td>\n",
              "      <td>Boeing 787</td>\n",
              "      <td>schengen</td>\n",
              "      <td>TZF</td>\n",
              "      <td>8.564949</td>\n",
              "      <td>13.564949</td>\n",
              "      <td>364</td>\n",
              "      <td>2022</td>\n",
              "      <td>True</td>\n",
              "      <td>56.167080</td>\n",
              "    </tr>\n",
              "    <tr>\n",
              "      <th>71173</th>\n",
              "      <td>5</td>\n",
              "      <td>BZ</td>\n",
              "      <td>Airbus A320</td>\n",
              "      <td>schengen</td>\n",
              "      <td>ZQO</td>\n",
              "      <td>9.344097</td>\n",
              "      <td>12.344097</td>\n",
              "      <td>364</td>\n",
              "      <td>2022</td>\n",
              "      <td>True</td>\n",
              "      <td>56.758844</td>\n",
              "    </tr>\n",
              "    <tr>\n",
              "      <th>71174</th>\n",
              "      <td>29</td>\n",
              "      <td>BZ</td>\n",
              "      <td>Boeing 737</td>\n",
              "      <td>schengen</td>\n",
              "      <td>ZQO</td>\n",
              "      <td>8.591208</td>\n",
              "      <td>11.591208</td>\n",
              "      <td>364</td>\n",
              "      <td>2022</td>\n",
              "      <td>True</td>\n",
              "      <td>41.401648</td>\n",
              "    </tr>\n",
              "  </tbody>\n",
              "</table>\n",
              "</div>\n",
              "      <button class=\"colab-df-convert\" onclick=\"convertToInteractive('df-d68542c8-11d4-4046-a4a3-4335e1d50728')\"\n",
              "              title=\"Convert this dataframe to an interactive table.\"\n",
              "              style=\"display:none;\">\n",
              "        \n",
              "  <svg xmlns=\"http://www.w3.org/2000/svg\" height=\"24px\"viewBox=\"0 0 24 24\"\n",
              "       width=\"24px\">\n",
              "    <path d=\"M0 0h24v24H0V0z\" fill=\"none\"/>\n",
              "    <path d=\"M18.56 5.44l.94 2.06.94-2.06 2.06-.94-2.06-.94-.94-2.06-.94 2.06-2.06.94zm-11 1L8.5 8.5l.94-2.06 2.06-.94-2.06-.94L8.5 2.5l-.94 2.06-2.06.94zm10 10l.94 2.06.94-2.06 2.06-.94-2.06-.94-.94-2.06-.94 2.06-2.06.94z\"/><path d=\"M17.41 7.96l-1.37-1.37c-.4-.4-.92-.59-1.43-.59-.52 0-1.04.2-1.43.59L10.3 9.45l-7.72 7.72c-.78.78-.78 2.05 0 2.83L4 21.41c.39.39.9.59 1.41.59.51 0 1.02-.2 1.41-.59l7.78-7.78 2.81-2.81c.8-.78.8-2.07 0-2.86zM5.41 20L4 18.59l7.72-7.72 1.47 1.35L5.41 20z\"/>\n",
              "  </svg>\n",
              "      </button>\n",
              "      \n",
              "  <style>\n",
              "    .colab-df-container {\n",
              "      display:flex;\n",
              "      flex-wrap:wrap;\n",
              "      gap: 12px;\n",
              "    }\n",
              "\n",
              "    .colab-df-convert {\n",
              "      background-color: #E8F0FE;\n",
              "      border: none;\n",
              "      border-radius: 50%;\n",
              "      cursor: pointer;\n",
              "      display: none;\n",
              "      fill: #1967D2;\n",
              "      height: 32px;\n",
              "      padding: 0 0 0 0;\n",
              "      width: 32px;\n",
              "    }\n",
              "\n",
              "    .colab-df-convert:hover {\n",
              "      background-color: #E2EBFA;\n",
              "      box-shadow: 0px 1px 2px rgba(60, 64, 67, 0.3), 0px 1px 3px 1px rgba(60, 64, 67, 0.15);\n",
              "      fill: #174EA6;\n",
              "    }\n",
              "\n",
              "    [theme=dark] .colab-df-convert {\n",
              "      background-color: #3B4455;\n",
              "      fill: #D2E3FC;\n",
              "    }\n",
              "\n",
              "    [theme=dark] .colab-df-convert:hover {\n",
              "      background-color: #434B5C;\n",
              "      box-shadow: 0px 1px 3px 1px rgba(0, 0, 0, 0.15);\n",
              "      filter: drop-shadow(0px 1px 2px rgba(0, 0, 0, 0.3));\n",
              "      fill: #FFFFFF;\n",
              "    }\n",
              "  </style>\n",
              "\n",
              "      <script>\n",
              "        const buttonEl =\n",
              "          document.querySelector('#df-d68542c8-11d4-4046-a4a3-4335e1d50728 button.colab-df-convert');\n",
              "        buttonEl.style.display =\n",
              "          google.colab.kernel.accessAllowed ? 'block' : 'none';\n",
              "\n",
              "        async function convertToInteractive(key) {\n",
              "          const element = document.querySelector('#df-d68542c8-11d4-4046-a4a3-4335e1d50728');\n",
              "          const dataTable =\n",
              "            await google.colab.kernel.invokeFunction('convertToInteractive',\n",
              "                                                     [key], {});\n",
              "          if (!dataTable) return;\n",
              "\n",
              "          const docLinkHtml = 'Like what you see? Visit the ' +\n",
              "            '<a target=\"_blank\" href=https://colab.research.google.com/notebooks/data_table.ipynb>data table notebook</a>'\n",
              "            + ' to learn more about interactive tables.';\n",
              "          element.innerHTML = '';\n",
              "          dataTable['output_type'] = 'display_data';\n",
              "          await google.colab.output.renderOutput(dataTable, element);\n",
              "          const docLink = document.createElement('div');\n",
              "          docLink.innerHTML = docLinkHtml;\n",
              "          element.appendChild(docLink);\n",
              "        }\n",
              "      </script>\n",
              "    </div>\n",
              "  </div>\n",
              "  "
            ]
          },
          "metadata": {},
          "execution_count": 42
        }
      ]
    },
    {
      "cell_type": "code",
      "source": [
        "df.shape"
      ],
      "metadata": {
        "colab": {
          "base_uri": "https://localhost:8080/"
        },
        "id": "AItbkH5ErM0l",
        "outputId": "360fc39f-3f15-45fa-8ea8-cca69b82c7ad"
      },
      "execution_count": 5,
      "outputs": [
        {
          "output_type": "execute_result",
          "data": {
            "text/plain": [
              "(71175, 11)"
            ]
          },
          "metadata": {},
          "execution_count": 5
        }
      ]
    },
    {
      "cell_type": "code",
      "source": [
        "df.info()"
      ],
      "metadata": {
        "colab": {
          "base_uri": "https://localhost:8080/"
        },
        "id": "6uNPvzG2rOhA",
        "outputId": "02e95be4-a963-4e9c-fb8e-45ab2be09b4e"
      },
      "execution_count": 6,
      "outputs": [
        {
          "output_type": "stream",
          "name": "stdout",
          "text": [
            "<class 'pandas.core.frame.DataFrame'>\n",
            "RangeIndex: 71175 entries, 0 to 71174\n",
            "Data columns (total 11 columns):\n",
            " #   Column          Non-Null Count  Dtype  \n",
            "---  ------          --------------  -----  \n",
            " 0   flight_id       71175 non-null  int64  \n",
            " 1   airline         71175 non-null  object \n",
            " 2   aircraft_type   71175 non-null  object \n",
            " 3   schengen        71175 non-null  object \n",
            " 4   origin          71175 non-null  object \n",
            " 5   arrival_time    71175 non-null  float64\n",
            " 6   departure_time  71175 non-null  float64\n",
            " 7   day             71175 non-null  int64  \n",
            " 8   year            71175 non-null  int64  \n",
            " 9   is_holiday      71175 non-null  bool   \n",
            " 10  delay           71175 non-null  float64\n",
            "dtypes: bool(1), float64(3), int64(3), object(4)\n",
            "memory usage: 5.5+ MB\n"
          ]
        }
      ]
    },
    {
      "cell_type": "code",
      "source": [
        "df.nunique()"
      ],
      "metadata": {
        "colab": {
          "base_uri": "https://localhost:8080/"
        },
        "id": "vdJmY7NgrUNd",
        "outputId": "05e708cd-991b-4d1e-f413-b4ee3b31afe9"
      },
      "execution_count": 8,
      "outputs": [
        {
          "output_type": "execute_result",
          "data": {
            "text/plain": [
              "flight_id            30\n",
              "airline               3\n",
              "aircraft_type         6\n",
              "schengen              2\n",
              "origin               10\n",
              "arrival_time         30\n",
              "departure_time       30\n",
              "day                 365\n",
              "year                 13\n",
              "is_holiday            2\n",
              "delay             71175\n",
              "dtype: int64"
            ]
          },
          "metadata": {},
          "execution_count": 8
        }
      ]
    },
    {
      "cell_type": "code",
      "source": [
        "df['schengen'].value_counts(normalize=True)*100"
      ],
      "metadata": {
        "colab": {
          "base_uri": "https://localhost:8080/"
        },
        "id": "TmgcRpCEuACc",
        "outputId": "d6028252-6522-4f15-e743-ede0950f514c"
      },
      "execution_count": 29,
      "outputs": [
        {
          "output_type": "execute_result",
          "data": {
            "text/plain": [
              "schengen        59.808922\n",
              "non-schengen    40.191078\n",
              "Name: schengen, dtype: float64"
            ]
          },
          "metadata": {},
          "execution_count": 29
        }
      ]
    },
    {
      "cell_type": "code",
      "source": [
        "df['is_holiday'].value_counts(normalize=True)*100"
      ],
      "metadata": {
        "colab": {
          "base_uri": "https://localhost:8080/"
        },
        "id": "DGMA7AAGuHk0",
        "outputId": "06224eb7-2ead-4c9c-b171-9f7926cf8a66"
      },
      "execution_count": 30,
      "outputs": [
        {
          "output_type": "execute_result",
          "data": {
            "text/plain": [
              "False    94.520548\n",
              "True      5.479452\n",
              "Name: is_holiday, dtype: float64"
            ]
          },
          "metadata": {},
          "execution_count": 30
        }
      ]
    },
    {
      "cell_type": "markdown",
      "source": [
        "###**Data visualization**"
      ],
      "metadata": {
        "id": "k-JIE6x2lguh"
      }
    },
    {
      "cell_type": "code",
      "source": [
        "import matplotlib.pyplot as plt\n",
        "import seaborn as sns"
      ],
      "metadata": {
        "id": "tE8_yjtor7OA"
      },
      "execution_count": 12,
      "outputs": []
    },
    {
      "cell_type": "code",
      "source": [
        "order = df['airline'].value_counts().index\n",
        "sns.countplot(data=df, x='airline', order=order)\n",
        "plt.show()"
      ],
      "metadata": {
        "colab": {
          "base_uri": "https://localhost:8080/",
          "height": 449
        },
        "id": "0em9h6kxsXIr",
        "outputId": "3b72007c-fdee-476f-d047-b6329e079d1a"
      },
      "execution_count": 26,
      "outputs": [
        {
          "output_type": "display_data",
          "data": {
            "text/plain": [
              "<Figure size 640x480 with 1 Axes>"
            ],
            "image/png": "[encoded data removed]"
          },
          "metadata": {}
        }
      ]
    },
    {
      "cell_type": "code",
      "source": [
        "order = df['aircraft_type'].value_counts().index\n",
        "sns.countplot(data=df, x='aircraft_type', order = order)\n",
        "plt.xticks(rotation=70)\n",
        "plt.show()"
      ],
      "metadata": {
        "colab": {
          "base_uri": "https://localhost:8080/",
          "height": 534
        },
        "id": "Kk3O9eSvshsq",
        "outputId": "95eaf8d9-5b6a-4a60-b3a0-bfa1d6deec6c"
      },
      "execution_count": 25,
      "outputs": [
        {
          "output_type": "display_data",
          "data": {
            "text/plain": [
              "<Figure size 640x480 with 1 Axes>"
            ],
            "image/png": "[encoded data removed]"
          },
          "metadata": {}
        }
      ]
    },
    {
      "cell_type": "code",
      "source": [
        "sns.countplot(data=df, x='schengen')"
      ],
      "metadata": {
        "colab": {
          "base_uri": "https://localhost:8080/",
          "height": 467
        },
        "id": "24nE8D00tBI7",
        "outputId": "de2243d7-8d72-468f-a413-362e2900c0b1"
      },
      "execution_count": 22,
      "outputs": [
        {
          "output_type": "execute_result",
          "data": {
            "text/plain": [
              "<Axes: xlabel='schengen', ylabel='count'>"
            ]
          },
          "metadata": {},
          "execution_count": 22
        },
        {
          "output_type": "display_data",
          "data": {
            "text/plain": [
              "<Figure size 640x480 with 1 Axes>"
            ],
            "image/png": "[encoded data removed]"
          },
          "metadata": {}
        }
      ]
    },
    {
      "cell_type": "code",
      "source": [
        "order = df['origin'].value_counts().index\n",
        "sns.countplot(data=df, x='origin', order=order)\n",
        "plt.show()"
      ],
      "metadata": {
        "colab": {
          "base_uri": "https://localhost:8080/",
          "height": 449
        },
        "id": "o42C1femtG3h",
        "outputId": "9df368da-bd1d-447f-8476-14745ff58752"
      },
      "execution_count": 27,
      "outputs": [
        {
          "output_type": "display_data",
          "data": {
            "text/plain": [
              "<Figure size 640x480 with 1 Axes>"
            ],
            "image/png": "[encoded data removed]"
          },
          "metadata": {}
        }
      ]
    },
    {
      "cell_type": "code",
      "source": [
        "sns.displot(data=df, x='arrival_time', bins=10)\n",
        "plt.show()"
      ],
      "metadata": {
        "colab": {
          "base_uri": "https://localhost:8080/",
          "height": 506
        },
        "id": "1CnvlZASt56W",
        "outputId": "0a776c39-0e05-44d5-c79f-99a97d3517e9"
      },
      "execution_count": 37,
      "outputs": [
        {
          "output_type": "display_data",
          "data": {
            "text/plain": [
              "<Figure size 500x500 with 1 Axes>"
            ],
            "image/png": "[encoded data removed]"
          },
          "metadata": {}
        }
      ]
    },
    {
      "cell_type": "code",
      "source": [
        "sns.displot(data=df, x='departure_time', bins=10)\n",
        "plt.show()"
      ],
      "metadata": {
        "colab": {
          "base_uri": "https://localhost:8080/",
          "height": 506
        },
        "id": "ajAmX9rEt581",
        "outputId": "74cc3852-cfc0-49ae-f78d-147a6c38c00b"
      },
      "execution_count": 36,
      "outputs": [
        {
          "output_type": "display_data",
          "data": {
            "text/plain": [
              "<Figure size 500x500 with 1 Axes>"
            ],
            "image/png": "[encoded data removed]"
          },
          "metadata": {}
        }
      ]
    },
    {
      "cell_type": "code",
      "source": [
        "sns.boxplot(data=df, y='delay')\n",
        "plt.show()"
      ],
      "metadata": {
        "colab": {
          "base_uri": "https://localhost:8080/",
          "height": 460
        },
        "id": "N0tu4vZlvbT0",
        "outputId": "01aec3c5-4b3b-4589-8d09-ce65ee8411e8"
      },
      "execution_count": 146,
      "outputs": [
        {
          "output_type": "display_data",
          "data": {
            "text/plain": [
              "<Figure size 800x550 with 1 Axes>"
            ],
            "image/png": "[encoded data removed]"
          },
          "metadata": {}
        }
      ]
    },
    {
      "cell_type": "code",
      "source": [
        "df['delay'].mean()"
      ],
      "metadata": {
        "colab": {
          "base_uri": "https://localhost:8080/"
        },
        "id": "CwXznfILvS95",
        "outputId": "36820b3c-e30b-4d0b-f586-12b09088ba76"
      },
      "execution_count": 39,
      "outputs": [
        {
          "output_type": "execute_result",
          "data": {
            "text/plain": [
              "12.548378015698628"
            ]
          },
          "metadata": {},
          "execution_count": 39
        }
      ]
    },
    {
      "cell_type": "markdown",
      "source": [
        "#**Data processing**"
      ],
      "metadata": {
        "id": "MWfg5VVYlQtB"
      }
    },
    {
      "cell_type": "markdown",
      "source": [
        "###**Outliers treatment**"
      ],
      "metadata": {
        "id": "DcWkH6WsQpuh"
      }
    },
    {
      "cell_type": "code",
      "source": [
        "# Calculate the interquartile range (IQR)\n",
        "Q1 = df['delay'].quantile(0.25)\n",
        "Q3 = df['delay'].quantile(0.75)\n",
        "IQR = Q3 - Q1\n",
        "\n",
        "# Remove outliers\n",
        "df = df[(df['delay'] >= Q1 - 1.5 * IQR) & (df['delay'] <= Q3 + 1.5 * IQR)]"
      ],
      "metadata": {
        "id": "RgrPM9dNQwOT"
      },
      "execution_count": 147,
      "outputs": []
    },
    {
      "cell_type": "code",
      "source": [
        "sns.boxplot(data=df, y='delay')\n",
        "plt.show()"
      ],
      "metadata": {
        "colab": {
          "base_uri": "https://localhost:8080/",
          "height": 460
        },
        "id": "QDWZK9nlQwTb",
        "outputId": "8c55416f-c7b1-4503-dd55-e16f8685ce1c"
      },
      "execution_count": 149,
      "outputs": [
        {
          "output_type": "display_data",
          "data": {
            "text/plain": [
              "<Figure size 800x550 with 1 Axes>"
            ],
            "image/png": "[encoded data removed]"
          },
          "metadata": {}
        }
      ]
    },
    {
      "cell_type": "code",
      "source": [
        "df['delay'].mean()"
      ],
      "metadata": {
        "colab": {
          "base_uri": "https://localhost:8080/"
        },
        "id": "vgZGHfVdSKBZ",
        "outputId": "3f48c341-4c66-4af9-f731-50675fff38c6"
      },
      "execution_count": 150,
      "outputs": [
        {
          "output_type": "execute_result",
          "data": {
            "text/plain": [
              "11.877307979359534"
            ]
          },
          "metadata": {},
          "execution_count": 150
        }
      ]
    },
    {
      "cell_type": "markdown",
      "source": [
        "###**Feature engineering**"
      ],
      "metadata": {
        "id": "w6hqlVXwl1uf"
      }
    },
    {
      "cell_type": "code",
      "source": [
        "df.head()"
      ],
      "metadata": {
        "colab": {
          "base_uri": "https://localhost:8080/",
          "height": 206
        },
        "id": "aUdvf4AXmq9P",
        "outputId": "651524a2-e23a-47a3-a92f-b27be33ae684"
      },
      "execution_count": 43,
      "outputs": [
        {
          "output_type": "execute_result",
          "data": {
            "text/plain": [
              "   flight_id airline aircraft_type      schengen origin  arrival_time  \\\n",
              "0         26      MM   Airbus A320  non-schengen    TCY      8.885071   \n",
              "1         10      YE   Airbus A320  non-schengen    TCY      8.939996   \n",
              "2          3      BZ  Embraer E175      schengen    TZF     18.635384   \n",
              "3         28      BZ   Airbus A330  non-schengen    EMM     15.967963   \n",
              "4         15      BZ   Airbus A330  non-schengen    FJB     16.571894   \n",
              "\n",
              "   departure_time  day  year  is_holiday      delay  \n",
              "0       10.885071    0  2010       False  70.205981  \n",
              "1       11.939996    0  2010       False  38.484609  \n",
              "2       22.635384    0  2010       False   2.388305  \n",
              "3       17.967963    0  2010       False  19.138491  \n",
              "4       19.571894    0  2010       False  15.016271  "
            ],
            "text/html": [
              "\n",
              "  <div id=\"df-df1f0fda-32eb-4435-9173-bab49f05f3b5\">\n",
              "    <div class=\"colab-df-container\">\n",
              "      <div>\n",
              "<style scoped>\n",
              "    .dataframe tbody tr th:only-of-type {\n",
              "        vertical-align: middle;\n",
              "    }\n",
              "\n",
              "    .dataframe tbody tr th {\n",
              "        vertical-align: top;\n",
              "    }\n",
              "\n",
              "    .dataframe thead th {\n",
              "        text-align: right;\n",
              "    }\n",
              "</style>\n",
              "<table border=\"1\" class=\"dataframe\">\n",
              "  <thead>\n",
              "    <tr style=\"text-align: right;\">\n",
              "      <th></th>\n",
              "      <th>flight_id</th>\n",
              "      <th>airline</th>\n",
              "      <th>aircraft_type</th>\n",
              "      <th>schengen</th>\n",
              "      <th>origin</th>\n",
              "      <th>arrival_time</th>\n",
              "      <th>departure_time</th>\n",
              "      <th>day</th>\n",
              "      <th>year</th>\n",
              "      <th>is_holiday</th>\n",
              "      <th>delay</th>\n",
              "    </tr>\n",
              "  </thead>\n",
              "  <tbody>\n",
              "    <tr>\n",
              "      <th>0</th>\n",
              "      <td>26</td>\n",
              "      <td>MM</td>\n",
              "      <td>Airbus A320</td>\n",
              "      <td>non-schengen</td>\n",
              "      <td>TCY</td>\n",
              "      <td>8.885071</td>\n",
              "      <td>10.885071</td>\n",
              "      <td>0</td>\n",
              "      <td>2010</td>\n",
              "      <td>False</td>\n",
              "      <td>70.205981</td>\n",
              "    </tr>\n",
              "    <tr>\n",
              "      <th>1</th>\n",
              "      <td>10</td>\n",
              "      <td>YE</td>\n",
              "      <td>Airbus A320</td>\n",
              "      <td>non-schengen</td>\n",
              "      <td>TCY</td>\n",
              "      <td>8.939996</td>\n",
              "      <td>11.939996</td>\n",
              "      <td>0</td>\n",
              "      <td>2010</td>\n",
              "      <td>False</td>\n",
              "      <td>38.484609</td>\n",
              "    </tr>\n",
              "    <tr>\n",
              "      <th>2</th>\n",
              "      <td>3</td>\n",
              "      <td>BZ</td>\n",
              "      <td>Embraer E175</td>\n",
              "      <td>schengen</td>\n",
              "      <td>TZF</td>\n",
              "      <td>18.635384</td>\n",
              "      <td>22.635384</td>\n",
              "      <td>0</td>\n",
              "      <td>2010</td>\n",
              "      <td>False</td>\n",
              "      <td>2.388305</td>\n",
              "    </tr>\n",
              "    <tr>\n",
              "      <th>3</th>\n",
              "      <td>28</td>\n",
              "      <td>BZ</td>\n",
              "      <td>Airbus A330</td>\n",
              "      <td>non-schengen</td>\n",
              "      <td>EMM</td>\n",
              "      <td>15.967963</td>\n",
              "      <td>17.967963</td>\n",
              "      <td>0</td>\n",
              "      <td>2010</td>\n",
              "      <td>False</td>\n",
              "      <td>19.138491</td>\n",
              "    </tr>\n",
              "    <tr>\n",
              "      <th>4</th>\n",
              "      <td>15</td>\n",
              "      <td>BZ</td>\n",
              "      <td>Airbus A330</td>\n",
              "      <td>non-schengen</td>\n",
              "      <td>FJB</td>\n",
              "      <td>16.571894</td>\n",
              "      <td>19.571894</td>\n",
              "      <td>0</td>\n",
              "      <td>2010</td>\n",
              "      <td>False</td>\n",
              "      <td>15.016271</td>\n",
              "    </tr>\n",
              "  </tbody>\n",
              "</table>\n",
              "</div>\n",
              "      <button class=\"colab-df-convert\" onclick=\"convertToInteractive('df-df1f0fda-32eb-4435-9173-bab49f05f3b5')\"\n",
              "              title=\"Convert this dataframe to an interactive table.\"\n",
              "              style=\"display:none;\">\n",
              "        \n",
              "  <svg xmlns=\"http://www.w3.org/2000/svg\" height=\"24px\"viewBox=\"0 0 24 24\"\n",
              "       width=\"24px\">\n",
              "    <path d=\"M0 0h24v24H0V0z\" fill=\"none\"/>\n",
              "    <path d=\"M18.56 5.44l.94 2.06.94-2.06 2.06-.94-2.06-.94-.94-2.06-.94 2.06-2.06.94zm-11 1L8.5 8.5l.94-2.06 2.06-.94-2.06-.94L8.5 2.5l-.94 2.06-2.06.94zm10 10l.94 2.06.94-2.06 2.06-.94-2.06-.94-.94-2.06-.94 2.06-2.06.94z\"/><path d=\"M17.41 7.96l-1.37-1.37c-.4-.4-.92-.59-1.43-.59-.52 0-1.04.2-1.43.59L10.3 9.45l-7.72 7.72c-.78.78-.78 2.05 0 2.83L4 21.41c.39.39.9.59 1.41.59.51 0 1.02-.2 1.41-.59l7.78-7.78 2.81-2.81c.8-.78.8-2.07 0-2.86zM5.41 20L4 18.59l7.72-7.72 1.47 1.35L5.41 20z\"/>\n",
              "  </svg>\n",
              "      </button>\n",
              "      \n",
              "  <style>\n",
              "    .colab-df-container {\n",
              "      display:flex;\n",
              "      flex-wrap:wrap;\n",
              "      gap: 12px;\n",
              "    }\n",
              "\n",
              "    .colab-df-convert {\n",
              "      background-color: #E8F0FE;\n",
              "      border: none;\n",
              "      border-radius: 50%;\n",
              "      cursor: pointer;\n",
              "      display: none;\n",
              "      fill: #1967D2;\n",
              "      height: 32px;\n",
              "      padding: 0 0 0 0;\n",
              "      width: 32px;\n",
              "    }\n",
              "\n",
              "    .colab-df-convert:hover {\n",
              "      background-color: #E2EBFA;\n",
              "      box-shadow: 0px 1px 2px rgba(60, 64, 67, 0.3), 0px 1px 3px 1px rgba(60, 64, 67, 0.15);\n",
              "      fill: #174EA6;\n",
              "    }\n",
              "\n",
              "    [theme=dark] .colab-df-convert {\n",
              "      background-color: #3B4455;\n",
              "      fill: #D2E3FC;\n",
              "    }\n",
              "\n",
              "    [theme=dark] .colab-df-convert:hover {\n",
              "      background-color: #434B5C;\n",
              "      box-shadow: 0px 1px 3px 1px rgba(0, 0, 0, 0.15);\n",
              "      filter: drop-shadow(0px 1px 2px rgba(0, 0, 0, 0.3));\n",
              "      fill: #FFFFFF;\n",
              "    }\n",
              "  </style>\n",
              "\n",
              "      <script>\n",
              "        const buttonEl =\n",
              "          document.querySelector('#df-df1f0fda-32eb-4435-9173-bab49f05f3b5 button.colab-df-convert');\n",
              "        buttonEl.style.display =\n",
              "          google.colab.kernel.accessAllowed ? 'block' : 'none';\n",
              "\n",
              "        async function convertToInteractive(key) {\n",
              "          const element = document.querySelector('#df-df1f0fda-32eb-4435-9173-bab49f05f3b5');\n",
              "          const dataTable =\n",
              "            await google.colab.kernel.invokeFunction('convertToInteractive',\n",
              "                                                     [key], {});\n",
              "          if (!dataTable) return;\n",
              "\n",
              "          const docLinkHtml = 'Like what you see? Visit the ' +\n",
              "            '<a target=\"_blank\" href=https://colab.research.google.com/notebooks/data_table.ipynb>data table notebook</a>'\n",
              "            + ' to learn more about interactive tables.';\n",
              "          element.innerHTML = '';\n",
              "          dataTable['output_type'] = 'display_data';\n",
              "          await google.colab.output.renderOutput(dataTable, element);\n",
              "          const docLink = document.createElement('div');\n",
              "          docLink.innerHTML = docLinkHtml;\n",
              "          element.appendChild(docLink);\n",
              "        }\n",
              "      </script>\n",
              "    </div>\n",
              "  </div>\n",
              "  "
            ]
          },
          "metadata": {},
          "execution_count": 43
        }
      ]
    },
    {
      "cell_type": "code",
      "source": [
        "df['is_weekend'] = df['day'].apply(lambda day: day % 7 == 0 or day % 7 == 6)"
      ],
      "metadata": {
        "id": "LutmEC0Tw6na"
      },
      "execution_count": 151,
      "outputs": []
    },
    {
      "cell_type": "code",
      "source": [
        "df.head()"
      ],
      "metadata": {
        "colab": {
          "base_uri": "https://localhost:8080/",
          "height": 206
        },
        "id": "X1fR6vXnxGMx",
        "outputId": "70680c02-f9a6-4516-9dc8-8f9e25001170"
      },
      "execution_count": 152,
      "outputs": [
        {
          "output_type": "execute_result",
          "data": {
            "text/plain": [
              "   flight_id airline aircraft_type      schengen origin  arrival_time  \\\n",
              "0         26      MM   Airbus A320  non-schengen    TCY      8.885071   \n",
              "1         10      YE   Airbus A320  non-schengen    TCY      8.939996   \n",
              "2          3      BZ  Embraer E175      schengen    TZF     18.635384   \n",
              "3         28      BZ   Airbus A330  non-schengen    EMM     15.967963   \n",
              "4         15      BZ   Airbus A330  non-schengen    FJB     16.571894   \n",
              "\n",
              "   departure_time  day  year  is_holiday      delay  is_weekend  \n",
              "0       10.885071    0  2010       False  70.205981        True  \n",
              "1       11.939996    0  2010       False  38.484609        True  \n",
              "2       22.635384    0  2010       False   2.388305        True  \n",
              "3       17.967963    0  2010       False  19.138491        True  \n",
              "4       19.571894    0  2010       False  15.016271        True  "
            ],
            "text/html": [
              "\n",
              "  <div id=\"df-7c01be51-feef-47a0-a5e1-e2ad1a952ee9\">\n",
              "    <div class=\"colab-df-container\">\n",
              "      <div>\n",
              "<style scoped>\n",
              "    .dataframe tbody tr th:only-of-type {\n",
              "        vertical-align: middle;\n",
              "    }\n",
              "\n",
              "    .dataframe tbody tr th {\n",
              "        vertical-align: top;\n",
              "    }\n",
              "\n",
              "    .dataframe thead th {\n",
              "        text-align: right;\n",
              "    }\n",
              "</style>\n",
              "<table border=\"1\" class=\"dataframe\">\n",
              "  <thead>\n",
              "    <tr style=\"text-align: right;\">\n",
              "      <th></th>\n",
              "      <th>flight_id</th>\n",
              "      <th>airline</th>\n",
              "      <th>aircraft_type</th>\n",
              "      <th>schengen</th>\n",
              "      <th>origin</th>\n",
              "      <th>arrival_time</th>\n",
              "      <th>departure_time</th>\n",
              "      <th>day</th>\n",
              "      <th>year</th>\n",
              "      <th>is_holiday</th>\n",
              "      <th>delay</th>\n",
              "      <th>is_weekend</th>\n",
              "    </tr>\n",
              "  </thead>\n",
              "  <tbody>\n",
              "    <tr>\n",
              "      <th>0</th>\n",
              "      <td>26</td>\n",
              "      <td>MM</td>\n",
              "      <td>Airbus A320</td>\n",
              "      <td>non-schengen</td>\n",
              "      <td>TCY</td>\n",
              "      <td>8.885071</td>\n",
              "      <td>10.885071</td>\n",
              "      <td>0</td>\n",
              "      <td>2010</td>\n",
              "      <td>False</td>\n",
              "      <td>70.205981</td>\n",
              "      <td>True</td>\n",
              "    </tr>\n",
              "    <tr>\n",
              "      <th>1</th>\n",
              "      <td>10</td>\n",
              "      <td>YE</td>\n",
              "      <td>Airbus A320</td>\n",
              "      <td>non-schengen</td>\n",
              "      <td>TCY</td>\n",
              "      <td>8.939996</td>\n",
              "      <td>11.939996</td>\n",
              "      <td>0</td>\n",
              "      <td>2010</td>\n",
              "      <td>False</td>\n",
              "      <td>38.484609</td>\n",
              "      <td>True</td>\n",
              "    </tr>\n",
              "    <tr>\n",
              "      <th>2</th>\n",
              "      <td>3</td>\n",
              "      <td>BZ</td>\n",
              "      <td>Embraer E175</td>\n",
              "      <td>schengen</td>\n",
              "      <td>TZF</td>\n",
              "      <td>18.635384</td>\n",
              "      <td>22.635384</td>\n",
              "      <td>0</td>\n",
              "      <td>2010</td>\n",
              "      <td>False</td>\n",
              "      <td>2.388305</td>\n",
              "      <td>True</td>\n",
              "    </tr>\n",
              "    <tr>\n",
              "      <th>3</th>\n",
              "      <td>28</td>\n",
              "      <td>BZ</td>\n",
              "      <td>Airbus A330</td>\n",
              "      <td>non-schengen</td>\n",
              "      <td>EMM</td>\n",
              "      <td>15.967963</td>\n",
              "      <td>17.967963</td>\n",
              "      <td>0</td>\n",
              "      <td>2010</td>\n",
              "      <td>False</td>\n",
              "      <td>19.138491</td>\n",
              "      <td>True</td>\n",
              "    </tr>\n",
              "    <tr>\n",
              "      <th>4</th>\n",
              "      <td>15</td>\n",
              "      <td>BZ</td>\n",
              "      <td>Airbus A330</td>\n",
              "      <td>non-schengen</td>\n",
              "      <td>FJB</td>\n",
              "      <td>16.571894</td>\n",
              "      <td>19.571894</td>\n",
              "      <td>0</td>\n",
              "      <td>2010</td>\n",
              "      <td>False</td>\n",
              "      <td>15.016271</td>\n",
              "      <td>True</td>\n",
              "    </tr>\n",
              "  </tbody>\n",
              "</table>\n",
              "</div>\n",
              "      <button class=\"colab-df-convert\" onclick=\"convertToInteractive('df-7c01be51-feef-47a0-a5e1-e2ad1a952ee9')\"\n",
              "              title=\"Convert this dataframe to an interactive table.\"\n",
              "              style=\"display:none;\">\n",
              "        \n",
              "  <svg xmlns=\"http://www.w3.org/2000/svg\" height=\"24px\"viewBox=\"0 0 24 24\"\n",
              "       width=\"24px\">\n",
              "    <path d=\"M0 0h24v24H0V0z\" fill=\"none\"/>\n",
              "    <path d=\"M18.56 5.44l.94 2.06.94-2.06 2.06-.94-2.06-.94-.94-2.06-.94 2.06-2.06.94zm-11 1L8.5 8.5l.94-2.06 2.06-.94-2.06-.94L8.5 2.5l-.94 2.06-2.06.94zm10 10l.94 2.06.94-2.06 2.06-.94-2.06-.94-.94-2.06-.94 2.06-2.06.94z\"/><path d=\"M17.41 7.96l-1.37-1.37c-.4-.4-.92-.59-1.43-.59-.52 0-1.04.2-1.43.59L10.3 9.45l-7.72 7.72c-.78.78-.78 2.05 0 2.83L4 21.41c.39.39.9.59 1.41.59.51 0 1.02-.2 1.41-.59l7.78-7.78 2.81-2.81c.8-.78.8-2.07 0-2.86zM5.41 20L4 18.59l7.72-7.72 1.47 1.35L5.41 20z\"/>\n",
              "  </svg>\n",
              "      </button>\n",
              "      \n",
              "  <style>\n",
              "    .colab-df-container {\n",
              "      display:flex;\n",
              "      flex-wrap:wrap;\n",
              "      gap: 12px;\n",
              "    }\n",
              "\n",
              "    .colab-df-convert {\n",
              "      background-color: #E8F0FE;\n",
              "      border: none;\n",
              "      border-radius: 50%;\n",
              "      cursor: pointer;\n",
              "      display: none;\n",
              "      fill: #1967D2;\n",
              "      height: 32px;\n",
              "      padding: 0 0 0 0;\n",
              "      width: 32px;\n",
              "    }\n",
              "\n",
              "    .colab-df-convert:hover {\n",
              "      background-color: #E2EBFA;\n",
              "      box-shadow: 0px 1px 2px rgba(60, 64, 67, 0.3), 0px 1px 3px 1px rgba(60, 64, 67, 0.15);\n",
              "      fill: #174EA6;\n",
              "    }\n",
              "\n",
              "    [theme=dark] .colab-df-convert {\n",
              "      background-color: #3B4455;\n",
              "      fill: #D2E3FC;\n",
              "    }\n",
              "\n",
              "    [theme=dark] .colab-df-convert:hover {\n",
              "      background-color: #434B5C;\n",
              "      box-shadow: 0px 1px 3px 1px rgba(0, 0, 0, 0.15);\n",
              "      filter: drop-shadow(0px 1px 2px rgba(0, 0, 0, 0.3));\n",
              "      fill: #FFFFFF;\n",
              "    }\n",
              "  </style>\n",
              "\n",
              "      <script>\n",
              "        const buttonEl =\n",
              "          document.querySelector('#df-7c01be51-feef-47a0-a5e1-e2ad1a952ee9 button.colab-df-convert');\n",
              "        buttonEl.style.display =\n",
              "          google.colab.kernel.accessAllowed ? 'block' : 'none';\n",
              "\n",
              "        async function convertToInteractive(key) {\n",
              "          const element = document.querySelector('#df-7c01be51-feef-47a0-a5e1-e2ad1a952ee9');\n",
              "          const dataTable =\n",
              "            await google.colab.kernel.invokeFunction('convertToInteractive',\n",
              "                                                     [key], {});\n",
              "          if (!dataTable) return;\n",
              "\n",
              "          const docLinkHtml = 'Like what you see? Visit the ' +\n",
              "            '<a target=\"_blank\" href=https://colab.research.google.com/notebooks/data_table.ipynb>data table notebook</a>'\n",
              "            + ' to learn more about interactive tables.';\n",
              "          element.innerHTML = '';\n",
              "          dataTable['output_type'] = 'display_data';\n",
              "          await google.colab.output.renderOutput(dataTable, element);\n",
              "          const docLink = document.createElement('div');\n",
              "          docLink.innerHTML = docLinkHtml;\n",
              "          element.appendChild(docLink);\n",
              "        }\n",
              "      </script>\n",
              "    </div>\n",
              "  </div>\n",
              "  "
            ]
          },
          "metadata": {},
          "execution_count": 152
        }
      ]
    },
    {
      "cell_type": "markdown",
      "source": [
        "###**Feature Encoding**"
      ],
      "metadata": {
        "id": "ogJPKrcBln-j"
      }
    },
    {
      "cell_type": "code",
      "source": [
        "df['schengen'].unique()"
      ],
      "metadata": {
        "colab": {
          "base_uri": "https://localhost:8080/"
        },
        "id": "E7aWj6lORvY_",
        "outputId": "3ab9f49d-872d-41c5-b1ed-756da00990a6"
      },
      "execution_count": 153,
      "outputs": [
        {
          "output_type": "execute_result",
          "data": {
            "text/plain": [
              "array(['non-schengen', 'schengen'], dtype=object)"
            ]
          },
          "metadata": {},
          "execution_count": 153
        }
      ]
    },
    {
      "cell_type": "code",
      "source": [
        "df['is_holiday'].unique()"
      ],
      "metadata": {
        "colab": {
          "base_uri": "https://localhost:8080/"
        },
        "id": "TyAecvHbSYbN",
        "outputId": "43cc70f3-0b6a-4d7f-b6c4-816beea3546c"
      },
      "execution_count": 154,
      "outputs": [
        {
          "output_type": "execute_result",
          "data": {
            "text/plain": [
              "array([False,  True])"
            ]
          },
          "metadata": {},
          "execution_count": 154
        }
      ]
    },
    {
      "cell_type": "code",
      "source": [
        "df['schengen'] = df['schengen'].map({'non-schengen': 0, 'schengen': 1})\n",
        "df['is_holiday'] = df['is_holiday'].map({False: 0, True: 1})\n",
        "df['is_weekend'] = df['is_weekend'].map({False: 0, True: 1})"
      ],
      "metadata": {
        "id": "osVifmN_mrC0"
      },
      "execution_count": 155,
      "outputs": []
    },
    {
      "cell_type": "code",
      "source": [
        "df.head()"
      ],
      "metadata": {
        "colab": {
          "base_uri": "https://localhost:8080/",
          "height": 206
        },
        "id": "ES8vIWxemrgY",
        "outputId": "08c8aeaa-5b54-4ab9-aa92-3f6e75c2715a"
      },
      "execution_count": 156,
      "outputs": [
        {
          "output_type": "execute_result",
          "data": {
            "text/plain": [
              "   flight_id airline aircraft_type  schengen origin  arrival_time  \\\n",
              "0         26      MM   Airbus A320         0    TCY      8.885071   \n",
              "1         10      YE   Airbus A320         0    TCY      8.939996   \n",
              "2          3      BZ  Embraer E175         1    TZF     18.635384   \n",
              "3         28      BZ   Airbus A330         0    EMM     15.967963   \n",
              "4         15      BZ   Airbus A330         0    FJB     16.571894   \n",
              "\n",
              "   departure_time  day  year  is_holiday      delay  is_weekend  \n",
              "0       10.885071    0  2010           0  70.205981           1  \n",
              "1       11.939996    0  2010           0  38.484609           1  \n",
              "2       22.635384    0  2010           0   2.388305           1  \n",
              "3       17.967963    0  2010           0  19.138491           1  \n",
              "4       19.571894    0  2010           0  15.016271           1  "
            ],
            "text/html": [
              "\n",
              "  <div id=\"df-ff9fc543-270a-4d30-8c4f-bcd1e781a6d5\">\n",
              "    <div class=\"colab-df-container\">\n",
              "      <div>\n",
              "<style scoped>\n",
              "    .dataframe tbody tr th:only-of-type {\n",
              "        vertical-align: middle;\n",
              "    }\n",
              "\n",
              "    .dataframe tbody tr th {\n",
              "        vertical-align: top;\n",
              "    }\n",
              "\n",
              "    .dataframe thead th {\n",
              "        text-align: right;\n",
              "    }\n",
              "</style>\n",
              "<table border=\"1\" class=\"dataframe\">\n",
              "  <thead>\n",
              "    <tr style=\"text-align: right;\">\n",
              "      <th></th>\n",
              "      <th>flight_id</th>\n",
              "      <th>airline</th>\n",
              "      <th>aircraft_type</th>\n",
              "      <th>schengen</th>\n",
              "      <th>origin</th>\n",
              "      <th>arrival_time</th>\n",
              "      <th>departure_time</th>\n",
              "      <th>day</th>\n",
              "      <th>year</th>\n",
              "      <th>is_holiday</th>\n",
              "      <th>delay</th>\n",
              "      <th>is_weekend</th>\n",
              "    </tr>\n",
              "  </thead>\n",
              "  <tbody>\n",
              "    <tr>\n",
              "      <th>0</th>\n",
              "      <td>26</td>\n",
              "      <td>MM</td>\n",
              "      <td>Airbus A320</td>\n",
              "      <td>0</td>\n",
              "      <td>TCY</td>\n",
              "      <td>8.885071</td>\n",
              "      <td>10.885071</td>\n",
              "      <td>0</td>\n",
              "      <td>2010</td>\n",
              "      <td>0</td>\n",
              "      <td>70.205981</td>\n",
              "      <td>1</td>\n",
              "    </tr>\n",
              "    <tr>\n",
              "      <th>1</th>\n",
              "      <td>10</td>\n",
              "      <td>YE</td>\n",
              "      <td>Airbus A320</td>\n",
              "      <td>0</td>\n",
              "      <td>TCY</td>\n",
              "      <td>8.939996</td>\n",
              "      <td>11.939996</td>\n",
              "      <td>0</td>\n",
              "      <td>2010</td>\n",
              "      <td>0</td>\n",
              "      <td>38.484609</td>\n",
              "      <td>1</td>\n",
              "    </tr>\n",
              "    <tr>\n",
              "      <th>2</th>\n",
              "      <td>3</td>\n",
              "      <td>BZ</td>\n",
              "      <td>Embraer E175</td>\n",
              "      <td>1</td>\n",
              "      <td>TZF</td>\n",
              "      <td>18.635384</td>\n",
              "      <td>22.635384</td>\n",
              "      <td>0</td>\n",
              "      <td>2010</td>\n",
              "      <td>0</td>\n",
              "      <td>2.388305</td>\n",
              "      <td>1</td>\n",
              "    </tr>\n",
              "    <tr>\n",
              "      <th>3</th>\n",
              "      <td>28</td>\n",
              "      <td>BZ</td>\n",
              "      <td>Airbus A330</td>\n",
              "      <td>0</td>\n",
              "      <td>EMM</td>\n",
              "      <td>15.967963</td>\n",
              "      <td>17.967963</td>\n",
              "      <td>0</td>\n",
              "      <td>2010</td>\n",
              "      <td>0</td>\n",
              "      <td>19.138491</td>\n",
              "      <td>1</td>\n",
              "    </tr>\n",
              "    <tr>\n",
              "      <th>4</th>\n",
              "      <td>15</td>\n",
              "      <td>BZ</td>\n",
              "      <td>Airbus A330</td>\n",
              "      <td>0</td>\n",
              "      <td>FJB</td>\n",
              "      <td>16.571894</td>\n",
              "      <td>19.571894</td>\n",
              "      <td>0</td>\n",
              "      <td>2010</td>\n",
              "      <td>0</td>\n",
              "      <td>15.016271</td>\n",
              "      <td>1</td>\n",
              "    </tr>\n",
              "  </tbody>\n",
              "</table>\n",
              "</div>\n",
              "      <button class=\"colab-df-convert\" onclick=\"convertToInteractive('df-ff9fc543-270a-4d30-8c4f-bcd1e781a6d5')\"\n",
              "              title=\"Convert this dataframe to an interactive table.\"\n",
              "              style=\"display:none;\">\n",
              "        \n",
              "  <svg xmlns=\"http://www.w3.org/2000/svg\" height=\"24px\"viewBox=\"0 0 24 24\"\n",
              "       width=\"24px\">\n",
              "    <path d=\"M0 0h24v24H0V0z\" fill=\"none\"/>\n",
              "    <path d=\"M18.56 5.44l.94 2.06.94-2.06 2.06-.94-2.06-.94-.94-2.06-.94 2.06-2.06.94zm-11 1L8.5 8.5l.94-2.06 2.06-.94-2.06-.94L8.5 2.5l-.94 2.06-2.06.94zm10 10l.94 2.06.94-2.06 2.06-.94-2.06-.94-.94-2.06-.94 2.06-2.06.94z\"/><path d=\"M17.41 7.96l-1.37-1.37c-.4-.4-.92-.59-1.43-.59-.52 0-1.04.2-1.43.59L10.3 9.45l-7.72 7.72c-.78.78-.78 2.05 0 2.83L4 21.41c.39.39.9.59 1.41.59.51 0 1.02-.2 1.41-.59l7.78-7.78 2.81-2.81c.8-.78.8-2.07 0-2.86zM5.41 20L4 18.59l7.72-7.72 1.47 1.35L5.41 20z\"/>\n",
              "  </svg>\n",
              "      </button>\n",
              "      \n",
              "  <style>\n",
              "    .colab-df-container {\n",
              "      display:flex;\n",
              "      flex-wrap:wrap;\n",
              "      gap: 12px;\n",
              "    }\n",
              "\n",
              "    .colab-df-convert {\n",
              "      background-color: #E8F0FE;\n",
              "      border: none;\n",
              "      border-radius: 50%;\n",
              "      cursor: pointer;\n",
              "      display: none;\n",
              "      fill: #1967D2;\n",
              "      height: 32px;\n",
              "      padding: 0 0 0 0;\n",
              "      width: 32px;\n",
              "    }\n",
              "\n",
              "    .colab-df-convert:hover {\n",
              "      background-color: #E2EBFA;\n",
              "      box-shadow: 0px 1px 2px rgba(60, 64, 67, 0.3), 0px 1px 3px 1px rgba(60, 64, 67, 0.15);\n",
              "      fill: #174EA6;\n",
              "    }\n",
              "\n",
              "    [theme=dark] .colab-df-convert {\n",
              "      background-color: #3B4455;\n",
              "      fill: #D2E3FC;\n",
              "    }\n",
              "\n",
              "    [theme=dark] .colab-df-convert:hover {\n",
              "      background-color: #434B5C;\n",
              "      box-shadow: 0px 1px 3px 1px rgba(0, 0, 0, 0.15);\n",
              "      filter: drop-shadow(0px 1px 2px rgba(0, 0, 0, 0.3));\n",
              "      fill: #FFFFFF;\n",
              "    }\n",
              "  </style>\n",
              "\n",
              "      <script>\n",
              "        const buttonEl =\n",
              "          document.querySelector('#df-ff9fc543-270a-4d30-8c4f-bcd1e781a6d5 button.colab-df-convert');\n",
              "        buttonEl.style.display =\n",
              "          google.colab.kernel.accessAllowed ? 'block' : 'none';\n",
              "\n",
              "        async function convertToInteractive(key) {\n",
              "          const element = document.querySelector('#df-ff9fc543-270a-4d30-8c4f-bcd1e781a6d5');\n",
              "          const dataTable =\n",
              "            await google.colab.kernel.invokeFunction('convertToInteractive',\n",
              "                                                     [key], {});\n",
              "          if (!dataTable) return;\n",
              "\n",
              "          const docLinkHtml = 'Like what you see? Visit the ' +\n",
              "            '<a target=\"_blank\" href=https://colab.research.google.com/notebooks/data_table.ipynb>data table notebook</a>'\n",
              "            + ' to learn more about interactive tables.';\n",
              "          element.innerHTML = '';\n",
              "          dataTable['output_type'] = 'display_data';\n",
              "          await google.colab.output.renderOutput(dataTable, element);\n",
              "          const docLink = document.createElement('div');\n",
              "          docLink.innerHTML = docLinkHtml;\n",
              "          element.appendChild(docLink);\n",
              "        }\n",
              "      </script>\n",
              "    </div>\n",
              "  </div>\n",
              "  "
            ]
          },
          "metadata": {},
          "execution_count": 156
        }
      ]
    },
    {
      "cell_type": "markdown",
      "source": [
        "###**Handling categorical variables**"
      ],
      "metadata": {
        "id": "bFMc5eGbl48x"
      }
    },
    {
      "cell_type": "code",
      "source": [
        "# List of categorical variables\n",
        "categorical_vars = ['airline', 'aircraft_type', 'origin']\n",
        "\n",
        "# one-hot encoding\n",
        "df_encoded = pd.get_dummies(df, columns=categorical_vars, dtype=int)"
      ],
      "metadata": {
        "id": "esDevxsqmsDe"
      },
      "execution_count": 157,
      "outputs": []
    },
    {
      "cell_type": "code",
      "source": [
        "df_encoded.head()"
      ],
      "metadata": {
        "colab": {
          "base_uri": "https://localhost:8080/",
          "height": 299
        },
        "id": "RJKT3YivmsGT",
        "outputId": "9632f890-bf7a-4390-967d-92b2839df57d"
      },
      "execution_count": 158,
      "outputs": [
        {
          "output_type": "execute_result",
          "data": {
            "text/plain": [
              "   flight_id  schengen  arrival_time  departure_time  day  year  is_holiday  \\\n",
              "0         26         0      8.885071       10.885071    0  2010           0   \n",
              "1         10         0      8.939996       11.939996    0  2010           0   \n",
              "2          3         1     18.635384       22.635384    0  2010           0   \n",
              "3         28         0     15.967963       17.967963    0  2010           0   \n",
              "4         15         0     16.571894       19.571894    0  2010           0   \n",
              "\n",
              "       delay  is_weekend  airline_BZ  ...  origin_AUZ  origin_CNU  origin_CSF  \\\n",
              "0  70.205981           1           0  ...           0           0           0   \n",
              "1  38.484609           1           0  ...           0           0           0   \n",
              "2   2.388305           1           1  ...           0           0           0   \n",
              "3  19.138491           1           1  ...           0           0           0   \n",
              "4  15.016271           1           1  ...           0           0           0   \n",
              "\n",
              "   origin_EMM  origin_FJB  origin_MWL  origin_PUA  origin_TCY  origin_TZF  \\\n",
              "0           0           0           0           0           1           0   \n",
              "1           0           0           0           0           1           0   \n",
              "2           0           0           0           0           0           1   \n",
              "3           1           0           0           0           0           0   \n",
              "4           0           1           0           0           0           0   \n",
              "\n",
              "   origin_ZQO  \n",
              "0           0  \n",
              "1           0  \n",
              "2           0  \n",
              "3           0  \n",
              "4           0  \n",
              "\n",
              "[5 rows x 28 columns]"
            ],
            "text/html": [
              "\n",
              "  <div id=\"df-5e2b6245-5304-4cce-9ed0-b25d7f748eec\">\n",
              "    <div class=\"colab-df-container\">\n",
              "      <div>\n",
              "<style scoped>\n",
              "    .dataframe tbody tr th:only-of-type {\n",
              "        vertical-align: middle;\n",
              "    }\n",
              "\n",
              "    .dataframe tbody tr th {\n",
              "        vertical-align: top;\n",
              "    }\n",
              "\n",
              "    .dataframe thead th {\n",
              "        text-align: right;\n",
              "    }\n",
              "</style>\n",
              "<table border=\"1\" class=\"dataframe\">\n",
              "  <thead>\n",
              "    <tr style=\"text-align: right;\">\n",
              "      <th></th>\n",
              "      <th>flight_id</th>\n",
              "      <th>schengen</th>\n",
              "      <th>arrival_time</th>\n",
              "      <th>departure_time</th>\n",
              "      <th>day</th>\n",
              "      <th>year</th>\n",
              "      <th>is_holiday</th>\n",
              "      <th>delay</th>\n",
              "      <th>is_weekend</th>\n",
              "      <th>airline_BZ</th>\n",
              "      <th>...</th>\n",
              "      <th>origin_AUZ</th>\n",
              "      <th>origin_CNU</th>\n",
              "      <th>origin_CSF</th>\n",
              "      <th>origin_EMM</th>\n",
              "      <th>origin_FJB</th>\n",
              "      <th>origin_MWL</th>\n",
              "      <th>origin_PUA</th>\n",
              "      <th>origin_TCY</th>\n",
              "      <th>origin_TZF</th>\n",
              "      <th>origin_ZQO</th>\n",
              "    </tr>\n",
              "  </thead>\n",
              "  <tbody>\n",
              "    <tr>\n",
              "      <th>0</th>\n",
              "      <td>26</td>\n",
              "      <td>0</td>\n",
              "      <td>8.885071</td>\n",
              "      <td>10.885071</td>\n",
              "      <td>0</td>\n",
              "      <td>2010</td>\n",
              "      <td>0</td>\n",
              "      <td>70.205981</td>\n",
              "      <td>1</td>\n",
              "      <td>0</td>\n",
              "      <td>...</td>\n",
              "      <td>0</td>\n",
              "      <td>0</td>\n",
              "      <td>0</td>\n",
              "      <td>0</td>\n",
              "      <td>0</td>\n",
              "      <td>0</td>\n",
              "      <td>0</td>\n",
              "      <td>1</td>\n",
              "      <td>0</td>\n",
              "      <td>0</td>\n",
              "    </tr>\n",
              "    <tr>\n",
              "      <th>1</th>\n",
              "      <td>10</td>\n",
              "      <td>0</td>\n",
              "      <td>8.939996</td>\n",
              "      <td>11.939996</td>\n",
              "      <td>0</td>\n",
              "      <td>2010</td>\n",
              "      <td>0</td>\n",
              "      <td>38.484609</td>\n",
              "      <td>1</td>\n",
              "      <td>0</td>\n",
              "      <td>...</td>\n",
              "      <td>0</td>\n",
              "      <td>0</td>\n",
              "      <td>0</td>\n",
              "      <td>0</td>\n",
              "      <td>0</td>\n",
              "      <td>0</td>\n",
              "      <td>0</td>\n",
              "      <td>1</td>\n",
              "      <td>0</td>\n",
              "      <td>0</td>\n",
              "    </tr>\n",
              "    <tr>\n",
              "      <th>2</th>\n",
              "      <td>3</td>\n",
              "      <td>1</td>\n",
              "      <td>18.635384</td>\n",
              "      <td>22.635384</td>\n",
              "      <td>0</td>\n",
              "      <td>2010</td>\n",
              "      <td>0</td>\n",
              "      <td>2.388305</td>\n",
              "      <td>1</td>\n",
              "      <td>1</td>\n",
              "      <td>...</td>\n",
              "      <td>0</td>\n",
              "      <td>0</td>\n",
              "      <td>0</td>\n",
              "      <td>0</td>\n",
              "      <td>0</td>\n",
              "      <td>0</td>\n",
              "      <td>0</td>\n",
              "      <td>0</td>\n",
              "      <td>1</td>\n",
              "      <td>0</td>\n",
              "    </tr>\n",
              "    <tr>\n",
              "      <th>3</th>\n",
              "      <td>28</td>\n",
              "      <td>0</td>\n",
              "      <td>15.967963</td>\n",
              "      <td>17.967963</td>\n",
              "      <td>0</td>\n",
              "      <td>2010</td>\n",
              "      <td>0</td>\n",
              "      <td>19.138491</td>\n",
              "      <td>1</td>\n",
              "      <td>1</td>\n",
              "      <td>...</td>\n",
              "      <td>0</td>\n",
              "      <td>0</td>\n",
              "      <td>0</td>\n",
              "      <td>1</td>\n",
              "      <td>0</td>\n",
              "      <td>0</td>\n",
              "      <td>0</td>\n",
              "      <td>0</td>\n",
              "      <td>0</td>\n",
              "      <td>0</td>\n",
              "    </tr>\n",
              "    <tr>\n",
              "      <th>4</th>\n",
              "      <td>15</td>\n",
              "      <td>0</td>\n",
              "      <td>16.571894</td>\n",
              "      <td>19.571894</td>\n",
              "      <td>0</td>\n",
              "      <td>2010</td>\n",
              "      <td>0</td>\n",
              "      <td>15.016271</td>\n",
              "      <td>1</td>\n",
              "      <td>1</td>\n",
              "      <td>...</td>\n",
              "      <td>0</td>\n",
              "      <td>0</td>\n",
              "      <td>0</td>\n",
              "      <td>0</td>\n",
              "      <td>1</td>\n",
              "      <td>0</td>\n",
              "      <td>0</td>\n",
              "      <td>0</td>\n",
              "      <td>0</td>\n",
              "      <td>0</td>\n",
              "    </tr>\n",
              "  </tbody>\n",
              "</table>\n",
              "<p>5 rows × 28 columns</p>\n",
              "</div>\n",
              "      <button class=\"colab-df-convert\" onclick=\"convertToInteractive('df-5e2b6245-5304-4cce-9ed0-b25d7f748eec')\"\n",
              "              title=\"Convert this dataframe to an interactive table.\"\n",
              "              style=\"display:none;\">\n",
              "        \n",
              "  <svg xmlns=\"http://www.w3.org/2000/svg\" height=\"24px\"viewBox=\"0 0 24 24\"\n",
              "       width=\"24px\">\n",
              "    <path d=\"M0 0h24v24H0V0z\" fill=\"none\"/>\n",
              "    <path d=\"M18.56 5.44l.94 2.06.94-2.06 2.06-.94-2.06-.94-.94-2.06-.94 2.06-2.06.94zm-11 1L8.5 8.5l.94-2.06 2.06-.94-2.06-.94L8.5 2.5l-.94 2.06-2.06.94zm10 10l.94 2.06.94-2.06 2.06-.94-2.06-.94-.94-2.06-.94 2.06-2.06.94z\"/><path d=\"M17.41 7.96l-1.37-1.37c-.4-.4-.92-.59-1.43-.59-.52 0-1.04.2-1.43.59L10.3 9.45l-7.72 7.72c-.78.78-.78 2.05 0 2.83L4 21.41c.39.39.9.59 1.41.59.51 0 1.02-.2 1.41-.59l7.78-7.78 2.81-2.81c.8-.78.8-2.07 0-2.86zM5.41 20L4 18.59l7.72-7.72 1.47 1.35L5.41 20z\"/>\n",
              "  </svg>\n",
              "      </button>\n",
              "      \n",
              "  <style>\n",
              "    .colab-df-container {\n",
              "      display:flex;\n",
              "      flex-wrap:wrap;\n",
              "      gap: 12px;\n",
              "    }\n",
              "\n",
              "    .colab-df-convert {\n",
              "      background-color: #E8F0FE;\n",
              "      border: none;\n",
              "      border-radius: 50%;\n",
              "      cursor: pointer;\n",
              "      display: none;\n",
              "      fill: #1967D2;\n",
              "      height: 32px;\n",
              "      padding: 0 0 0 0;\n",
              "      width: 32px;\n",
              "    }\n",
              "\n",
              "    .colab-df-convert:hover {\n",
              "      background-color: #E2EBFA;\n",
              "      box-shadow: 0px 1px 2px rgba(60, 64, 67, 0.3), 0px 1px 3px 1px rgba(60, 64, 67, 0.15);\n",
              "      fill: #174EA6;\n",
              "    }\n",
              "\n",
              "    [theme=dark] .colab-df-convert {\n",
              "      background-color: #3B4455;\n",
              "      fill: #D2E3FC;\n",
              "    }\n",
              "\n",
              "    [theme=dark] .colab-df-convert:hover {\n",
              "      background-color: #434B5C;\n",
              "      box-shadow: 0px 1px 3px 1px rgba(0, 0, 0, 0.15);\n",
              "      filter: drop-shadow(0px 1px 2px rgba(0, 0, 0, 0.3));\n",
              "      fill: #FFFFFF;\n",
              "    }\n",
              "  </style>\n",
              "\n",
              "      <script>\n",
              "        const buttonEl =\n",
              "          document.querySelector('#df-5e2b6245-5304-4cce-9ed0-b25d7f748eec button.colab-df-convert');\n",
              "        buttonEl.style.display =\n",
              "          google.colab.kernel.accessAllowed ? 'block' : 'none';\n",
              "\n",
              "        async function convertToInteractive(key) {\n",
              "          const element = document.querySelector('#df-5e2b6245-5304-4cce-9ed0-b25d7f748eec');\n",
              "          const dataTable =\n",
              "            await google.colab.kernel.invokeFunction('convertToInteractive',\n",
              "                                                     [key], {});\n",
              "          if (!dataTable) return;\n",
              "\n",
              "          const docLinkHtml = 'Like what you see? Visit the ' +\n",
              "            '<a target=\"_blank\" href=https://colab.research.google.com/notebooks/data_table.ipynb>data table notebook</a>'\n",
              "            + ' to learn more about interactive tables.';\n",
              "          element.innerHTML = '';\n",
              "          dataTable['output_type'] = 'display_data';\n",
              "          await google.colab.output.renderOutput(dataTable, element);\n",
              "          const docLink = document.createElement('div');\n",
              "          docLink.innerHTML = docLinkHtml;\n",
              "          element.appendChild(docLink);\n",
              "        }\n",
              "      </script>\n",
              "    </div>\n",
              "  </div>\n",
              "  "
            ]
          },
          "metadata": {},
          "execution_count": 158
        }
      ]
    },
    {
      "cell_type": "markdown",
      "source": [
        "###**Data cleaning**"
      ],
      "metadata": {
        "id": "od_ja9I_l9IW"
      }
    },
    {
      "cell_type": "code",
      "source": [
        "df_encoded[['arrival_time', 'departure_time']].corr()"
      ],
      "metadata": {
        "colab": {
          "base_uri": "https://localhost:8080/",
          "height": 112
        },
        "id": "0VgYOWgbmsiE",
        "outputId": "ec42f953-1458-4f7d-c51d-66d5d17a3df8"
      },
      "execution_count": 159,
      "outputs": [
        {
          "output_type": "execute_result",
          "data": {
            "text/plain": [
              "                arrival_time  departure_time\n",
              "arrival_time        1.000000        0.973645\n",
              "departure_time      0.973645        1.000000"
            ],
            "text/html": [
              "\n",
              "  <div id=\"df-84912694-cd65-452b-a80c-b7a1e817afb4\">\n",
              "    <div class=\"colab-df-container\">\n",
              "      <div>\n",
              "<style scoped>\n",
              "    .dataframe tbody tr th:only-of-type {\n",
              "        vertical-align: middle;\n",
              "    }\n",
              "\n",
              "    .dataframe tbody tr th {\n",
              "        vertical-align: top;\n",
              "    }\n",
              "\n",
              "    .dataframe thead th {\n",
              "        text-align: right;\n",
              "    }\n",
              "</style>\n",
              "<table border=\"1\" class=\"dataframe\">\n",
              "  <thead>\n",
              "    <tr style=\"text-align: right;\">\n",
              "      <th></th>\n",
              "      <th>arrival_time</th>\n",
              "      <th>departure_time</th>\n",
              "    </tr>\n",
              "  </thead>\n",
              "  <tbody>\n",
              "    <tr>\n",
              "      <th>arrival_time</th>\n",
              "      <td>1.000000</td>\n",
              "      <td>0.973645</td>\n",
              "    </tr>\n",
              "    <tr>\n",
              "      <th>departure_time</th>\n",
              "      <td>0.973645</td>\n",
              "      <td>1.000000</td>\n",
              "    </tr>\n",
              "  </tbody>\n",
              "</table>\n",
              "</div>\n",
              "      <button class=\"colab-df-convert\" onclick=\"convertToInteractive('df-84912694-cd65-452b-a80c-b7a1e817afb4')\"\n",
              "              title=\"Convert this dataframe to an interactive table.\"\n",
              "              style=\"display:none;\">\n",
              "        \n",
              "  <svg xmlns=\"http://www.w3.org/2000/svg\" height=\"24px\"viewBox=\"0 0 24 24\"\n",
              "       width=\"24px\">\n",
              "    <path d=\"M0 0h24v24H0V0z\" fill=\"none\"/>\n",
              "    <path d=\"M18.56 5.44l.94 2.06.94-2.06 2.06-.94-2.06-.94-.94-2.06-.94 2.06-2.06.94zm-11 1L8.5 8.5l.94-2.06 2.06-.94-2.06-.94L8.5 2.5l-.94 2.06-2.06.94zm10 10l.94 2.06.94-2.06 2.06-.94-2.06-.94-.94-2.06-.94 2.06-2.06.94z\"/><path d=\"M17.41 7.96l-1.37-1.37c-.4-.4-.92-.59-1.43-.59-.52 0-1.04.2-1.43.59L10.3 9.45l-7.72 7.72c-.78.78-.78 2.05 0 2.83L4 21.41c.39.39.9.59 1.41.59.51 0 1.02-.2 1.41-.59l7.78-7.78 2.81-2.81c.8-.78.8-2.07 0-2.86zM5.41 20L4 18.59l7.72-7.72 1.47 1.35L5.41 20z\"/>\n",
              "  </svg>\n",
              "      </button>\n",
              "      \n",
              "  <style>\n",
              "    .colab-df-container {\n",
              "      display:flex;\n",
              "      flex-wrap:wrap;\n",
              "      gap: 12px;\n",
              "    }\n",
              "\n",
              "    .colab-df-convert {\n",
              "      background-color: #E8F0FE;\n",
              "      border: none;\n",
              "      border-radius: 50%;\n",
              "      cursor: pointer;\n",
              "      display: none;\n",
              "      fill: #1967D2;\n",
              "      height: 32px;\n",
              "      padding: 0 0 0 0;\n",
              "      width: 32px;\n",
              "    }\n",
              "\n",
              "    .colab-df-convert:hover {\n",
              "      background-color: #E2EBFA;\n",
              "      box-shadow: 0px 1px 2px rgba(60, 64, 67, 0.3), 0px 1px 3px 1px rgba(60, 64, 67, 0.15);\n",
              "      fill: #174EA6;\n",
              "    }\n",
              "\n",
              "    [theme=dark] .colab-df-convert {\n",
              "      background-color: #3B4455;\n",
              "      fill: #D2E3FC;\n",
              "    }\n",
              "\n",
              "    [theme=dark] .colab-df-convert:hover {\n",
              "      background-color: #434B5C;\n",
              "      box-shadow: 0px 1px 3px 1px rgba(0, 0, 0, 0.15);\n",
              "      filter: drop-shadow(0px 1px 2px rgba(0, 0, 0, 0.3));\n",
              "      fill: #FFFFFF;\n",
              "    }\n",
              "  </style>\n",
              "\n",
              "      <script>\n",
              "        const buttonEl =\n",
              "          document.querySelector('#df-84912694-cd65-452b-a80c-b7a1e817afb4 button.colab-df-convert');\n",
              "        buttonEl.style.display =\n",
              "          google.colab.kernel.accessAllowed ? 'block' : 'none';\n",
              "\n",
              "        async function convertToInteractive(key) {\n",
              "          const element = document.querySelector('#df-84912694-cd65-452b-a80c-b7a1e817afb4');\n",
              "          const dataTable =\n",
              "            await google.colab.kernel.invokeFunction('convertToInteractive',\n",
              "                                                     [key], {});\n",
              "          if (!dataTable) return;\n",
              "\n",
              "          const docLinkHtml = 'Like what you see? Visit the ' +\n",
              "            '<a target=\"_blank\" href=https://colab.research.google.com/notebooks/data_table.ipynb>data table notebook</a>'\n",
              "            + ' to learn more about interactive tables.';\n",
              "          element.innerHTML = '';\n",
              "          dataTable['output_type'] = 'display_data';\n",
              "          await google.colab.output.renderOutput(dataTable, element);\n",
              "          const docLink = document.createElement('div');\n",
              "          docLink.innerHTML = docLinkHtml;\n",
              "          element.appendChild(docLink);\n",
              "        }\n",
              "      </script>\n",
              "    </div>\n",
              "  </div>\n",
              "  "
            ]
          },
          "metadata": {},
          "execution_count": 159
        }
      ]
    },
    {
      "cell_type": "code",
      "source": [
        "df_clean = df_encoded.drop(['flight_id', 'departure_time', 'day', 'year'], axis=1)\n",
        "df_clean.head()"
      ],
      "metadata": {
        "colab": {
          "base_uri": "https://localhost:8080/",
          "height": 316
        },
        "id": "crFud4Ghmsmm",
        "outputId": "1a052097-cfea-4386-bf0a-532c20e0e40e"
      },
      "execution_count": 160,
      "outputs": [
        {
          "output_type": "execute_result",
          "data": {
            "text/plain": [
              "   schengen  arrival_time  is_holiday      delay  is_weekend  airline_BZ  \\\n",
              "0         0      8.885071           0  70.205981           1           0   \n",
              "1         0      8.939996           0  38.484609           1           0   \n",
              "2         1     18.635384           0   2.388305           1           1   \n",
              "3         0     15.967963           0  19.138491           1           1   \n",
              "4         0     16.571894           0  15.016271           1           1   \n",
              "\n",
              "   airline_MM  airline_YE  aircraft_type_Airbus A320  \\\n",
              "0           1           0                          1   \n",
              "1           0           1                          1   \n",
              "2           0           0                          0   \n",
              "3           0           0                          0   \n",
              "4           0           0                          0   \n",
              "\n",
              "   aircraft_type_Airbus A330  ...  origin_AUZ  origin_CNU  origin_CSF  \\\n",
              "0                          0  ...           0           0           0   \n",
              "1                          0  ...           0           0           0   \n",
              "2                          0  ...           0           0           0   \n",
              "3                          1  ...           0           0           0   \n",
              "4                          1  ...           0           0           0   \n",
              "\n",
              "   origin_EMM  origin_FJB  origin_MWL  origin_PUA  origin_TCY  origin_TZF  \\\n",
              "0           0           0           0           0           1           0   \n",
              "1           0           0           0           0           1           0   \n",
              "2           0           0           0           0           0           1   \n",
              "3           1           0           0           0           0           0   \n",
              "4           0           1           0           0           0           0   \n",
              "\n",
              "   origin_ZQO  \n",
              "0           0  \n",
              "1           0  \n",
              "2           0  \n",
              "3           0  \n",
              "4           0  \n",
              "\n",
              "[5 rows x 24 columns]"
            ],
            "text/html": [
              "\n",
              "  <div id=\"df-85265ea8-51f5-4f18-ae9d-aaad4c366ca7\">\n",
              "    <div class=\"colab-df-container\">\n",
              "      <div>\n",
              "<style scoped>\n",
              "    .dataframe tbody tr th:only-of-type {\n",
              "        vertical-align: middle;\n",
              "    }\n",
              "\n",
              "    .dataframe tbody tr th {\n",
              "        vertical-align: top;\n",
              "    }\n",
              "\n",
              "    .dataframe thead th {\n",
              "        text-align: right;\n",
              "    }\n",
              "</style>\n",
              "<table border=\"1\" class=\"dataframe\">\n",
              "  <thead>\n",
              "    <tr style=\"text-align: right;\">\n",
              "      <th></th>\n",
              "      <th>schengen</th>\n",
              "      <th>arrival_time</th>\n",
              "      <th>is_holiday</th>\n",
              "      <th>delay</th>\n",
              "      <th>is_weekend</th>\n",
              "      <th>airline_BZ</th>\n",
              "      <th>airline_MM</th>\n",
              "      <th>airline_YE</th>\n",
              "      <th>aircraft_type_Airbus A320</th>\n",
              "      <th>aircraft_type_Airbus A330</th>\n",
              "      <th>...</th>\n",
              "      <th>origin_AUZ</th>\n",
              "      <th>origin_CNU</th>\n",
              "      <th>origin_CSF</th>\n",
              "      <th>origin_EMM</th>\n",
              "      <th>origin_FJB</th>\n",
              "      <th>origin_MWL</th>\n",
              "      <th>origin_PUA</th>\n",
              "      <th>origin_TCY</th>\n",
              "      <th>origin_TZF</th>\n",
              "      <th>origin_ZQO</th>\n",
              "    </tr>\n",
              "  </thead>\n",
              "  <tbody>\n",
              "    <tr>\n",
              "      <th>0</th>\n",
              "      <td>0</td>\n",
              "      <td>8.885071</td>\n",
              "      <td>0</td>\n",
              "      <td>70.205981</td>\n",
              "      <td>1</td>\n",
              "      <td>0</td>\n",
              "      <td>1</td>\n",
              "      <td>0</td>\n",
              "      <td>1</td>\n",
              "      <td>0</td>\n",
              "      <td>...</td>\n",
              "      <td>0</td>\n",
              "      <td>0</td>\n",
              "      <td>0</td>\n",
              "      <td>0</td>\n",
              "      <td>0</td>\n",
              "      <td>0</td>\n",
              "      <td>0</td>\n",
              "      <td>1</td>\n",
              "      <td>0</td>\n",
              "      <td>0</td>\n",
              "    </tr>\n",
              "    <tr>\n",
              "      <th>1</th>\n",
              "      <td>0</td>\n",
              "      <td>8.939996</td>\n",
              "      <td>0</td>\n",
              "      <td>38.484609</td>\n",
              "      <td>1</td>\n",
              "      <td>0</td>\n",
              "      <td>0</td>\n",
              "      <td>1</td>\n",
              "      <td>1</td>\n",
              "      <td>0</td>\n",
              "      <td>...</td>\n",
              "      <td>0</td>\n",
              "      <td>0</td>\n",
              "      <td>0</td>\n",
              "      <td>0</td>\n",
              "      <td>0</td>\n",
              "      <td>0</td>\n",
              "      <td>0</td>\n",
              "      <td>1</td>\n",
              "      <td>0</td>\n",
              "      <td>0</td>\n",
              "    </tr>\n",
              "    <tr>\n",
              "      <th>2</th>\n",
              "      <td>1</td>\n",
              "      <td>18.635384</td>\n",
              "      <td>0</td>\n",
              "      <td>2.388305</td>\n",
              "      <td>1</td>\n",
              "      <td>1</td>\n",
              "      <td>0</td>\n",
              "      <td>0</td>\n",
              "      <td>0</td>\n",
              "      <td>0</td>\n",
              "      <td>...</td>\n",
              "      <td>0</td>\n",
              "      <td>0</td>\n",
              "      <td>0</td>\n",
              "      <td>0</td>\n",
              "      <td>0</td>\n",
              "      <td>0</td>\n",
              "      <td>0</td>\n",
              "      <td>0</td>\n",
              "      <td>1</td>\n",
              "      <td>0</td>\n",
              "    </tr>\n",
              "    <tr>\n",
              "      <th>3</th>\n",
              "      <td>0</td>\n",
              "      <td>15.967963</td>\n",
              "      <td>0</td>\n",
              "      <td>19.138491</td>\n",
              "      <td>1</td>\n",
              "      <td>1</td>\n",
              "      <td>0</td>\n",
              "      <td>0</td>\n",
              "      <td>0</td>\n",
              "      <td>1</td>\n",
              "      <td>...</td>\n",
              "      <td>0</td>\n",
              "      <td>0</td>\n",
              "      <td>0</td>\n",
              "      <td>1</td>\n",
              "      <td>0</td>\n",
              "      <td>0</td>\n",
              "      <td>0</td>\n",
              "      <td>0</td>\n",
              "      <td>0</td>\n",
              "      <td>0</td>\n",
              "    </tr>\n",
              "    <tr>\n",
              "      <th>4</th>\n",
              "      <td>0</td>\n",
              "      <td>16.571894</td>\n",
              "      <td>0</td>\n",
              "      <td>15.016271</td>\n",
              "      <td>1</td>\n",
              "      <td>1</td>\n",
              "      <td>0</td>\n",
              "      <td>0</td>\n",
              "      <td>0</td>\n",
              "      <td>1</td>\n",
              "      <td>...</td>\n",
              "      <td>0</td>\n",
              "      <td>0</td>\n",
              "      <td>0</td>\n",
              "      <td>0</td>\n",
              "      <td>1</td>\n",
              "      <td>0</td>\n",
              "      <td>0</td>\n",
              "      <td>0</td>\n",
              "      <td>0</td>\n",
              "      <td>0</td>\n",
              "    </tr>\n",
              "  </tbody>\n",
              "</table>\n",
              "<p>5 rows × 24 columns</p>\n",
              "</div>\n",
              "      <button class=\"colab-df-convert\" onclick=\"convertToInteractive('df-85265ea8-51f5-4f18-ae9d-aaad4c366ca7')\"\n",
              "              title=\"Convert this dataframe to an interactive table.\"\n",
              "              style=\"display:none;\">\n",
              "        \n",
              "  <svg xmlns=\"http://www.w3.org/2000/svg\" height=\"24px\"viewBox=\"0 0 24 24\"\n",
              "       width=\"24px\">\n",
              "    <path d=\"M0 0h24v24H0V0z\" fill=\"none\"/>\n",
              "    <path d=\"M18.56 5.44l.94 2.06.94-2.06 2.06-.94-2.06-.94-.94-2.06-.94 2.06-2.06.94zm-11 1L8.5 8.5l.94-2.06 2.06-.94-2.06-.94L8.5 2.5l-.94 2.06-2.06.94zm10 10l.94 2.06.94-2.06 2.06-.94-2.06-.94-.94-2.06-.94 2.06-2.06.94z\"/><path d=\"M17.41 7.96l-1.37-1.37c-.4-.4-.92-.59-1.43-.59-.52 0-1.04.2-1.43.59L10.3 9.45l-7.72 7.72c-.78.78-.78 2.05 0 2.83L4 21.41c.39.39.9.59 1.41.59.51 0 1.02-.2 1.41-.59l7.78-7.78 2.81-2.81c.8-.78.8-2.07 0-2.86zM5.41 20L4 18.59l7.72-7.72 1.47 1.35L5.41 20z\"/>\n",
              "  </svg>\n",
              "      </button>\n",
              "      \n",
              "  <style>\n",
              "    .colab-df-container {\n",
              "      display:flex;\n",
              "      flex-wrap:wrap;\n",
              "      gap: 12px;\n",
              "    }\n",
              "\n",
              "    .colab-df-convert {\n",
              "      background-color: #E8F0FE;\n",
              "      border: none;\n",
              "      border-radius: 50%;\n",
              "      cursor: pointer;\n",
              "      display: none;\n",
              "      fill: #1967D2;\n",
              "      height: 32px;\n",
              "      padding: 0 0 0 0;\n",
              "      width: 32px;\n",
              "    }\n",
              "\n",
              "    .colab-df-convert:hover {\n",
              "      background-color: #E2EBFA;\n",
              "      box-shadow: 0px 1px 2px rgba(60, 64, 67, 0.3), 0px 1px 3px 1px rgba(60, 64, 67, 0.15);\n",
              "      fill: #174EA6;\n",
              "    }\n",
              "\n",
              "    [theme=dark] .colab-df-convert {\n",
              "      background-color: #3B4455;\n",
              "      fill: #D2E3FC;\n",
              "    }\n",
              "\n",
              "    [theme=dark] .colab-df-convert:hover {\n",
              "      background-color: #434B5C;\n",
              "      box-shadow: 0px 1px 3px 1px rgba(0, 0, 0, 0.15);\n",
              "      filter: drop-shadow(0px 1px 2px rgba(0, 0, 0, 0.3));\n",
              "      fill: #FFFFFF;\n",
              "    }\n",
              "  </style>\n",
              "\n",
              "      <script>\n",
              "        const buttonEl =\n",
              "          document.querySelector('#df-85265ea8-51f5-4f18-ae9d-aaad4c366ca7 button.colab-df-convert');\n",
              "        buttonEl.style.display =\n",
              "          google.colab.kernel.accessAllowed ? 'block' : 'none';\n",
              "\n",
              "        async function convertToInteractive(key) {\n",
              "          const element = document.querySelector('#df-85265ea8-51f5-4f18-ae9d-aaad4c366ca7');\n",
              "          const dataTable =\n",
              "            await google.colab.kernel.invokeFunction('convertToInteractive',\n",
              "                                                     [key], {});\n",
              "          if (!dataTable) return;\n",
              "\n",
              "          const docLinkHtml = 'Like what you see? Visit the ' +\n",
              "            '<a target=\"_blank\" href=https://colab.research.google.com/notebooks/data_table.ipynb>data table notebook</a>'\n",
              "            + ' to learn more about interactive tables.';\n",
              "          element.innerHTML = '';\n",
              "          dataTable['output_type'] = 'display_data';\n",
              "          await google.colab.output.renderOutput(dataTable, element);\n",
              "          const docLink = document.createElement('div');\n",
              "          docLink.innerHTML = docLinkHtml;\n",
              "          element.appendChild(docLink);\n",
              "        }\n",
              "      </script>\n",
              "    </div>\n",
              "  </div>\n",
              "  "
            ]
          },
          "metadata": {},
          "execution_count": 160
        }
      ]
    },
    {
      "cell_type": "markdown",
      "source": [
        "#**Model Selection and Validation**"
      ],
      "metadata": {
        "id": "LmWZeeaPlVWK"
      }
    },
    {
      "cell_type": "markdown",
      "source": [
        "###**Train and test split**"
      ],
      "metadata": {
        "id": "NRPGsNJ8lo7z"
      }
    },
    {
      "cell_type": "code",
      "source": [
        "X = df_clean.drop(['delay'], axis=1)\n",
        "y = df_clean['delay']"
      ],
      "metadata": {
        "id": "ba7fpBgwmtPQ"
      },
      "execution_count": 161,
      "outputs": []
    },
    {
      "cell_type": "code",
      "source": [
        "X.head()"
      ],
      "metadata": {
        "colab": {
          "base_uri": "https://localhost:8080/",
          "height": 316
        },
        "id": "0Ld5IF0xmtS7",
        "outputId": "f95412e6-57a3-4906-b1b6-06ae2b093b44"
      },
      "execution_count": 162,
      "outputs": [
        {
          "output_type": "execute_result",
          "data": {
            "text/plain": [
              "   schengen  arrival_time  is_holiday  is_weekend  airline_BZ  airline_MM  \\\n",
              "0         0      8.885071           0           1           0           1   \n",
              "1         0      8.939996           0           1           0           0   \n",
              "2         1     18.635384           0           1           1           0   \n",
              "3         0     15.967963           0           1           1           0   \n",
              "4         0     16.571894           0           1           1           0   \n",
              "\n",
              "   airline_YE  aircraft_type_Airbus A320  aircraft_type_Airbus A330  \\\n",
              "0           0                          1                          0   \n",
              "1           1                          1                          0   \n",
              "2           0                          0                          0   \n",
              "3           0                          0                          1   \n",
              "4           0                          0                          1   \n",
              "\n",
              "   aircraft_type_Boeing 737  ...  origin_AUZ  origin_CNU  origin_CSF  \\\n",
              "0                         0  ...           0           0           0   \n",
              "1                         0  ...           0           0           0   \n",
              "2                         0  ...           0           0           0   \n",
              "3                         0  ...           0           0           0   \n",
              "4                         0  ...           0           0           0   \n",
              "\n",
              "   origin_EMM  origin_FJB  origin_MWL  origin_PUA  origin_TCY  origin_TZF  \\\n",
              "0           0           0           0           0           1           0   \n",
              "1           0           0           0           0           1           0   \n",
              "2           0           0           0           0           0           1   \n",
              "3           1           0           0           0           0           0   \n",
              "4           0           1           0           0           0           0   \n",
              "\n",
              "   origin_ZQO  \n",
              "0           0  \n",
              "1           0  \n",
              "2           0  \n",
              "3           0  \n",
              "4           0  \n",
              "\n",
              "[5 rows x 23 columns]"
            ],
            "text/html": [
              "\n",
              "  <div id=\"df-41fadc8e-8b4e-4278-8396-4397ac053287\">\n",
              "    <div class=\"colab-df-container\">\n",
              "      <div>\n",
              "<style scoped>\n",
              "    .dataframe tbody tr th:only-of-type {\n",
              "        vertical-align: middle;\n",
              "    }\n",
              "\n",
              "    .dataframe tbody tr th {\n",
              "        vertical-align: top;\n",
              "    }\n",
              "\n",
              "    .dataframe thead th {\n",
              "        text-align: right;\n",
              "    }\n",
              "</style>\n",
              "<table border=\"1\" class=\"dataframe\">\n",
              "  <thead>\n",
              "    <tr style=\"text-align: right;\">\n",
              "      <th></th>\n",
              "      <th>schengen</th>\n",
              "      <th>arrival_time</th>\n",
              "      <th>is_holiday</th>\n",
              "      <th>is_weekend</th>\n",
              "      <th>airline_BZ</th>\n",
              "      <th>airline_MM</th>\n",
              "      <th>airline_YE</th>\n",
              "      <th>aircraft_type_Airbus A320</th>\n",
              "      <th>aircraft_type_Airbus A330</th>\n",
              "      <th>aircraft_type_Boeing 737</th>\n",
              "      <th>...</th>\n",
              "      <th>origin_AUZ</th>\n",
              "      <th>origin_CNU</th>\n",
              "      <th>origin_CSF</th>\n",
              "      <th>origin_EMM</th>\n",
              "      <th>origin_FJB</th>\n",
              "      <th>origin_MWL</th>\n",
              "      <th>origin_PUA</th>\n",
              "      <th>origin_TCY</th>\n",
              "      <th>origin_TZF</th>\n",
              "      <th>origin_ZQO</th>\n",
              "    </tr>\n",
              "  </thead>\n",
              "  <tbody>\n",
              "    <tr>\n",
              "      <th>0</th>\n",
              "      <td>0</td>\n",
              "      <td>8.885071</td>\n",
              "      <td>0</td>\n",
              "      <td>1</td>\n",
              "      <td>0</td>\n",
              "      <td>1</td>\n",
              "      <td>0</td>\n",
              "      <td>1</td>\n",
              "      <td>0</td>\n",
              "      <td>0</td>\n",
              "      <td>...</td>\n",
              "      <td>0</td>\n",
              "      <td>0</td>\n",
              "      <td>0</td>\n",
              "      <td>0</td>\n",
              "      <td>0</td>\n",
              "      <td>0</td>\n",
              "      <td>0</td>\n",
              "      <td>1</td>\n",
              "      <td>0</td>\n",
              "      <td>0</td>\n",
              "    </tr>\n",
              "    <tr>\n",
              "      <th>1</th>\n",
              "      <td>0</td>\n",
              "      <td>8.939996</td>\n",
              "      <td>0</td>\n",
              "      <td>1</td>\n",
              "      <td>0</td>\n",
              "      <td>0</td>\n",
              "      <td>1</td>\n",
              "      <td>1</td>\n",
              "      <td>0</td>\n",
              "      <td>0</td>\n",
              "      <td>...</td>\n",
              "      <td>0</td>\n",
              "      <td>0</td>\n",
              "      <td>0</td>\n",
              "      <td>0</td>\n",
              "      <td>0</td>\n",
              "      <td>0</td>\n",
              "      <td>0</td>\n",
              "      <td>1</td>\n",
              "      <td>0</td>\n",
              "      <td>0</td>\n",
              "    </tr>\n",
              "    <tr>\n",
              "      <th>2</th>\n",
              "      <td>1</td>\n",
              "      <td>18.635384</td>\n",
              "      <td>0</td>\n",
              "      <td>1</td>\n",
              "      <td>1</td>\n",
              "      <td>0</td>\n",
              "      <td>0</td>\n",
              "      <td>0</td>\n",
              "      <td>0</td>\n",
              "      <td>0</td>\n",
              "      <td>...</td>\n",
              "      <td>0</td>\n",
              "      <td>0</td>\n",
              "      <td>0</td>\n",
              "      <td>0</td>\n",
              "      <td>0</td>\n",
              "      <td>0</td>\n",
              "      <td>0</td>\n",
              "      <td>0</td>\n",
              "      <td>1</td>\n",
              "      <td>0</td>\n",
              "    </tr>\n",
              "    <tr>\n",
              "      <th>3</th>\n",
              "      <td>0</td>\n",
              "      <td>15.967963</td>\n",
              "      <td>0</td>\n",
              "      <td>1</td>\n",
              "      <td>1</td>\n",
              "      <td>0</td>\n",
              "      <td>0</td>\n",
              "      <td>0</td>\n",
              "      <td>1</td>\n",
              "      <td>0</td>\n",
              "      <td>...</td>\n",
              "      <td>0</td>\n",
              "      <td>0</td>\n",
              "      <td>0</td>\n",
              "      <td>1</td>\n",
              "      <td>0</td>\n",
              "      <td>0</td>\n",
              "      <td>0</td>\n",
              "      <td>0</td>\n",
              "      <td>0</td>\n",
              "      <td>0</td>\n",
              "    </tr>\n",
              "    <tr>\n",
              "      <th>4</th>\n",
              "      <td>0</td>\n",
              "      <td>16.571894</td>\n",
              "      <td>0</td>\n",
              "      <td>1</td>\n",
              "      <td>1</td>\n",
              "      <td>0</td>\n",
              "      <td>0</td>\n",
              "      <td>0</td>\n",
              "      <td>1</td>\n",
              "      <td>0</td>\n",
              "      <td>...</td>\n",
              "      <td>0</td>\n",
              "      <td>0</td>\n",
              "      <td>0</td>\n",
              "      <td>0</td>\n",
              "      <td>1</td>\n",
              "      <td>0</td>\n",
              "      <td>0</td>\n",
              "      <td>0</td>\n",
              "      <td>0</td>\n",
              "      <td>0</td>\n",
              "    </tr>\n",
              "  </tbody>\n",
              "</table>\n",
              "<p>5 rows × 23 columns</p>\n",
              "</div>\n",
              "      <button class=\"colab-df-convert\" onclick=\"convertToInteractive('df-41fadc8e-8b4e-4278-8396-4397ac053287')\"\n",
              "              title=\"Convert this dataframe to an interactive table.\"\n",
              "              style=\"display:none;\">\n",
              "        \n",
              "  <svg xmlns=\"http://www.w3.org/2000/svg\" height=\"24px\"viewBox=\"0 0 24 24\"\n",
              "       width=\"24px\">\n",
              "    <path d=\"M0 0h24v24H0V0z\" fill=\"none\"/>\n",
              "    <path d=\"M18.56 5.44l.94 2.06.94-2.06 2.06-.94-2.06-.94-.94-2.06-.94 2.06-2.06.94zm-11 1L8.5 8.5l.94-2.06 2.06-.94-2.06-.94L8.5 2.5l-.94 2.06-2.06.94zm10 10l.94 2.06.94-2.06 2.06-.94-2.06-.94-.94-2.06-.94 2.06-2.06.94z\"/><path d=\"M17.41 7.96l-1.37-1.37c-.4-.4-.92-.59-1.43-.59-.52 0-1.04.2-1.43.59L10.3 9.45l-7.72 7.72c-.78.78-.78 2.05 0 2.83L4 21.41c.39.39.9.59 1.41.59.51 0 1.02-.2 1.41-.59l7.78-7.78 2.81-2.81c.8-.78.8-2.07 0-2.86zM5.41 20L4 18.59l7.72-7.72 1.47 1.35L5.41 20z\"/>\n",
              "  </svg>\n",
              "      </button>\n",
              "      \n",
              "  <style>\n",
              "    .colab-df-container {\n",
              "      display:flex;\n",
              "      flex-wrap:wrap;\n",
              "      gap: 12px;\n",
              "    }\n",
              "\n",
              "    .colab-df-convert {\n",
              "      background-color: #E8F0FE;\n",
              "      border: none;\n",
              "      border-radius: 50%;\n",
              "      cursor: pointer;\n",
              "      display: none;\n",
              "      fill: #1967D2;\n",
              "      height: 32px;\n",
              "      padding: 0 0 0 0;\n",
              "      width: 32px;\n",
              "    }\n",
              "\n",
              "    .colab-df-convert:hover {\n",
              "      background-color: #E2EBFA;\n",
              "      box-shadow: 0px 1px 2px rgba(60, 64, 67, 0.3), 0px 1px 3px 1px rgba(60, 64, 67, 0.15);\n",
              "      fill: #174EA6;\n",
              "    }\n",
              "\n",
              "    [theme=dark] .colab-df-convert {\n",
              "      background-color: #3B4455;\n",
              "      fill: #D2E3FC;\n",
              "    }\n",
              "\n",
              "    [theme=dark] .colab-df-convert:hover {\n",
              "      background-color: #434B5C;\n",
              "      box-shadow: 0px 1px 3px 1px rgba(0, 0, 0, 0.15);\n",
              "      filter: drop-shadow(0px 1px 2px rgba(0, 0, 0, 0.3));\n",
              "      fill: #FFFFFF;\n",
              "    }\n",
              "  </style>\n",
              "\n",
              "      <script>\n",
              "        const buttonEl =\n",
              "          document.querySelector('#df-41fadc8e-8b4e-4278-8396-4397ac053287 button.colab-df-convert');\n",
              "        buttonEl.style.display =\n",
              "          google.colab.kernel.accessAllowed ? 'block' : 'none';\n",
              "\n",
              "        async function convertToInteractive(key) {\n",
              "          const element = document.querySelector('#df-41fadc8e-8b4e-4278-8396-4397ac053287');\n",
              "          const dataTable =\n",
              "            await google.colab.kernel.invokeFunction('convertToInteractive',\n",
              "                                                     [key], {});\n",
              "          if (!dataTable) return;\n",
              "\n",
              "          const docLinkHtml = 'Like what you see? Visit the ' +\n",
              "            '<a target=\"_blank\" href=https://colab.research.google.com/notebooks/data_table.ipynb>data table notebook</a>'\n",
              "            + ' to learn more about interactive tables.';\n",
              "          element.innerHTML = '';\n",
              "          dataTable['output_type'] = 'display_data';\n",
              "          await google.colab.output.renderOutput(dataTable, element);\n",
              "          const docLink = document.createElement('div');\n",
              "          docLink.innerHTML = docLinkHtml;\n",
              "          element.appendChild(docLink);\n",
              "        }\n",
              "      </script>\n",
              "    </div>\n",
              "  </div>\n",
              "  "
            ]
          },
          "metadata": {},
          "execution_count": 162
        }
      ]
    },
    {
      "cell_type": "code",
      "source": [
        "y.head()"
      ],
      "metadata": {
        "colab": {
          "base_uri": "https://localhost:8080/"
        },
        "id": "oU57-TriyHvA",
        "outputId": "bb8d87a6-1d42-4618-816a-4eed90924755"
      },
      "execution_count": 163,
      "outputs": [
        {
          "output_type": "execute_result",
          "data": {
            "text/plain": [
              "0    70.205981\n",
              "1    38.484609\n",
              "2     2.388305\n",
              "3    19.138491\n",
              "4    15.016271\n",
              "Name: delay, dtype: float64"
            ]
          },
          "metadata": {},
          "execution_count": 163
        }
      ]
    },
    {
      "cell_type": "code",
      "source": [
        "import numpy as np\n",
        "np.random.seed(7562)"
      ],
      "metadata": {
        "id": "GvZS1juvzPkS"
      },
      "execution_count": 164,
      "outputs": []
    },
    {
      "cell_type": "code",
      "source": [
        "from sklearn.model_selection import train_test_split\n",
        "X_train, X_test, y_train, y_test = train_test_split(X, y, test_size=0.2)"
      ],
      "metadata": {
        "id": "8DUZxJfJyMAo"
      },
      "execution_count": 165,
      "outputs": []
    },
    {
      "cell_type": "markdown",
      "source": [
        "###**Training DummyRegressor**"
      ],
      "metadata": {
        "id": "R1oSgEB1Ajpv"
      }
    },
    {
      "cell_type": "code",
      "source": [
        "from sklearn.dummy import DummyRegressor\n",
        "\n",
        "# Training the model\n",
        "model_dummy = DummyRegressor(strategy='mean')\n",
        "model_dummy.fit(X_train, y_train)\n",
        "\n",
        "# Predictions\n",
        "y_pred_dummy = model_dummy.predict(X_test)"
      ],
      "metadata": {
        "id": "ztPZTEu21Fc0"
      },
      "execution_count": 191,
      "outputs": []
    },
    {
      "cell_type": "code",
      "source": [
        "from sklearn.metrics import mean_squared_error, mean_absolute_error, r2_score\n",
        "\n",
        "def calculate_regression_metrics(y_test, y_pred):\n",
        "    mse = mean_squared_error(y_test, y_pred)\n",
        "    print('Mean Squared Error:', mse)\n",
        "\n",
        "    rmse = mean_squared_error(y_test, y_pred, squared=False)\n",
        "    print('Root Mean Squared Error:', rmse)\n",
        "\n",
        "    mae = mean_absolute_error(y_test, y_pred)\n",
        "    print('Mean Absolute Error:', mae)\n",
        "\n",
        "    r2 = r2_score(y_test, y_pred)\n",
        "    print('R-squared:', r2)"
      ],
      "metadata": {
        "id": "o2RdT5HiXA38"
      },
      "execution_count": 192,
      "outputs": []
    },
    {
      "cell_type": "code",
      "source": [
        "calculate_regression_metrics(y_test, y_pred)"
      ],
      "metadata": {
        "colab": {
          "base_uri": "https://localhost:8080/"
        },
        "id": "fkaJSQtaXHWQ",
        "outputId": "000329a3-9b5b-40d9-d1da-092fc531d900"
      },
      "execution_count": 193,
      "outputs": [
        {
          "output_type": "stream",
          "name": "stdout",
          "text": [
            "Mean Squared Error: 491.9992292854628\n",
            "Root Mean Squared Error: 22.18105563956465\n",
            "Mean Absolute Error: 18.090721244225875\n",
            "R-squared: -1.1232015144857499e-05\n"
          ]
        }
      ]
    },
    {
      "cell_type": "markdown",
      "source": [
        "###**Training RandomForestRegressor**"
      ],
      "metadata": {
        "id": "dDZkdnBklpCP"
      }
    },
    {
      "cell_type": "code",
      "source": [
        "from sklearn.ensemble import RandomForestRegressor\n",
        "\n",
        "# Training the model\n",
        "model_rf = RandomForestRegressor()\n",
        "model_rf.fit(X_train, y_train)\n",
        "\n",
        "# Predictions\n",
        "y_pred_rf = model_rf.predict(X_test)"
      ],
      "metadata": {
        "id": "OhIkgNwlmtrD"
      },
      "execution_count": 196,
      "outputs": []
    },
    {
      "cell_type": "code",
      "source": [
        "calculate_regression_metrics(y_test, y_pred_rf)"
      ],
      "metadata": {
        "colab": {
          "base_uri": "https://localhost:8080/"
        },
        "id": "Sa5VecVmXNVR",
        "outputId": "489326a5-a330-4dd7-b0ad-113ba4c8d27b"
      },
      "execution_count": 197,
      "outputs": [
        {
          "output_type": "stream",
          "name": "stdout",
          "text": [
            "Mean Squared Error: 67.77502495290123\n",
            "Root Mean Squared Error: 8.232558833856046\n",
            "Mean Absolute Error: 6.110052998848193\n",
            "R-squared: 0.8622441211921416\n"
          ]
        }
      ]
    },
    {
      "cell_type": "markdown",
      "source": [
        "###**Plots for analyzing linear regression models**"
      ],
      "metadata": {
        "id": "uH8Gc2phlpJy"
      }
    },
    {
      "cell_type": "code",
      "source": [
        "# Calculate the difference between estimated and actual delays\n",
        "delay_diff = y_pred_rf - y_test\n",
        "\n",
        "# Plot a delay difference histogram\n",
        "plt.hist(delay_diff, bins=30)\n",
        "plt.xlabel('Delay difference (predicted - actual)')\n",
        "plt.ylabel('Frequency')\n",
        "plt.title('Delay difference histogram')\n",
        "plt.show()"
      ],
      "metadata": {
        "colab": {
          "base_uri": "https://localhost:8080/",
          "height": 524
        },
        "id": "8WE9jgo_7krW",
        "outputId": "c2c22a8a-e9e7-427f-cbd8-99a27cec8ac2"
      },
      "execution_count": 198,
      "outputs": [
        {
          "output_type": "display_data",
          "data": {
            "text/plain": [
              "<Figure size 800x550 with 1 Axes>"
            ],
            "image/png": "[encoded data removed]"
          },
          "metadata": {}
        }
      ]
    },
    {
      "cell_type": "code",
      "source": [
        "# Prediction error plot\n",
        "sns.regplot(x=y_test, y=y_pred_rf, line_kws={'color': 'red'}, scatter_kws={'alpha': 0.2})\n",
        "plt.show()"
      ],
      "metadata": {
        "colab": {
          "base_uri": "https://localhost:8080/",
          "height": 503
        },
        "id": "X-zXwWjj43-X",
        "outputId": "a3ebabf1-1f54-4a28-872d-e4b1ab96dd05"
      },
      "execution_count": 200,
      "outputs": [
        {
          "output_type": "display_data",
          "data": {
            "text/plain": [
              "<Figure size 800x550 with 1 Axes>"
            ],
            "image/png": "[encoded data removed]"
          },
          "metadata": {}
        }
      ]
    },
    {
      "cell_type": "code",
      "source": [
        "# Homoscedasticity analysis\n",
        "sns.regplot(x = y_pred_rf, y =y_pred_rf-y_test, line_kws={'color': 'red'}, scatter_kws={'alpha': 0.2})\n",
        "plt.show()"
      ],
      "metadata": {
        "colab": {
          "base_uri": "https://localhost:8080/",
          "height": 484
        },
        "id": "paNs4dzj5o8A",
        "outputId": "36c20ad7-fd35-4d29-ffaf-e73510eebf72"
      },
      "execution_count": 201,
      "outputs": [
        {
          "output_type": "display_data",
          "data": {
            "text/plain": [
              "<Figure size 800x550 with 1 Axes>"
            ],
            "image/png": "[encoded data removed]"
          },
          "metadata": {}
        }
      ]
    },
    {
      "cell_type": "markdown",
      "source": [
        "###**Cross-validation**"
      ],
      "metadata": {
        "id": "Xm1Ysar0mY5a"
      }
    },
    {
      "cell_type": "code",
      "source": [
        "from sklearn.model_selection import cross_validate\n",
        "from sklearn.metrics import make_scorer\n",
        "\n",
        "# Defining evaluation metrics\n",
        "scoring = {\n",
        "    'mae': make_scorer(mean_absolute_error),\n",
        "    'mse': make_scorer(mean_squared_error),\n",
        "    'rmse': make_scorer(lambda y_true, y_pred: np.sqrt(mean_squared_error(y_true, y_pred))),\n",
        "    'r2': make_scorer(r2_score)\n",
        "}\n",
        "\n",
        "# Performing cross-validation and calculating metrics\n",
        "cv_results = cross_validate(model_rf, X, y, cv=5, scoring=scoring)\n",
        "\n",
        "# Extracting evaluation metrics\n",
        "mse_scores = cv_results['test_mse']\n",
        "rmse_scores = cv_results['test_rmse']\n",
        "mae_scores = cv_results['test_mae']\n",
        "r2_scores = cv_results['test_r2']\n",
        "\n",
        "# Calculating the standard deviation of metrics\n",
        "mse_std = np.std(mse_scores)\n",
        "rmse_std = np.std(rmse_scores)\n",
        "mae_std = np.std(mae_scores)\n",
        "r2_std = np.std(r2_scores)\n",
        "\n",
        "# Printing evaluation metrics and standard deviation\n",
        "print(f\"MSE Scores: {mse_scores}\")\n",
        "print(f\"RMSE Scores: {rmse_scores}\")\n",
        "print(f\"MAE Scores: {mae_scores}\")\n",
        "print(f\"R2 Scores: {r2_scores}\")\n",
        "print('----------------------------------------------------------------')\n",
        "print(f\"MSE Mean: {mse_scores.mean()}, MSE Std: {mse_std}\")\n",
        "print(f\"RMSE Mean: {rmse_scores.mean()}, RMSE Std: {rmse_std}\")\n",
        "print(f\"MAE Mean: {mae_scores.mean()}, MAE Std: {mae_std}\")\n",
        "print(f\"R2 Mean: {r2_scores.mean()}, R2 Std: {r2_std}\")"
      ],
      "metadata": {
        "colab": {
          "base_uri": "https://localhost:8080/"
        },
        "id": "8YCSNHmOmvcK",
        "outputId": "cbfee87c-3600-40e7-99ae-42a47354ec65"
      },
      "execution_count": 202,
      "outputs": [
        {
          "output_type": "stream",
          "name": "stdout",
          "text": [
            "MSE Scores: [66.49035779 70.00181126 67.81519863 66.99874323 66.24089203]\n",
            "RMSE Scores: [8.15416199 8.36670851 8.2349984  8.185276   8.13885078]\n",
            "MAE Scores: [6.03902654 6.21019738 6.08063967 6.06185715 6.06431945]\n",
            "R2 Scores: [0.86482252 0.85850714 0.86224947 0.86131517 0.86359046]\n",
            "----------------------------------------------------------------\n",
            "MSE Mean: 67.5094005880605, MSE Std: 1.3574944965044813\n",
            "RMSE Mean: 8.215999136335437, RMSE Std: 0.08221179839805556\n",
            "MAE Mean: 6.091208038106155, MAE Std: 0.060954954225885226\n",
            "R2 Mean: 0.8620969538378498, R2 Std: 0.0021531616973868993\n"
          ]
        }
      ]
    },
    {
      "cell_type": "markdown",
      "source": [
        "#**Hyperparameter Optimization**"
      ],
      "metadata": {
        "id": "PMkrEY7XlYOR"
      }
    },
    {
      "cell_type": "markdown",
      "source": [
        "###**Feature selection**"
      ],
      "metadata": {
        "id": "4g8ueqcI8Nph"
      }
    },
    {
      "cell_type": "code",
      "source": [
        "# Getting feature importance\n",
        "importances = model_rf.feature_importances_\n",
        "\n",
        "# Creating a DataFrame with feature importances\n",
        "feature_importances = pd.DataFrame({'Feature': X.columns, 'Importance': importances})\n",
        "\n",
        "# Sorting features by importance in descending order\n",
        "feature_importances = feature_importances.sort_values('Importance', ascending=False)\n",
        "\n",
        "# Defining the number of top features to be selected\n",
        "feature_counts = [5, 10, 15, len(X.columns)]\n",
        "\n",
        "# DataFrame to store the results\n",
        "results_df = pd.DataFrame(index=['MSE', 'RMSE', 'MAE', 'R2'], columns=feature_counts)\n",
        "\n",
        "for count in feature_counts:\n",
        "    # Selecting the top features\n",
        "    selected_features = feature_importances['Feature'].values[:count]\n",
        "\n",
        "    # Filtering the original DataFrame columns with the selected features\n",
        "    X_selected = X[selected_features]\n",
        "\n",
        "    # Splitting the data into training and test sets\n",
        "    X_train, X_test, y_train, y_test = train_test_split(X_selected, y, test_size=0.2)\n",
        "\n",
        "    # Training the model with the selected top features only\n",
        "    model_selected_features = RandomForestRegressor()\n",
        "    model_selected_features.fit(X_train, y_train)\n",
        "\n",
        "    # Making predictions\n",
        "    y_pred = model_selected_features.predict(X_test)\n",
        "\n",
        "    # Calculating evaluation metrics\n",
        "    mse = mean_squared_error(y_test, y_pred)\n",
        "    rmse = mean_squared_error(y_test, y_pred, squared=False)\n",
        "    mae = mean_absolute_error(y_test, y_pred)\n",
        "    r2 = r2_score(y_test, y_pred)\n",
        "\n",
        "    # Storing the results in the DataFrame\n",
        "    results_df[count] = [mse, rmse, mae, r2]\n",
        "\n",
        "# DataFrame with the results\n",
        "results_df"
      ],
      "metadata": {
        "colab": {
          "base_uri": "https://localhost:8080/",
          "height": 174
        },
        "id": "N5JGTJgH8Rlk",
        "outputId": "548d62b3-6231-48cd-db38-941d2db85e8e"
      },
      "execution_count": 203,
      "outputs": [
        {
          "output_type": "execute_result",
          "data": {
            "text/plain": [
              "              5          10         15         23\n",
              "MSE   131.955531  68.290903  68.192669  68.049824\n",
              "RMSE   11.487190   8.263831   8.257885   8.249232\n",
              "MAE     9.089482   6.130727   6.152583   6.114092\n",
              "R2      0.730179   0.856123   0.859962   0.862799"
            ],
            "text/html": [
              "\n",
              "  <div id=\"df-e9eb3f17-7b3a-4218-b5e8-e291351a1793\">\n",
              "    <div class=\"colab-df-container\">\n",
              "      <div>\n",
              "<style scoped>\n",
              "    .dataframe tbody tr th:only-of-type {\n",
              "        vertical-align: middle;\n",
              "    }\n",
              "\n",
              "    .dataframe tbody tr th {\n",
              "        vertical-align: top;\n",
              "    }\n",
              "\n",
              "    .dataframe thead th {\n",
              "        text-align: right;\n",
              "    }\n",
              "</style>\n",
              "<table border=\"1\" class=\"dataframe\">\n",
              "  <thead>\n",
              "    <tr style=\"text-align: right;\">\n",
              "      <th></th>\n",
              "      <th>5</th>\n",
              "      <th>10</th>\n",
              "      <th>15</th>\n",
              "      <th>23</th>\n",
              "    </tr>\n",
              "  </thead>\n",
              "  <tbody>\n",
              "    <tr>\n",
              "      <th>MSE</th>\n",
              "      <td>131.955531</td>\n",
              "      <td>68.290903</td>\n",
              "      <td>68.192669</td>\n",
              "      <td>68.049824</td>\n",
              "    </tr>\n",
              "    <tr>\n",
              "      <th>RMSE</th>\n",
              "      <td>11.487190</td>\n",
              "      <td>8.263831</td>\n",
              "      <td>8.257885</td>\n",
              "      <td>8.249232</td>\n",
              "    </tr>\n",
              "    <tr>\n",
              "      <th>MAE</th>\n",
              "      <td>9.089482</td>\n",
              "      <td>6.130727</td>\n",
              "      <td>6.152583</td>\n",
              "      <td>6.114092</td>\n",
              "    </tr>\n",
              "    <tr>\n",
              "      <th>R2</th>\n",
              "      <td>0.730179</td>\n",
              "      <td>0.856123</td>\n",
              "      <td>0.859962</td>\n",
              "      <td>0.862799</td>\n",
              "    </tr>\n",
              "  </tbody>\n",
              "</table>\n",
              "</div>\n",
              "      <button class=\"colab-df-convert\" onclick=\"convertToInteractive('df-e9eb3f17-7b3a-4218-b5e8-e291351a1793')\"\n",
              "              title=\"Convert this dataframe to an interactive table.\"\n",
              "              style=\"display:none;\">\n",
              "        \n",
              "  <svg xmlns=\"http://www.w3.org/2000/svg\" height=\"24px\"viewBox=\"0 0 24 24\"\n",
              "       width=\"24px\">\n",
              "    <path d=\"M0 0h24v24H0V0z\" fill=\"none\"/>\n",
              "    <path d=\"M18.56 5.44l.94 2.06.94-2.06 2.06-.94-2.06-.94-.94-2.06-.94 2.06-2.06.94zm-11 1L8.5 8.5l.94-2.06 2.06-.94-2.06-.94L8.5 2.5l-.94 2.06-2.06.94zm10 10l.94 2.06.94-2.06 2.06-.94-2.06-.94-.94-2.06-.94 2.06-2.06.94z\"/><path d=\"M17.41 7.96l-1.37-1.37c-.4-.4-.92-.59-1.43-.59-.52 0-1.04.2-1.43.59L10.3 9.45l-7.72 7.72c-.78.78-.78 2.05 0 2.83L4 21.41c.39.39.9.59 1.41.59.51 0 1.02-.2 1.41-.59l7.78-7.78 2.81-2.81c.8-.78.8-2.07 0-2.86zM5.41 20L4 18.59l7.72-7.72 1.47 1.35L5.41 20z\"/>\n",
              "  </svg>\n",
              "      </button>\n",
              "      \n",
              "  <style>\n",
              "    .colab-df-container {\n",
              "      display:flex;\n",
              "      flex-wrap:wrap;\n",
              "      gap: 12px;\n",
              "    }\n",
              "\n",
              "    .colab-df-convert {\n",
              "      background-color: #E8F0FE;\n",
              "      border: none;\n",
              "      border-radius: 50%;\n",
              "      cursor: pointer;\n",
              "      display: none;\n",
              "      fill: #1967D2;\n",
              "      height: 32px;\n",
              "      padding: 0 0 0 0;\n",
              "      width: 32px;\n",
              "    }\n",
              "\n",
              "    .colab-df-convert:hover {\n",
              "      background-color: #E2EBFA;\n",
              "      box-shadow: 0px 1px 2px rgba(60, 64, 67, 0.3), 0px 1px 3px 1px rgba(60, 64, 67, 0.15);\n",
              "      fill: #174EA6;\n",
              "    }\n",
              "\n",
              "    [theme=dark] .colab-df-convert {\n",
              "      background-color: #3B4455;\n",
              "      fill: #D2E3FC;\n",
              "    }\n",
              "\n",
              "    [theme=dark] .colab-df-convert:hover {\n",
              "      background-color: #434B5C;\n",
              "      box-shadow: 0px 1px 3px 1px rgba(0, 0, 0, 0.15);\n",
              "      filter: drop-shadow(0px 1px 2px rgba(0, 0, 0, 0.3));\n",
              "      fill: #FFFFFF;\n",
              "    }\n",
              "  </style>\n",
              "\n",
              "      <script>\n",
              "        const buttonEl =\n",
              "          document.querySelector('#df-e9eb3f17-7b3a-4218-b5e8-e291351a1793 button.colab-df-convert');\n",
              "        buttonEl.style.display =\n",
              "          google.colab.kernel.accessAllowed ? 'block' : 'none';\n",
              "\n",
              "        async function convertToInteractive(key) {\n",
              "          const element = document.querySelector('#df-e9eb3f17-7b3a-4218-b5e8-e291351a1793');\n",
              "          const dataTable =\n",
              "            await google.colab.kernel.invokeFunction('convertToInteractive',\n",
              "                                                     [key], {});\n",
              "          if (!dataTable) return;\n",
              "\n",
              "          const docLinkHtml = 'Like what you see? Visit the ' +\n",
              "            '<a target=\"_blank\" href=https://colab.research.google.com/notebooks/data_table.ipynb>data table notebook</a>'\n",
              "            + ' to learn more about interactive tables.';\n",
              "          element.innerHTML = '';\n",
              "          dataTable['output_type'] = 'display_data';\n",
              "          await google.colab.output.renderOutput(dataTable, element);\n",
              "          const docLink = document.createElement('div');\n",
              "          docLink.innerHTML = docLinkHtml;\n",
              "          element.appendChild(docLink);\n",
              "        }\n",
              "      </script>\n",
              "    </div>\n",
              "  </div>\n",
              "  "
            ]
          },
          "metadata": {},
          "execution_count": 203
        }
      ]
    },
    {
      "cell_type": "code",
      "source": [
        "feature_importances"
      ],
      "metadata": {
        "colab": {
          "base_uri": "https://localhost:8080/",
          "height": 770
        },
        "id": "H7pge6ZM82xG",
        "outputId": "2437ba5f-4c02-4480-ca0b-2414ed9b1d4b"
      },
      "execution_count": 204,
      "outputs": [
        {
          "output_type": "execute_result",
          "data": {
            "text/plain": [
              "                       Feature  Importance\n",
              "4                   airline_BZ    0.383703\n",
              "3                   is_weekend    0.235763\n",
              "2                   is_holiday    0.103205\n",
              "7    aircraft_type_Airbus A320    0.067865\n",
              "8    aircraft_type_Airbus A330    0.048769\n",
              "12  aircraft_type_Embraer E175    0.037412\n",
              "1                 arrival_time    0.031755\n",
              "11    aircraft_type_Boeing 787    0.019595\n",
              "20                  origin_TCY    0.018310\n",
              "17                  origin_FJB    0.012629\n",
              "15                  origin_CSF    0.009077\n",
              "0                     schengen    0.008039\n",
              "19                  origin_PUA    0.006885\n",
              "21                  origin_TZF    0.006421\n",
              "22                  origin_ZQO    0.004602\n",
              "16                  origin_EMM    0.002135\n",
              "9     aircraft_type_Boeing 737    0.001593\n",
              "13                  origin_AUZ    0.000793\n",
              "14                  origin_CNU    0.000441\n",
              "18                  origin_MWL    0.000430\n",
              "5                   airline_MM    0.000234\n",
              "6                   airline_YE    0.000207\n",
              "10    aircraft_type_Boeing 777    0.000138"
            ],
            "text/html": [
              "\n",
              "  <div id=\"df-4f8b0a0e-d52c-4932-966b-f73ad8099135\">\n",
              "    <div class=\"colab-df-container\">\n",
              "      <div>\n",
              "<style scoped>\n",
              "    .dataframe tbody tr th:only-of-type {\n",
              "        vertical-align: middle;\n",
              "    }\n",
              "\n",
              "    .dataframe tbody tr th {\n",
              "        vertical-align: top;\n",
              "    }\n",
              "\n",
              "    .dataframe thead th {\n",
              "        text-align: right;\n",
              "    }\n",
              "</style>\n",
              "<table border=\"1\" class=\"dataframe\">\n",
              "  <thead>\n",
              "    <tr style=\"text-align: right;\">\n",
              "      <th></th>\n",
              "      <th>Feature</th>\n",
              "      <th>Importance</th>\n",
              "    </tr>\n",
              "  </thead>\n",
              "  <tbody>\n",
              "    <tr>\n",
              "      <th>4</th>\n",
              "      <td>airline_BZ</td>\n",
              "      <td>0.383703</td>\n",
              "    </tr>\n",
              "    <tr>\n",
              "      <th>3</th>\n",
              "      <td>is_weekend</td>\n",
              "      <td>0.235763</td>\n",
              "    </tr>\n",
              "    <tr>\n",
              "      <th>2</th>\n",
              "      <td>is_holiday</td>\n",
              "      <td>0.103205</td>\n",
              "    </tr>\n",
              "    <tr>\n",
              "      <th>7</th>\n",
              "      <td>aircraft_type_Airbus A320</td>\n",
              "      <td>0.067865</td>\n",
              "    </tr>\n",
              "    <tr>\n",
              "      <th>8</th>\n",
              "      <td>aircraft_type_Airbus A330</td>\n",
              "      <td>0.048769</td>\n",
              "    </tr>\n",
              "    <tr>\n",
              "      <th>12</th>\n",
              "      <td>aircraft_type_Embraer E175</td>\n",
              "      <td>0.037412</td>\n",
              "    </tr>\n",
              "    <tr>\n",
              "      <th>1</th>\n",
              "      <td>arrival_time</td>\n",
              "      <td>0.031755</td>\n",
              "    </tr>\n",
              "    <tr>\n",
              "      <th>11</th>\n",
              "      <td>aircraft_type_Boeing 787</td>\n",
              "      <td>0.019595</td>\n",
              "    </tr>\n",
              "    <tr>\n",
              "      <th>20</th>\n",
              "      <td>origin_TCY</td>\n",
              "      <td>0.018310</td>\n",
              "    </tr>\n",
              "    <tr>\n",
              "      <th>17</th>\n",
              "      <td>origin_FJB</td>\n",
              "      <td>0.012629</td>\n",
              "    </tr>\n",
              "    <tr>\n",
              "      <th>15</th>\n",
              "      <td>origin_CSF</td>\n",
              "      <td>0.009077</td>\n",
              "    </tr>\n",
              "    <tr>\n",
              "      <th>0</th>\n",
              "      <td>schengen</td>\n",
              "      <td>0.008039</td>\n",
              "    </tr>\n",
              "    <tr>\n",
              "      <th>19</th>\n",
              "      <td>origin_PUA</td>\n",
              "      <td>0.006885</td>\n",
              "    </tr>\n",
              "    <tr>\n",
              "      <th>21</th>\n",
              "      <td>origin_TZF</td>\n",
              "      <td>0.006421</td>\n",
              "    </tr>\n",
              "    <tr>\n",
              "      <th>22</th>\n",
              "      <td>origin_ZQO</td>\n",
              "      <td>0.004602</td>\n",
              "    </tr>\n",
              "    <tr>\n",
              "      <th>16</th>\n",
              "      <td>origin_EMM</td>\n",
              "      <td>0.002135</td>\n",
              "    </tr>\n",
              "    <tr>\n",
              "      <th>9</th>\n",
              "      <td>aircraft_type_Boeing 737</td>\n",
              "      <td>0.001593</td>\n",
              "    </tr>\n",
              "    <tr>\n",
              "      <th>13</th>\n",
              "      <td>origin_AUZ</td>\n",
              "      <td>0.000793</td>\n",
              "    </tr>\n",
              "    <tr>\n",
              "      <th>14</th>\n",
              "      <td>origin_CNU</td>\n",
              "      <td>0.000441</td>\n",
              "    </tr>\n",
              "    <tr>\n",
              "      <th>18</th>\n",
              "      <td>origin_MWL</td>\n",
              "      <td>0.000430</td>\n",
              "    </tr>\n",
              "    <tr>\n",
              "      <th>5</th>\n",
              "      <td>airline_MM</td>\n",
              "      <td>0.000234</td>\n",
              "    </tr>\n",
              "    <tr>\n",
              "      <th>6</th>\n",
              "      <td>airline_YE</td>\n",
              "      <td>0.000207</td>\n",
              "    </tr>\n",
              "    <tr>\n",
              "      <th>10</th>\n",
              "      <td>aircraft_type_Boeing 777</td>\n",
              "      <td>0.000138</td>\n",
              "    </tr>\n",
              "  </tbody>\n",
              "</table>\n",
              "</div>\n",
              "      <button class=\"colab-df-convert\" onclick=\"convertToInteractive('df-4f8b0a0e-d52c-4932-966b-f73ad8099135')\"\n",
              "              title=\"Convert this dataframe to an interactive table.\"\n",
              "              style=\"display:none;\">\n",
              "        \n",
              "  <svg xmlns=\"http://www.w3.org/2000/svg\" height=\"24px\"viewBox=\"0 0 24 24\"\n",
              "       width=\"24px\">\n",
              "    <path d=\"M0 0h24v24H0V0z\" fill=\"none\"/>\n",
              "    <path d=\"M18.56 5.44l.94 2.06.94-2.06 2.06-.94-2.06-.94-.94-2.06-.94 2.06-2.06.94zm-11 1L8.5 8.5l.94-2.06 2.06-.94-2.06-.94L8.5 2.5l-.94 2.06-2.06.94zm10 10l.94 2.06.94-2.06 2.06-.94-2.06-.94-.94-2.06-.94 2.06-2.06.94z\"/><path d=\"M17.41 7.96l-1.37-1.37c-.4-.4-.92-.59-1.43-.59-.52 0-1.04.2-1.43.59L10.3 9.45l-7.72 7.72c-.78.78-.78 2.05 0 2.83L4 21.41c.39.39.9.59 1.41.59.51 0 1.02-.2 1.41-.59l7.78-7.78 2.81-2.81c.8-.78.8-2.07 0-2.86zM5.41 20L4 18.59l7.72-7.72 1.47 1.35L5.41 20z\"/>\n",
              "  </svg>\n",
              "      </button>\n",
              "      \n",
              "  <style>\n",
              "    .colab-df-container {\n",
              "      display:flex;\n",
              "      flex-wrap:wrap;\n",
              "      gap: 12px;\n",
              "    }\n",
              "\n",
              "    .colab-df-convert {\n",
              "      background-color: #E8F0FE;\n",
              "      border: none;\n",
              "      border-radius: 50%;\n",
              "      cursor: pointer;\n",
              "      display: none;\n",
              "      fill: #1967D2;\n",
              "      height: 32px;\n",
              "      padding: 0 0 0 0;\n",
              "      width: 32px;\n",
              "    }\n",
              "\n",
              "    .colab-df-convert:hover {\n",
              "      background-color: #E2EBFA;\n",
              "      box-shadow: 0px 1px 2px rgba(60, 64, 67, 0.3), 0px 1px 3px 1px rgba(60, 64, 67, 0.15);\n",
              "      fill: #174EA6;\n",
              "    }\n",
              "\n",
              "    [theme=dark] .colab-df-convert {\n",
              "      background-color: #3B4455;\n",
              "      fill: #D2E3FC;\n",
              "    }\n",
              "\n",
              "    [theme=dark] .colab-df-convert:hover {\n",
              "      background-color: #434B5C;\n",
              "      box-shadow: 0px 1px 3px 1px rgba(0, 0, 0, 0.15);\n",
              "      filter: drop-shadow(0px 1px 2px rgba(0, 0, 0, 0.3));\n",
              "      fill: #FFFFFF;\n",
              "    }\n",
              "  </style>\n",
              "\n",
              "      <script>\n",
              "        const buttonEl =\n",
              "          document.querySelector('#df-4f8b0a0e-d52c-4932-966b-f73ad8099135 button.colab-df-convert');\n",
              "        buttonEl.style.display =\n",
              "          google.colab.kernel.accessAllowed ? 'block' : 'none';\n",
              "\n",
              "        async function convertToInteractive(key) {\n",
              "          const element = document.querySelector('#df-4f8b0a0e-d52c-4932-966b-f73ad8099135');\n",
              "          const dataTable =\n",
              "            await google.colab.kernel.invokeFunction('convertToInteractive',\n",
              "                                                     [key], {});\n",
              "          if (!dataTable) return;\n",
              "\n",
              "          const docLinkHtml = 'Like what you see? Visit the ' +\n",
              "            '<a target=\"_blank\" href=https://colab.research.google.com/notebooks/data_table.ipynb>data table notebook</a>'\n",
              "            + ' to learn more about interactive tables.';\n",
              "          element.innerHTML = '';\n",
              "          dataTable['output_type'] = 'display_data';\n",
              "          await google.colab.output.renderOutput(dataTable, element);\n",
              "          const docLink = document.createElement('div');\n",
              "          docLink.innerHTML = docLinkHtml;\n",
              "          element.appendChild(docLink);\n",
              "        }\n",
              "      </script>\n",
              "    </div>\n",
              "  </div>\n",
              "  "
            ]
          },
          "metadata": {},
          "execution_count": 204
        }
      ]
    },
    {
      "cell_type": "code",
      "source": [
        "X_selected_features = X_selected.iloc[:, :10]"
      ],
      "metadata": {
        "id": "OoQ9nmWH-HKq"
      },
      "execution_count": 205,
      "outputs": []
    },
    {
      "cell_type": "code",
      "source": [
        "X_selected_features"
      ],
      "metadata": {
        "colab": {
          "base_uri": "https://localhost:8080/",
          "height": 484
        },
        "id": "Ynz3jFx3_LZb",
        "outputId": "fe31eb0a-81eb-4d6a-d6b0-c48e2af0ed83"
      },
      "execution_count": 206,
      "outputs": [
        {
          "output_type": "execute_result",
          "data": {
            "text/plain": [
              "       airline_BZ  is_weekend  is_holiday  aircraft_type_Airbus A320  \\\n",
              "0               0           1           0                          1   \n",
              "1               0           1           0                          1   \n",
              "2               1           1           0                          0   \n",
              "3               1           1           0                          0   \n",
              "4               1           1           0                          0   \n",
              "...           ...         ...         ...                        ...   \n",
              "71170           1           1           1                          0   \n",
              "71171           1           1           1                          0   \n",
              "71172           0           1           1                          0   \n",
              "71173           1           1           1                          1   \n",
              "71174           1           1           1                          0   \n",
              "\n",
              "       aircraft_type_Airbus A330  aircraft_type_Embraer E175  arrival_time  \\\n",
              "0                              0                           0      8.885071   \n",
              "1                              0                           0      8.939996   \n",
              "2                              0                           1     18.635384   \n",
              "3                              1                           0     15.967963   \n",
              "4                              1                           0     16.571894   \n",
              "...                          ...                         ...           ...   \n",
              "71170                          0                           1     18.635384   \n",
              "71171                          1                           0     16.718722   \n",
              "71172                          0                           0      8.564949   \n",
              "71173                          0                           0      9.344097   \n",
              "71174                          0                           0      8.591208   \n",
              "\n",
              "       aircraft_type_Boeing 787  origin_TCY  origin_FJB  \n",
              "0                             0           1           0  \n",
              "1                             0           1           0  \n",
              "2                             0           0           0  \n",
              "3                             0           0           0  \n",
              "4                             0           0           1  \n",
              "...                         ...         ...         ...  \n",
              "71170                         0           0           0  \n",
              "71171                         0           0           0  \n",
              "71172                         1           0           0  \n",
              "71173                         0           0           0  \n",
              "71174                         0           0           0  \n",
              "\n",
              "[70526 rows x 10 columns]"
            ],
            "text/html": [
              "\n",
              "  <div id=\"df-f7bd21ac-7b73-4dc5-b19c-d05bafb57926\">\n",
              "    <div class=\"colab-df-container\">\n",
              "      <div>\n",
              "<style scoped>\n",
              "    .dataframe tbody tr th:only-of-type {\n",
              "        vertical-align: middle;\n",
              "    }\n",
              "\n",
              "    .dataframe tbody tr th {\n",
              "        vertical-align: top;\n",
              "    }\n",
              "\n",
              "    .dataframe thead th {\n",
              "        text-align: right;\n",
              "    }\n",
              "</style>\n",
              "<table border=\"1\" class=\"dataframe\">\n",
              "  <thead>\n",
              "    <tr style=\"text-align: right;\">\n",
              "      <th></th>\n",
              "      <th>airline_BZ</th>\n",
              "      <th>is_weekend</th>\n",
              "      <th>is_holiday</th>\n",
              "      <th>aircraft_type_Airbus A320</th>\n",
              "      <th>aircraft_type_Airbus A330</th>\n",
              "      <th>aircraft_type_Embraer E175</th>\n",
              "      <th>arrival_time</th>\n",
              "      <th>aircraft_type_Boeing 787</th>\n",
              "      <th>origin_TCY</th>\n",
              "      <th>origin_FJB</th>\n",
              "    </tr>\n",
              "  </thead>\n",
              "  <tbody>\n",
              "    <tr>\n",
              "      <th>0</th>\n",
              "      <td>0</td>\n",
              "      <td>1</td>\n",
              "      <td>0</td>\n",
              "      <td>1</td>\n",
              "      <td>0</td>\n",
              "      <td>0</td>\n",
              "      <td>8.885071</td>\n",
              "      <td>0</td>\n",
              "      <td>1</td>\n",
              "      <td>0</td>\n",
              "    </tr>\n",
              "    <tr>\n",
              "      <th>1</th>\n",
              "      <td>0</td>\n",
              "      <td>1</td>\n",
              "      <td>0</td>\n",
              "      <td>1</td>\n",
              "      <td>0</td>\n",
              "      <td>0</td>\n",
              "      <td>8.939996</td>\n",
              "      <td>0</td>\n",
              "      <td>1</td>\n",
              "      <td>0</td>\n",
              "    </tr>\n",
              "    <tr>\n",
              "      <th>2</th>\n",
              "      <td>1</td>\n",
              "      <td>1</td>\n",
              "      <td>0</td>\n",
              "      <td>0</td>\n",
              "      <td>0</td>\n",
              "      <td>1</td>\n",
              "      <td>18.635384</td>\n",
              "      <td>0</td>\n",
              "      <td>0</td>\n",
              "      <td>0</td>\n",
              "    </tr>\n",
              "    <tr>\n",
              "      <th>3</th>\n",
              "      <td>1</td>\n",
              "      <td>1</td>\n",
              "      <td>0</td>\n",
              "      <td>0</td>\n",
              "      <td>1</td>\n",
              "      <td>0</td>\n",
              "      <td>15.967963</td>\n",
              "      <td>0</td>\n",
              "      <td>0</td>\n",
              "      <td>0</td>\n",
              "    </tr>\n",
              "    <tr>\n",
              "      <th>4</th>\n",
              "      <td>1</td>\n",
              "      <td>1</td>\n",
              "      <td>0</td>\n",
              "      <td>0</td>\n",
              "      <td>1</td>\n",
              "      <td>0</td>\n",
              "      <td>16.571894</td>\n",
              "      <td>0</td>\n",
              "      <td>0</td>\n",
              "      <td>1</td>\n",
              "    </tr>\n",
              "    <tr>\n",
              "      <th>...</th>\n",
              "      <td>...</td>\n",
              "      <td>...</td>\n",
              "      <td>...</td>\n",
              "      <td>...</td>\n",
              "      <td>...</td>\n",
              "      <td>...</td>\n",
              "      <td>...</td>\n",
              "      <td>...</td>\n",
              "      <td>...</td>\n",
              "      <td>...</td>\n",
              "    </tr>\n",
              "    <tr>\n",
              "      <th>71170</th>\n",
              "      <td>1</td>\n",
              "      <td>1</td>\n",
              "      <td>1</td>\n",
              "      <td>0</td>\n",
              "      <td>0</td>\n",
              "      <td>1</td>\n",
              "      <td>18.635384</td>\n",
              "      <td>0</td>\n",
              "      <td>0</td>\n",
              "      <td>0</td>\n",
              "    </tr>\n",
              "    <tr>\n",
              "      <th>71171</th>\n",
              "      <td>1</td>\n",
              "      <td>1</td>\n",
              "      <td>1</td>\n",
              "      <td>0</td>\n",
              "      <td>1</td>\n",
              "      <td>0</td>\n",
              "      <td>16.718722</td>\n",
              "      <td>0</td>\n",
              "      <td>0</td>\n",
              "      <td>0</td>\n",
              "    </tr>\n",
              "    <tr>\n",
              "      <th>71172</th>\n",
              "      <td>0</td>\n",
              "      <td>1</td>\n",
              "      <td>1</td>\n",
              "      <td>0</td>\n",
              "      <td>0</td>\n",
              "      <td>0</td>\n",
              "      <td>8.564949</td>\n",
              "      <td>1</td>\n",
              "      <td>0</td>\n",
              "      <td>0</td>\n",
              "    </tr>\n",
              "    <tr>\n",
              "      <th>71173</th>\n",
              "      <td>1</td>\n",
              "      <td>1</td>\n",
              "      <td>1</td>\n",
              "      <td>1</td>\n",
              "      <td>0</td>\n",
              "      <td>0</td>\n",
              "      <td>9.344097</td>\n",
              "      <td>0</td>\n",
              "      <td>0</td>\n",
              "      <td>0</td>\n",
              "    </tr>\n",
              "    <tr>\n",
              "      <th>71174</th>\n",
              "      <td>1</td>\n",
              "      <td>1</td>\n",
              "      <td>1</td>\n",
              "      <td>0</td>\n",
              "      <td>0</td>\n",
              "      <td>0</td>\n",
              "      <td>8.591208</td>\n",
              "      <td>0</td>\n",
              "      <td>0</td>\n",
              "      <td>0</td>\n",
              "    </tr>\n",
              "  </tbody>\n",
              "</table>\n",
              "<p>70526 rows × 10 columns</p>\n",
              "</div>\n",
              "      <button class=\"colab-df-convert\" onclick=\"convertToInteractive('df-f7bd21ac-7b73-4dc5-b19c-d05bafb57926')\"\n",
              "              title=\"Convert this dataframe to an interactive table.\"\n",
              "              style=\"display:none;\">\n",
              "        \n",
              "  <svg xmlns=\"http://www.w3.org/2000/svg\" height=\"24px\"viewBox=\"0 0 24 24\"\n",
              "       width=\"24px\">\n",
              "    <path d=\"M0 0h24v24H0V0z\" fill=\"none\"/>\n",
              "    <path d=\"M18.56 5.44l.94 2.06.94-2.06 2.06-.94-2.06-.94-.94-2.06-.94 2.06-2.06.94zm-11 1L8.5 8.5l.94-2.06 2.06-.94-2.06-.94L8.5 2.5l-.94 2.06-2.06.94zm10 10l.94 2.06.94-2.06 2.06-.94-2.06-.94-.94-2.06-.94 2.06-2.06.94z\"/><path d=\"M17.41 7.96l-1.37-1.37c-.4-.4-.92-.59-1.43-.59-.52 0-1.04.2-1.43.59L10.3 9.45l-7.72 7.72c-.78.78-.78 2.05 0 2.83L4 21.41c.39.39.9.59 1.41.59.51 0 1.02-.2 1.41-.59l7.78-7.78 2.81-2.81c.8-.78.8-2.07 0-2.86zM5.41 20L4 18.59l7.72-7.72 1.47 1.35L5.41 20z\"/>\n",
              "  </svg>\n",
              "      </button>\n",
              "      \n",
              "  <style>\n",
              "    .colab-df-container {\n",
              "      display:flex;\n",
              "      flex-wrap:wrap;\n",
              "      gap: 12px;\n",
              "    }\n",
              "\n",
              "    .colab-df-convert {\n",
              "      background-color: #E8F0FE;\n",
              "      border: none;\n",
              "      border-radius: 50%;\n",
              "      cursor: pointer;\n",
              "      display: none;\n",
              "      fill: #1967D2;\n",
              "      height: 32px;\n",
              "      padding: 0 0 0 0;\n",
              "      width: 32px;\n",
              "    }\n",
              "\n",
              "    .colab-df-convert:hover {\n",
              "      background-color: #E2EBFA;\n",
              "      box-shadow: 0px 1px 2px rgba(60, 64, 67, 0.3), 0px 1px 3px 1px rgba(60, 64, 67, 0.15);\n",
              "      fill: #174EA6;\n",
              "    }\n",
              "\n",
              "    [theme=dark] .colab-df-convert {\n",
              "      background-color: #3B4455;\n",
              "      fill: #D2E3FC;\n",
              "    }\n",
              "\n",
              "    [theme=dark] .colab-df-convert:hover {\n",
              "      background-color: #434B5C;\n",
              "      box-shadow: 0px 1px 3px 1px rgba(0, 0, 0, 0.15);\n",
              "      filter: drop-shadow(0px 1px 2px rgba(0, 0, 0, 0.3));\n",
              "      fill: #FFFFFF;\n",
              "    }\n",
              "  </style>\n",
              "\n",
              "      <script>\n",
              "        const buttonEl =\n",
              "          document.querySelector('#df-f7bd21ac-7b73-4dc5-b19c-d05bafb57926 button.colab-df-convert');\n",
              "        buttonEl.style.display =\n",
              "          google.colab.kernel.accessAllowed ? 'block' : 'none';\n",
              "\n",
              "        async function convertToInteractive(key) {\n",
              "          const element = document.querySelector('#df-f7bd21ac-7b73-4dc5-b19c-d05bafb57926');\n",
              "          const dataTable =\n",
              "            await google.colab.kernel.invokeFunction('convertToInteractive',\n",
              "                                                     [key], {});\n",
              "          if (!dataTable) return;\n",
              "\n",
              "          const docLinkHtml = 'Like what you see? Visit the ' +\n",
              "            '<a target=\"_blank\" href=https://colab.research.google.com/notebooks/data_table.ipynb>data table notebook</a>'\n",
              "            + ' to learn more about interactive tables.';\n",
              "          element.innerHTML = '';\n",
              "          dataTable['output_type'] = 'display_data';\n",
              "          await google.colab.output.renderOutput(dataTable, element);\n",
              "          const docLink = document.createElement('div');\n",
              "          docLink.innerHTML = docLinkHtml;\n",
              "          element.appendChild(docLink);\n",
              "        }\n",
              "      </script>\n",
              "    </div>\n",
              "  </div>\n",
              "  "
            ]
          },
          "metadata": {},
          "execution_count": 206
        }
      ]
    },
    {
      "cell_type": "markdown",
      "source": [
        "###**Grid search for hyperparameter tuning**"
      ],
      "metadata": {
        "id": "yycK96zhlpyl"
      }
    },
    {
      "cell_type": "code",
      "source": [
        "# Defining the hyperparameters to be optimized\n",
        "\n",
        "param_grid = {\n",
        " 'max_depth': [None, 10, 20],\n",
        " 'min_samples_leaf': [1, 2, 3],\n",
        " 'min_samples_split': [2, 3, 4],\n",
        " 'n_estimators': [200, 300, 500]}"
      ],
      "metadata": {
        "id": "58iuBzQbmwOM"
      },
      "execution_count": 207,
      "outputs": []
    },
    {
      "cell_type": "code",
      "source": [
        "from sklearn.model_selection import GridSearchCV\n",
        "\n",
        "# Defining the hyperparameters to be optimized\n",
        "modelo_grid = GridSearchCV(model_rf, param_grid=param_grid, cv=5, scoring='r2')\n",
        "\n",
        "# Training\n",
        "X_train, X_test, y_train, y_test = train_test_split(X_selected_features, y, test_size=0.2)\n",
        "modelo_grid.fit(X_train, y_train)\n",
        "\n",
        "# Obtaining the best values for each parameter\n",
        "best_params = modelo_grid.best_params_\n",
        "\n",
        "best_params"
      ],
      "metadata": {
        "colab": {
          "base_uri": "https://localhost:8080/"
        },
        "id": "86EEjPvnmwLC",
        "outputId": "3b1b95ec-9a01-492a-b88e-07767b8ea314"
      },
      "execution_count": 210,
      "outputs": [
        {
          "output_type": "execute_result",
          "data": {
            "text/plain": [
              "{'max_depth': 10,\n",
              " 'min_samples_leaf': 2,\n",
              " 'min_samples_split': 4,\n",
              " 'n_estimators': 200}"
            ]
          },
          "metadata": {},
          "execution_count": 210
        }
      ]
    },
    {
      "cell_type": "markdown",
      "source": [
        "###**Model selection and comparison**"
      ],
      "metadata": {
        "id": "kA8l-Mi4lp1U"
      }
    },
    {
      "cell_type": "code",
      "source": [
        "# Training the model\n",
        "model_tunned = RandomForestRegressor(max_depth=10, min_samples_leaf=2, min_samples_split=4, n_estimators=200)\n",
        "model_tunned.fit(X_train, y_train)\n",
        "\n",
        "# Predictions\n",
        "y_pred_tunned = model_tunned.predict(X_test)"
      ],
      "metadata": {
        "id": "Gq1QYC8Vmwqu"
      },
      "execution_count": 212,
      "outputs": []
    },
    {
      "cell_type": "code",
      "source": [
        "calculate_regression_metrics(y_test, y_pred_tunned)"
      ],
      "metadata": {
        "colab": {
          "base_uri": "https://localhost:8080/"
        },
        "id": "3N2MuJaLZy26",
        "outputId": "1d094ba0-55ea-4a5e-fc26-7ed76c0cbd79"
      },
      "execution_count": 213,
      "outputs": [
        {
          "output_type": "stream",
          "name": "stdout",
          "text": [
            "Mean Squared Error: 66.80354467273143\n",
            "Root Mean Squared Error: 8.173343543050875\n",
            "Mean Absolute Error: 6.037091986638636\n",
            "R-squared: 0.8649769033384924\n"
          ]
        }
      ]
    },
    {
      "cell_type": "markdown",
      "source": [
        "> **Model before feature selection and hyperparameter tuning**\n",
        "- Mean Squared Error: 67.77502495290123\n",
        "- Root Mean Squared Error: 8.232558833856046\n",
        "- Mean Absolute Error: 6.110052998848193\n",
        "- R-squared: 0.8622441211921416"
      ],
      "metadata": {
        "id": "40PjX4wowxLe"
      }
    },
    {
      "cell_type": "markdown",
      "source": [
        "###**Saving trained regression models for future use**"
      ],
      "metadata": {
        "id": "sFY2nRJmlp4d"
      }
    },
    {
      "cell_type": "code",
      "source": [
        "import pickle\n",
        "\n",
        "# Specify the file path where you want to save the model\n",
        "file_path = 'model_tunned.pkl'\n",
        "\n",
        "# Save the model using pickle\n",
        "with open(file_path, 'wb') as file:\n",
        "    pickle.dump(model_tunned, file)\n",
        "\n",
        "print(\"Model saved successfully!\")"
      ],
      "metadata": {
        "colab": {
          "base_uri": "https://localhost:8080/"
        },
        "id": "HmlxLvgdmxZQ",
        "outputId": "8cf9919f-2b0a-47f1-9521-a06a52a7313a"
      },
      "execution_count": 218,
      "outputs": [
        {
          "output_type": "stream",
          "name": "stdout",
          "text": [
            "Model saved successfully!\n"
          ]
        }
      ]
    }
  ]
}