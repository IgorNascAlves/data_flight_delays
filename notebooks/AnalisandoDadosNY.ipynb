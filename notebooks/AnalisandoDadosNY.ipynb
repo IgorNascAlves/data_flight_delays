{
 "cells": [
  {
   "cell_type": "code",
   "execution_count": 1,
   "metadata": {},
   "outputs": [],
   "source": [
    "import pandas as pd"
   ]
  },
  {
   "cell_type": "code",
   "execution_count": 10,
   "metadata": {},
   "outputs": [],
   "source": [
    "caminho = r'..\\data\\ny_flights.csv'"
   ]
  },
  {
   "cell_type": "code",
   "execution_count": 11,
   "metadata": {},
   "outputs": [],
   "source": [
    "df_ny = pd.read_csv(caminho)"
   ]
  },
  {
   "cell_type": "code",
   "execution_count": 13,
   "metadata": {},
   "outputs": [
    {
     "name": "stdout",
     "output_type": "stream",
     "text": [
      "FL_DATE\n",
      "ORIGIN\n",
      "ORIGIN_CITY_NAME\n",
      "ORIGIN_STATE_NM\n",
      "DEST\n",
      "DEST_CITY_NAME\n",
      "DEST_STATE_NM\n",
      "CRS_DEP_TIME\n",
      "DEP_TIME\n",
      "DEP_DELAY\n",
      "TAXI_OUT\n",
      "WHEELS_OFF\n",
      "WHEELS_ON\n",
      "TAXI_IN\n",
      "CRS_ARR_TIME\n",
      "ARR_TIME\n",
      "ARR_DELAY\n",
      "CANCELLED\n",
      "DIVERTED\n",
      "CRS_ELAPSED_TIME\n",
      "ACTUAL_ELAPSED_TIME\n",
      "AIR_TIME\n",
      "DISTANCE\n",
      "CARRIER_DELAY\n",
      "WEATHER_DELAY\n",
      "NAS_DELAY\n",
      "SECURITY_DELAY\n",
      "LATE_AIRCRAFT_DELAY\n"
     ]
    }
   ],
   "source": [
    "for coluna in df_ny.columns:\n",
    "    print(coluna)"
   ]
  },
  {
   "attachments": {},
   "cell_type": "markdown",
   "metadata": {},
   "source": [
    "Aqui está uma explicação dos diferentes campos presentes nos dados:\n",
    "\n",
    "- FL_DATE: Data do voo.\n",
    "- ORIGIN: Código do aeroporto de origem.\n",
    "- ORIGIN_CITY_NAME: Nome da cidade de origem do voo.\n",
    "- ORIGIN_STATE_NM: Nome do estado de origem do voo.\n",
    "- DEST: Código do aeroporto de destino.\n",
    "- DEST_CITY_NAME: Nome da cidade de destino do voo.\n",
    "- DEST_STATE_NM: Nome do estado de destino do voo.\n",
    "- CRS_DEP_TIME: Hora de partida programada (Scheduled Departure Time).\n",
    "- DEP_TIME: Hora de partida real (Actual Departure Time).\n",
    "- DEP_DELAY: Atraso de partida em minutos (Departure Delay).\n",
    "- TAXI_OUT: Tempo de taxiamento antes da decolagem.\n",
    "- WHEELS_OFF: Hora de decolagem (Wheels Off).\n",
    "- WHEELS_ON: Hora de pouso (Wheels On).\n",
    "- TAXI_IN: Tempo de taxiamento após o pouso.\n",
    "- CRS_ARR_TIME: Hora de chegada programada (Scheduled Arrival Time).\n",
    "- ARR_TIME: Hora de chegada real (Actual Arrival Time).\n",
    "- ARR_DELAY: Atraso na chegada em minutos (Arrival Delay).\n",
    "- CANCELLED: Indica se o voo foi cancelado (1 = Sim, 0 = Não).\n",
    "- DIVERTED: Indica se o voo foi desviado para outro aeroporto (1 = Sim, 0 = Não).\n",
    "- CRS_ELAPSED_TIME: Tempo de voo programado (Scheduled Elapsed Time).\n",
    "- ACTUAL_ELAPSED_TIME: Tempo de voo real (Actual Elapsed Time).\n",
    "- AIR_TIME: Tempo de voo no ar.\n",
    "- DISTANCE: Distância percorrida pelo voo.\n",
    "- CARRIER_DELAY: Atraso atribuído à companhia aérea.\n",
    "- WEATHER_DELAY: Atraso atribuído ao clima.\n",
    "- NAS_DELAY: Atraso atribuído ao Sistema Nacional de Aviação (National Aviation System).\n",
    "- SECURITY_DELAY: Atraso atribuído à segurança.\n",
    "- LATE_AIRCRAFT_DELAY: Atraso atribuído a problemas com a aeronave.\n",
    "\n",
    "Esses campos fornecem informações sobre os voos, incluindo detalhes sobre as origens e destinos, horários de partida e chegada, atrasos, duração do voo, distância percorrida e possíveis causas de atraso. Esses dados podem ser usados para análise e previsão do atraso de partida dos voos, bem como para entender os principais fatores que contribuem para os atrasos."
   ]
  },
  {
   "cell_type": "code",
   "execution_count": 14,
   "metadata": {},
   "outputs": [
    {
     "name": "stdout",
     "output_type": "stream",
     "text": [
      "Arrival Flights:\n",
      "ARR_DELAY\n",
      "Early      1593398\n",
      "Delayed     925807\n",
      "On Time      33729\n",
      "Name: count, dtype: int64\n",
      "\n",
      "Departure Flights:\n",
      "DEP_DELAY\n",
      "Early      1531930\n",
      "Delayed     914216\n",
      "On Time     106788\n",
      "Name: count, dtype: int64\n"
     ]
    }
   ],
   "source": [
    "# Analyze the count of flights based on arrival delay status\n",
    "arrival_counts = df_ny['ARR_DELAY'].apply(lambda x: 'Early' if x < 0 else 'On Time' if x == 0 else 'Delayed').value_counts()\n",
    "\n",
    "# Analyze the count of flights based on departure delay status\n",
    "departure_counts = df_ny['DEP_DELAY'].apply(lambda x: 'Early' if x < 0 else 'On Time' if x == 0 else 'Delayed').value_counts()\n",
    "\n",
    "# Print the analysis results\n",
    "print(\"Arrival Flights:\")\n",
    "print(arrival_counts)\n",
    "print(\"\\nDeparture Flights:\")\n",
    "print(departure_counts)\n"
   ]
  },
  {
   "cell_type": "code",
   "execution_count": 15,
   "metadata": {},
   "outputs": [
    {
     "name": "stdout",
     "output_type": "stream",
     "text": [
      "Arrival Flights:\n",
      "ARR_DELAY\n",
      "Early      1593398\n",
      "Delayed     925807\n",
      "On Time      33729\n",
      "Name: count, dtype: int64\n",
      "\n",
      "Arrival Flight Percentages:\n",
      "ARR_DELAY\n",
      "Early      62.414383\n",
      "Delayed    36.264431\n",
      "On Time     1.321186\n",
      "Name: count, dtype: float64\n",
      "\n",
      "Departure Flights:\n",
      "DEP_DELAY\n",
      "Early      1531930\n",
      "Delayed     914216\n",
      "On Time     106788\n",
      "Name: count, dtype: int64\n",
      "\n",
      "Departure Flight Percentages:\n",
      "DEP_DELAY\n",
      "Early      60.006643\n",
      "Delayed    35.810405\n",
      "On Time     4.182952\n",
      "Name: count, dtype: float64\n"
     ]
    }
   ],
   "source": [
    "import pandas as pd\n",
    "\n",
    "# Assuming your DataFrame is named 'df_ny' containing the flight data\n",
    "\n",
    "# Analyze the count and percentage of flights based on arrival delay status\n",
    "arrival_counts = df_ny['ARR_DELAY'].apply(lambda x: 'Early' if x < 0 else 'On Time' if x == 0 else 'Delayed').value_counts()\n",
    "arrival_percentages = arrival_counts / arrival_counts.sum() * 100\n",
    "\n",
    "# Analyze the count and percentage of flights based on departure delay status\n",
    "departure_counts = df_ny['DEP_DELAY'].apply(lambda x: 'Early' if x < 0 else 'On Time' if x == 0 else 'Delayed').value_counts()\n",
    "departure_percentages = departure_counts / departure_counts.sum() * 100\n",
    "\n",
    "# Print the analysis results\n",
    "print(\"Arrival Flights:\")\n",
    "print(arrival_counts)\n",
    "print(\"\\nArrival Flight Percentages:\")\n",
    "print(arrival_percentages)\n",
    "print(\"\\nDeparture Flights:\")\n",
    "print(departure_counts)\n",
    "print(\"\\nDeparture Flight Percentages:\")\n",
    "print(departure_percentages)\n"
   ]
  },
  {
   "cell_type": "code",
   "execution_count": 16,
   "metadata": {},
   "outputs": [
    {
     "name": "stdout",
     "output_type": "stream",
     "text": [
      "Delayed Flights (15 minutes or more):\n",
      "Arrival Count: 519882\n",
      "Arrival Percentage: 20.364098719355848\n",
      "Departure Count: 500843\n",
      "Departure Percentage: 19.61832934184746\n",
      "\n",
      "Early Flights (15 minutes or more):\n",
      "Arrival Count: 929341\n",
      "Arrival Percentage: 36.402860395137516\n",
      "Departure Count: 19883\n",
      "Departure Percentage: 0.7788293782761324\n"
     ]
    }
   ],
   "source": [
    "import pandas as pd\n",
    "\n",
    "# Assuming your DataFrame is named 'df_ny' containing the flight data\n",
    "\n",
    "# Filter flights with arrival delay of 15 minutes or more\n",
    "arrival_delays = df_ny[df_ny['ARR_DELAY'] >= 15]\n",
    "\n",
    "# Filter flights with departure delay of 15 minutes or more\n",
    "departure_delays = df_ny[df_ny['DEP_DELAY'] >= 15]\n",
    "\n",
    "# Calculate the count and percentage of delayed flights\n",
    "delayed_arrival_count = len(arrival_delays)\n",
    "delayed_departure_count = len(departure_delays)\n",
    "\n",
    "total_count = len(df_ny)\n",
    "\n",
    "delayed_arrival_percentage = (delayed_arrival_count / total_count) * 100\n",
    "delayed_departure_percentage = (delayed_departure_count / total_count) * 100\n",
    "\n",
    "# Calculate the count and percentage of early flights\n",
    "early_arrival_count = len(df_ny[df_ny['ARR_DELAY'] <= -15])\n",
    "early_departure_count = len(df_ny[df_ny['DEP_DELAY'] <= -15])\n",
    "\n",
    "early_arrival_percentage = (early_arrival_count / total_count) * 100\n",
    "early_departure_percentage = (early_departure_count / total_count) * 100\n",
    "\n",
    "# Print the analysis results\n",
    "print(\"Delayed Flights (15 minutes or more):\")\n",
    "print(\"Arrival Count:\", delayed_arrival_count)\n",
    "print(\"Arrival Percentage:\", delayed_arrival_percentage)\n",
    "print(\"Departure Count:\", delayed_departure_count)\n",
    "print(\"Departure Percentage:\", delayed_departure_percentage)\n",
    "\n",
    "print(\"\\nEarly Flights (15 minutes or more):\")\n",
    "print(\"Arrival Count:\", early_arrival_count)\n",
    "print(\"Arrival Percentage:\", early_arrival_percentage)\n",
    "print(\"Departure Count:\", early_departure_count)\n",
    "print(\"Departure Percentage:\", early_departure_percentage)\n"
   ]
  },
  {
   "cell_type": "code",
   "execution_count": 17,
   "metadata": {},
   "outputs": [
    {
     "name": "stdout",
     "output_type": "stream",
     "text": [
      "Combined Delayed Flights (15 minutes or more):\n",
      "Count: 625691\n",
      "Percentage: 24.508702535984085\n",
      "\n",
      "Combined Early Flights (15 minutes or more):\n",
      "Count: 933490\n",
      "Percentage: 36.56537928516757\n"
     ]
    }
   ],
   "source": [
    "import pandas as pd\n",
    "\n",
    "# Assuming your DataFrame is named 'df_ny' containing the flight data\n",
    "\n",
    "# Filter flights with arrival or departure delays of 15 minutes or more\n",
    "combined_delays = df_ny[(df_ny['ARR_DELAY'] >= 15) | (df_ny['DEP_DELAY'] >= 15)]\n",
    "\n",
    "# Calculate the count and percentage of combined delayed flights\n",
    "combined_delayed_count = len(combined_delays)\n",
    "total_count = len(df_ny)\n",
    "\n",
    "combined_delayed_percentage = (combined_delayed_count / total_count) * 100\n",
    "\n",
    "# Calculate the count and percentage of combined early flights\n",
    "combined_early_count = len(df_ny[(df_ny['ARR_DELAY'] <= -15) | (df_ny['DEP_DELAY'] <= -15)])\n",
    "\n",
    "combined_early_percentage = (combined_early_count / total_count) * 100\n",
    "\n",
    "# Print the analysis results\n",
    "print(\"Combined Delayed Flights (15 minutes or more):\")\n",
    "print(\"Count:\", combined_delayed_count)\n",
    "print(\"Percentage:\", combined_delayed_percentage)\n",
    "\n",
    "print(\"\\nCombined Early Flights (15 minutes or more):\")\n",
    "print(\"Count:\", combined_early_count)\n",
    "print(\"Percentage:\", combined_early_percentage)\n"
   ]
  },
  {
   "cell_type": "code",
   "execution_count": 18,
   "metadata": {},
   "outputs": [
    {
     "name": "stdout",
     "output_type": "stream",
     "text": [
      "Mean Arrival Delay: 4.97454492017836\n",
      "Mean Departure Delay: 12.853598243156224\n"
     ]
    }
   ],
   "source": [
    "import pandas as pd\n",
    "\n",
    "# Assuming your DataFrame is named 'df_ny' containing the flight data\n",
    "\n",
    "# Calculate the mean delay for arrival and departure flights\n",
    "arrival_mean_delay = df_ny['ARR_DELAY'].mean()\n",
    "departure_mean_delay = df_ny['DEP_DELAY'].mean()\n",
    "\n",
    "# Print the mean delay\n",
    "print(\"Mean Arrival Delay:\", arrival_mean_delay)\n",
    "print(\"Mean Departure Delay:\", departure_mean_delay)"
   ]
  }
 ],
 "metadata": {
  "kernelspec": {
   "display_name": "Python 3",
   "language": "python",
   "name": "python3"
  },
  "language_info": {
   "codemirror_mode": {
    "name": "ipython",
    "version": 3
   },
   "file_extension": ".py",
   "mimetype": "text/x-python",
   "name": "python",
   "nbconvert_exporter": "python",
   "pygments_lexer": "ipython3",
   "version": "3.11.3"
  },
  "orig_nbformat": 4
 },
 "nbformat": 4,
 "nbformat_minor": 2
}
