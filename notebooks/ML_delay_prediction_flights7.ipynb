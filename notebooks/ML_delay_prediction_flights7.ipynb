{
  "cells": [
    {
      "attachments": {},
      "cell_type": "markdown",
      "metadata": {
        "id": "_OoK1fujGlcP"
      },
      "source": [
        "## **\"Exploratory data analysis\" (EDA)**"
      ]
    },
    {
      "cell_type": "code",
      "execution_count": 2,
      "metadata": {
        "id": "TDRlzicpBYoK"
      },
      "outputs": [],
      "source": [
        "import pandas as pd\n",
        "import numpy as np\n",
        "import matplotlib.pyplot as plt\n",
        "import seaborn as sns"
      ]
    },
    {
      "cell_type": "code",
      "execution_count": 3,
      "metadata": {},
      "outputs": [],
      "source": [
        "url_data = 'https://github.com/IgorNascAlves/data_flight_delays/blob/main/data/flights.csv?raw=True'\n",
        "SEED = 42"
      ]
    },
    {
      "cell_type": "code",
      "execution_count": 4,
      "metadata": {
        "id": "m4KuNuZ5Bd4O"
      },
      "outputs": [],
      "source": [
        "df = pd.read_csv(url_data)"
      ]
    },
    {
      "cell_type": "code",
      "execution_count": 5,
      "metadata": {
        "id": "EXTxDGFcntxN"
      },
      "outputs": [],
      "source": [
        "df = df.sample(n=10000, random_state=SEED)"
      ]
    },
    {
      "cell_type": "code",
      "execution_count": 6,
      "metadata": {
        "colab": {
          "base_uri": "https://localhost:8080/",
          "height": 206
        },
        "id": "a85hyjBtBd6y",
        "outputId": "9812cff0-257f-40a6-953e-50e0ad8ac946"
      },
      "outputs": [
        {
          "data": {
            "text/html": [
              "<div>\n",
              "<style scoped>\n",
              "    .dataframe tbody tr th:only-of-type {\n",
              "        vertical-align: middle;\n",
              "    }\n",
              "\n",
              "    .dataframe tbody tr th {\n",
              "        vertical-align: top;\n",
              "    }\n",
              "\n",
              "    .dataframe thead th {\n",
              "        text-align: right;\n",
              "    }\n",
              "</style>\n",
              "<table border=\"1\" class=\"dataframe\">\n",
              "  <thead>\n",
              "    <tr style=\"text-align: right;\">\n",
              "      <th></th>\n",
              "      <th>flight_id</th>\n",
              "      <th>airline</th>\n",
              "      <th>aircraft_type</th>\n",
              "      <th>schengen</th>\n",
              "      <th>origin</th>\n",
              "      <th>arrival_time</th>\n",
              "      <th>departure_time</th>\n",
              "      <th>day</th>\n",
              "      <th>year</th>\n",
              "      <th>is_holiday</th>\n",
              "      <th>delay</th>\n",
              "    </tr>\n",
              "  </thead>\n",
              "  <tbody>\n",
              "    <tr>\n",
              "      <th>40337</th>\n",
              "      <td>11</td>\n",
              "      <td>BZ</td>\n",
              "      <td>Airbus A320</td>\n",
              "      <td>non-schengen</td>\n",
              "      <td>EMM</td>\n",
              "      <td>10.177197</td>\n",
              "      <td>13.177197</td>\n",
              "      <td>134</td>\n",
              "      <td>2017</td>\n",
              "      <td>False</td>\n",
              "      <td>-4.298068</td>\n",
              "    </tr>\n",
              "    <tr>\n",
              "      <th>9354</th>\n",
              "      <td>22</td>\n",
              "      <td>YE</td>\n",
              "      <td>Airbus A320</td>\n",
              "      <td>non-schengen</td>\n",
              "      <td>MWL</td>\n",
              "      <td>8.794147</td>\n",
              "      <td>11.794147</td>\n",
              "      <td>258</td>\n",
              "      <td>2011</td>\n",
              "      <td>False</td>\n",
              "      <td>29.712747</td>\n",
              "    </tr>\n",
              "    <tr>\n",
              "      <th>64321</th>\n",
              "      <td>5</td>\n",
              "      <td>BZ</td>\n",
              "      <td>Airbus A320</td>\n",
              "      <td>schengen</td>\n",
              "      <td>ZQO</td>\n",
              "      <td>9.344097</td>\n",
              "      <td>12.344097</td>\n",
              "      <td>273</td>\n",
              "      <td>2021</td>\n",
              "      <td>False</td>\n",
              "      <td>20.725673</td>\n",
              "    </tr>\n",
              "    <tr>\n",
              "      <th>24993</th>\n",
              "      <td>16</td>\n",
              "      <td>MM</td>\n",
              "      <td>Airbus A320</td>\n",
              "      <td>non-schengen</td>\n",
              "      <td>CSF</td>\n",
              "      <td>17.041281</td>\n",
              "      <td>20.041281</td>\n",
              "      <td>206</td>\n",
              "      <td>2014</td>\n",
              "      <td>False</td>\n",
              "      <td>55.791744</td>\n",
              "    </tr>\n",
              "    <tr>\n",
              "      <th>10688</th>\n",
              "      <td>7</td>\n",
              "      <td>MM</td>\n",
              "      <td>Boeing 787</td>\n",
              "      <td>schengen</td>\n",
              "      <td>TZF</td>\n",
              "      <td>8.564949</td>\n",
              "      <td>13.564949</td>\n",
              "      <td>347</td>\n",
              "      <td>2011</td>\n",
              "      <td>False</td>\n",
              "      <td>16.965341</td>\n",
              "    </tr>\n",
              "  </tbody>\n",
              "</table>\n",
              "</div>"
            ],
            "text/plain": [
              "       flight_id airline aircraft_type      schengen origin  arrival_time  \\\n",
              "40337         11      BZ   Airbus A320  non-schengen    EMM     10.177197   \n",
              "9354          22      YE   Airbus A320  non-schengen    MWL      8.794147   \n",
              "64321          5      BZ   Airbus A320      schengen    ZQO      9.344097   \n",
              "24993         16      MM   Airbus A320  non-schengen    CSF     17.041281   \n",
              "10688          7      MM    Boeing 787      schengen    TZF      8.564949   \n",
              "\n",
              "       departure_time  day  year  is_holiday      delay  \n",
              "40337       13.177197  134  2017       False  -4.298068  \n",
              "9354        11.794147  258  2011       False  29.712747  \n",
              "64321       12.344097  273  2021       False  20.725673  \n",
              "24993       20.041281  206  2014       False  55.791744  \n",
              "10688       13.564949  347  2011       False  16.965341  "
            ]
          },
          "execution_count": 6,
          "metadata": {},
          "output_type": "execute_result"
        }
      ],
      "source": [
        "df.head()"
      ]
    },
    {
      "cell_type": "code",
      "execution_count": 7,
      "metadata": {
        "colab": {
          "base_uri": "https://localhost:8080/"
        },
        "id": "QIEQhZ88Bd9b",
        "outputId": "2c800c89-6abd-4627-bd2c-93281cf19a4b"
      },
      "outputs": [
        {
          "data": {
            "text/plain": [
              "(10000, 11)"
            ]
          },
          "execution_count": 7,
          "metadata": {},
          "output_type": "execute_result"
        }
      ],
      "source": [
        "df.shape"
      ]
    },
    {
      "cell_type": "code",
      "execution_count": 8,
      "metadata": {
        "colab": {
          "base_uri": "https://localhost:8080/"
        },
        "id": "OjLTgSVMCzEk",
        "outputId": "2fbf0a81-ff00-478b-8b85-31f7ca7e6040"
      },
      "outputs": [
        {
          "name": "stdout",
          "output_type": "stream",
          "text": [
            "<class 'pandas.core.frame.DataFrame'>\n",
            "Index: 10000 entries, 40337 to 44260\n",
            "Data columns (total 11 columns):\n",
            " #   Column          Non-Null Count  Dtype  \n",
            "---  ------          --------------  -----  \n",
            " 0   flight_id       10000 non-null  int64  \n",
            " 1   airline         10000 non-null  object \n",
            " 2   aircraft_type   10000 non-null  object \n",
            " 3   schengen        10000 non-null  object \n",
            " 4   origin          10000 non-null  object \n",
            " 5   arrival_time    10000 non-null  float64\n",
            " 6   departure_time  10000 non-null  float64\n",
            " 7   day             10000 non-null  int64  \n",
            " 8   year            10000 non-null  int64  \n",
            " 9   is_holiday      10000 non-null  bool   \n",
            " 10  delay           10000 non-null  float64\n",
            "dtypes: bool(1), float64(3), int64(3), object(4)\n",
            "memory usage: 869.1+ KB\n"
          ]
        }
      ],
      "source": [
        "df.info()"
      ]
    },
    {
      "cell_type": "code",
      "execution_count": 9,
      "metadata": {
        "colab": {
          "base_uri": "https://localhost:8080/"
        },
        "id": "4zcbSzvwBeAB",
        "outputId": "6b30ddff-57a8-4cd4-b0da-3cd205403ab9"
      },
      "outputs": [
        {
          "data": {
            "text/plain": [
              "flight_id            30\n",
              "airline               3\n",
              "aircraft_type         6\n",
              "schengen              2\n",
              "origin               10\n",
              "arrival_time         30\n",
              "departure_time       30\n",
              "day                 365\n",
              "year                 13\n",
              "is_holiday            2\n",
              "delay             10000\n",
              "dtype: int64"
            ]
          },
          "execution_count": 9,
          "metadata": {},
          "output_type": "execute_result"
        }
      ],
      "source": [
        "df.nunique()"
      ]
    },
    {
      "cell_type": "code",
      "execution_count": 10,
      "metadata": {
        "colab": {
          "base_uri": "https://localhost:8080/"
        },
        "id": "3RyL6MUDBvem",
        "outputId": "c31c145d-7ade-499c-e0e9-335179d230a8"
      },
      "outputs": [
        {
          "data": {
            "text/plain": [
              "array(['non-schengen', 'schengen'], dtype=object)"
            ]
          },
          "execution_count": 10,
          "metadata": {},
          "output_type": "execute_result"
        }
      ],
      "source": [
        "df['schengen'].unique()"
      ]
    },
    {
      "cell_type": "code",
      "execution_count": 11,
      "metadata": {
        "colab": {
          "base_uri": "https://localhost:8080/"
        },
        "id": "s_02YggjB4H_",
        "outputId": "cd97c546-3ecb-444c-891e-4bd6b91239c3"
      },
      "outputs": [
        {
          "data": {
            "text/plain": [
              "array([False,  True])"
            ]
          },
          "execution_count": 11,
          "metadata": {},
          "output_type": "execute_result"
        }
      ],
      "source": [
        "df['is_holiday'].unique()"
      ]
    },
    {
      "attachments": {},
      "cell_type": "markdown",
      "metadata": {
        "id": "KCaxTsanGsVM"
      },
      "source": [
        "## **Data preprocessing**"
      ]
    },
    {
      "cell_type": "code",
      "execution_count": 12,
      "metadata": {
        "colab": {
          "base_uri": "https://localhost:8080/",
          "height": 423
        },
        "id": "LU2GIy-1WN-T",
        "outputId": "8064739d-f8a2-4f2b-99d7-52698022ccf7"
      },
      "outputs": [
        {
          "data": {
            "text/html": [
              "<div>\n",
              "<style scoped>\n",
              "    .dataframe tbody tr th:only-of-type {\n",
              "        vertical-align: middle;\n",
              "    }\n",
              "\n",
              "    .dataframe tbody tr th {\n",
              "        vertical-align: top;\n",
              "    }\n",
              "\n",
              "    .dataframe thead th {\n",
              "        text-align: right;\n",
              "    }\n",
              "</style>\n",
              "<table border=\"1\" class=\"dataframe\">\n",
              "  <thead>\n",
              "    <tr style=\"text-align: right;\">\n",
              "      <th></th>\n",
              "      <th>flight_id</th>\n",
              "      <th>airline</th>\n",
              "      <th>aircraft_type</th>\n",
              "      <th>schengen</th>\n",
              "      <th>origin</th>\n",
              "      <th>arrival_time</th>\n",
              "      <th>departure_time</th>\n",
              "      <th>day</th>\n",
              "      <th>year</th>\n",
              "      <th>is_holiday</th>\n",
              "      <th>delay</th>\n",
              "    </tr>\n",
              "  </thead>\n",
              "  <tbody>\n",
              "    <tr>\n",
              "      <th>40337</th>\n",
              "      <td>11</td>\n",
              "      <td>BZ</td>\n",
              "      <td>Airbus A320</td>\n",
              "      <td>non-schengen</td>\n",
              "      <td>EMM</td>\n",
              "      <td>10.177197</td>\n",
              "      <td>13.177197</td>\n",
              "      <td>134</td>\n",
              "      <td>2017</td>\n",
              "      <td>False</td>\n",
              "      <td>-4.298068</td>\n",
              "    </tr>\n",
              "    <tr>\n",
              "      <th>9354</th>\n",
              "      <td>22</td>\n",
              "      <td>YE</td>\n",
              "      <td>Airbus A320</td>\n",
              "      <td>non-schengen</td>\n",
              "      <td>MWL</td>\n",
              "      <td>8.794147</td>\n",
              "      <td>11.794147</td>\n",
              "      <td>258</td>\n",
              "      <td>2011</td>\n",
              "      <td>False</td>\n",
              "      <td>29.712747</td>\n",
              "    </tr>\n",
              "    <tr>\n",
              "      <th>64321</th>\n",
              "      <td>5</td>\n",
              "      <td>BZ</td>\n",
              "      <td>Airbus A320</td>\n",
              "      <td>schengen</td>\n",
              "      <td>ZQO</td>\n",
              "      <td>9.344097</td>\n",
              "      <td>12.344097</td>\n",
              "      <td>273</td>\n",
              "      <td>2021</td>\n",
              "      <td>False</td>\n",
              "      <td>20.725673</td>\n",
              "    </tr>\n",
              "    <tr>\n",
              "      <th>24993</th>\n",
              "      <td>16</td>\n",
              "      <td>MM</td>\n",
              "      <td>Airbus A320</td>\n",
              "      <td>non-schengen</td>\n",
              "      <td>CSF</td>\n",
              "      <td>17.041281</td>\n",
              "      <td>20.041281</td>\n",
              "      <td>206</td>\n",
              "      <td>2014</td>\n",
              "      <td>False</td>\n",
              "      <td>55.791744</td>\n",
              "    </tr>\n",
              "    <tr>\n",
              "      <th>10688</th>\n",
              "      <td>7</td>\n",
              "      <td>MM</td>\n",
              "      <td>Boeing 787</td>\n",
              "      <td>schengen</td>\n",
              "      <td>TZF</td>\n",
              "      <td>8.564949</td>\n",
              "      <td>13.564949</td>\n",
              "      <td>347</td>\n",
              "      <td>2011</td>\n",
              "      <td>False</td>\n",
              "      <td>16.965341</td>\n",
              "    </tr>\n",
              "    <tr>\n",
              "      <th>...</th>\n",
              "      <td>...</td>\n",
              "      <td>...</td>\n",
              "      <td>...</td>\n",
              "      <td>...</td>\n",
              "      <td>...</td>\n",
              "      <td>...</td>\n",
              "      <td>...</td>\n",
              "      <td>...</td>\n",
              "      <td>...</td>\n",
              "      <td>...</td>\n",
              "      <td>...</td>\n",
              "    </tr>\n",
              "    <tr>\n",
              "      <th>40080</th>\n",
              "      <td>8</td>\n",
              "      <td>BZ</td>\n",
              "      <td>Airbus A320</td>\n",
              "      <td>schengen</td>\n",
              "      <td>ZQO</td>\n",
              "      <td>15.729617</td>\n",
              "      <td>18.729617</td>\n",
              "      <td>117</td>\n",
              "      <td>2017</td>\n",
              "      <td>False</td>\n",
              "      <td>-3.526488</td>\n",
              "    </tr>\n",
              "    <tr>\n",
              "      <th>40123</th>\n",
              "      <td>17</td>\n",
              "      <td>BZ</td>\n",
              "      <td>Airbus A330</td>\n",
              "      <td>non-schengen</td>\n",
              "      <td>CNU</td>\n",
              "      <td>16.718722</td>\n",
              "      <td>21.718722</td>\n",
              "      <td>119</td>\n",
              "      <td>2017</td>\n",
              "      <td>False</td>\n",
              "      <td>28.988881</td>\n",
              "    </tr>\n",
              "    <tr>\n",
              "      <th>45488</th>\n",
              "      <td>15</td>\n",
              "      <td>BZ</td>\n",
              "      <td>Airbus A330</td>\n",
              "      <td>non-schengen</td>\n",
              "      <td>FJB</td>\n",
              "      <td>16.571894</td>\n",
              "      <td>19.571894</td>\n",
              "      <td>112</td>\n",
              "      <td>2018</td>\n",
              "      <td>False</td>\n",
              "      <td>0.002130</td>\n",
              "    </tr>\n",
              "    <tr>\n",
              "      <th>30240</th>\n",
              "      <td>9</td>\n",
              "      <td>BZ</td>\n",
              "      <td>Airbus A330</td>\n",
              "      <td>non-schengen</td>\n",
              "      <td>TZF</td>\n",
              "      <td>10.733469</td>\n",
              "      <td>12.733469</td>\n",
              "      <td>191</td>\n",
              "      <td>2015</td>\n",
              "      <td>True</td>\n",
              "      <td>30.354029</td>\n",
              "    </tr>\n",
              "    <tr>\n",
              "      <th>44260</th>\n",
              "      <td>5</td>\n",
              "      <td>BZ</td>\n",
              "      <td>Airbus A320</td>\n",
              "      <td>schengen</td>\n",
              "      <td>ZQO</td>\n",
              "      <td>9.344097</td>\n",
              "      <td>12.344097</td>\n",
              "      <td>30</td>\n",
              "      <td>2018</td>\n",
              "      <td>False</td>\n",
              "      <td>-4.150900</td>\n",
              "    </tr>\n",
              "  </tbody>\n",
              "</table>\n",
              "<p>10000 rows × 11 columns</p>\n",
              "</div>"
            ],
            "text/plain": [
              "       flight_id airline aircraft_type      schengen origin  arrival_time  \\\n",
              "40337         11      BZ   Airbus A320  non-schengen    EMM     10.177197   \n",
              "9354          22      YE   Airbus A320  non-schengen    MWL      8.794147   \n",
              "64321          5      BZ   Airbus A320      schengen    ZQO      9.344097   \n",
              "24993         16      MM   Airbus A320  non-schengen    CSF     17.041281   \n",
              "10688          7      MM    Boeing 787      schengen    TZF      8.564949   \n",
              "...          ...     ...           ...           ...    ...           ...   \n",
              "40080          8      BZ   Airbus A320      schengen    ZQO     15.729617   \n",
              "40123         17      BZ   Airbus A330  non-schengen    CNU     16.718722   \n",
              "45488         15      BZ   Airbus A330  non-schengen    FJB     16.571894   \n",
              "30240          9      BZ   Airbus A330  non-schengen    TZF     10.733469   \n",
              "44260          5      BZ   Airbus A320      schengen    ZQO      9.344097   \n",
              "\n",
              "       departure_time  day  year  is_holiday      delay  \n",
              "40337       13.177197  134  2017       False  -4.298068  \n",
              "9354        11.794147  258  2011       False  29.712747  \n",
              "64321       12.344097  273  2021       False  20.725673  \n",
              "24993       20.041281  206  2014       False  55.791744  \n",
              "10688       13.564949  347  2011       False  16.965341  \n",
              "...               ...  ...   ...         ...        ...  \n",
              "40080       18.729617  117  2017       False  -3.526488  \n",
              "40123       21.718722  119  2017       False  28.988881  \n",
              "45488       19.571894  112  2018       False   0.002130  \n",
              "30240       12.733469  191  2015        True  30.354029  \n",
              "44260       12.344097   30  2018       False  -4.150900  \n",
              "\n",
              "[10000 rows x 11 columns]"
            ]
          },
          "execution_count": 12,
          "metadata": {},
          "output_type": "execute_result"
        }
      ],
      "source": [
        "df"
      ]
    },
    {
      "cell_type": "code",
      "execution_count": 13,
      "metadata": {
        "id": "rXdlB-5lB8HO"
      },
      "outputs": [],
      "source": [
        "# Transforming the values of the \"schengen\" and \"is_holiday\" columns.\n",
        "df['is_holiday'] = df['is_holiday'].map({False: 0, True: 1})\n",
        "df['schengen'] = df['schengen'].map({'non-schengen': 0, 'schengen': 1})"
      ]
    },
    {
      "cell_type": "code",
      "execution_count": 14,
      "metadata": {
        "colab": {
          "base_uri": "https://localhost:8080/",
          "height": 206
        },
        "id": "yU6I4CUdCIjE",
        "outputId": "a40faf6a-9caf-42b1-9a9d-dc1766249319"
      },
      "outputs": [
        {
          "data": {
            "text/html": [
              "<div>\n",
              "<style scoped>\n",
              "    .dataframe tbody tr th:only-of-type {\n",
              "        vertical-align: middle;\n",
              "    }\n",
              "\n",
              "    .dataframe tbody tr th {\n",
              "        vertical-align: top;\n",
              "    }\n",
              "\n",
              "    .dataframe thead th {\n",
              "        text-align: right;\n",
              "    }\n",
              "</style>\n",
              "<table border=\"1\" class=\"dataframe\">\n",
              "  <thead>\n",
              "    <tr style=\"text-align: right;\">\n",
              "      <th></th>\n",
              "      <th>flight_id</th>\n",
              "      <th>airline</th>\n",
              "      <th>aircraft_type</th>\n",
              "      <th>schengen</th>\n",
              "      <th>origin</th>\n",
              "      <th>arrival_time</th>\n",
              "      <th>departure_time</th>\n",
              "      <th>day</th>\n",
              "      <th>year</th>\n",
              "      <th>is_holiday</th>\n",
              "      <th>delay</th>\n",
              "    </tr>\n",
              "  </thead>\n",
              "  <tbody>\n",
              "    <tr>\n",
              "      <th>40337</th>\n",
              "      <td>11</td>\n",
              "      <td>BZ</td>\n",
              "      <td>Airbus A320</td>\n",
              "      <td>0</td>\n",
              "      <td>EMM</td>\n",
              "      <td>10.177197</td>\n",
              "      <td>13.177197</td>\n",
              "      <td>134</td>\n",
              "      <td>2017</td>\n",
              "      <td>0</td>\n",
              "      <td>-4.298068</td>\n",
              "    </tr>\n",
              "    <tr>\n",
              "      <th>9354</th>\n",
              "      <td>22</td>\n",
              "      <td>YE</td>\n",
              "      <td>Airbus A320</td>\n",
              "      <td>0</td>\n",
              "      <td>MWL</td>\n",
              "      <td>8.794147</td>\n",
              "      <td>11.794147</td>\n",
              "      <td>258</td>\n",
              "      <td>2011</td>\n",
              "      <td>0</td>\n",
              "      <td>29.712747</td>\n",
              "    </tr>\n",
              "    <tr>\n",
              "      <th>64321</th>\n",
              "      <td>5</td>\n",
              "      <td>BZ</td>\n",
              "      <td>Airbus A320</td>\n",
              "      <td>1</td>\n",
              "      <td>ZQO</td>\n",
              "      <td>9.344097</td>\n",
              "      <td>12.344097</td>\n",
              "      <td>273</td>\n",
              "      <td>2021</td>\n",
              "      <td>0</td>\n",
              "      <td>20.725673</td>\n",
              "    </tr>\n",
              "    <tr>\n",
              "      <th>24993</th>\n",
              "      <td>16</td>\n",
              "      <td>MM</td>\n",
              "      <td>Airbus A320</td>\n",
              "      <td>0</td>\n",
              "      <td>CSF</td>\n",
              "      <td>17.041281</td>\n",
              "      <td>20.041281</td>\n",
              "      <td>206</td>\n",
              "      <td>2014</td>\n",
              "      <td>0</td>\n",
              "      <td>55.791744</td>\n",
              "    </tr>\n",
              "    <tr>\n",
              "      <th>10688</th>\n",
              "      <td>7</td>\n",
              "      <td>MM</td>\n",
              "      <td>Boeing 787</td>\n",
              "      <td>1</td>\n",
              "      <td>TZF</td>\n",
              "      <td>8.564949</td>\n",
              "      <td>13.564949</td>\n",
              "      <td>347</td>\n",
              "      <td>2011</td>\n",
              "      <td>0</td>\n",
              "      <td>16.965341</td>\n",
              "    </tr>\n",
              "  </tbody>\n",
              "</table>\n",
              "</div>"
            ],
            "text/plain": [
              "       flight_id airline aircraft_type  schengen origin  arrival_time  \\\n",
              "40337         11      BZ   Airbus A320         0    EMM     10.177197   \n",
              "9354          22      YE   Airbus A320         0    MWL      8.794147   \n",
              "64321          5      BZ   Airbus A320         1    ZQO      9.344097   \n",
              "24993         16      MM   Airbus A320         0    CSF     17.041281   \n",
              "10688          7      MM    Boeing 787         1    TZF      8.564949   \n",
              "\n",
              "       departure_time  day  year  is_holiday      delay  \n",
              "40337       13.177197  134  2017           0  -4.298068  \n",
              "9354        11.794147  258  2011           0  29.712747  \n",
              "64321       12.344097  273  2021           0  20.725673  \n",
              "24993       20.041281  206  2014           0  55.791744  \n",
              "10688       13.564949  347  2011           0  16.965341  "
            ]
          },
          "execution_count": 14,
          "metadata": {},
          "output_type": "execute_result"
        }
      ],
      "source": [
        "df.head()"
      ]
    },
    {
      "cell_type": "code",
      "execution_count": 15,
      "metadata": {
        "id": "0egHv-BdOR5e"
      },
      "outputs": [],
      "source": [
        "# List of categorical variables\n",
        "categorical_vars = ['airline', 'aircraft_type', 'origin']\n",
        "\n",
        "# one-hot encoding\n",
        "df_encoded = pd.get_dummies(df, columns=categorical_vars, dtype=int)"
      ]
    },
    {
      "cell_type": "code",
      "execution_count": 16,
      "metadata": {
        "colab": {
          "base_uri": "https://localhost:8080/",
          "height": 299
        },
        "id": "KsLZo98yCVWe",
        "outputId": "e351651c-55ee-400e-f569-fc2e1c10a869"
      },
      "outputs": [
        {
          "data": {
            "text/html": [
              "<div>\n",
              "<style scoped>\n",
              "    .dataframe tbody tr th:only-of-type {\n",
              "        vertical-align: middle;\n",
              "    }\n",
              "\n",
              "    .dataframe tbody tr th {\n",
              "        vertical-align: top;\n",
              "    }\n",
              "\n",
              "    .dataframe thead th {\n",
              "        text-align: right;\n",
              "    }\n",
              "</style>\n",
              "<table border=\"1\" class=\"dataframe\">\n",
              "  <thead>\n",
              "    <tr style=\"text-align: right;\">\n",
              "      <th></th>\n",
              "      <th>flight_id</th>\n",
              "      <th>schengen</th>\n",
              "      <th>arrival_time</th>\n",
              "      <th>departure_time</th>\n",
              "      <th>day</th>\n",
              "      <th>year</th>\n",
              "      <th>is_holiday</th>\n",
              "      <th>delay</th>\n",
              "      <th>airline_BZ</th>\n",
              "      <th>airline_MM</th>\n",
              "      <th>...</th>\n",
              "      <th>origin_AUZ</th>\n",
              "      <th>origin_CNU</th>\n",
              "      <th>origin_CSF</th>\n",
              "      <th>origin_EMM</th>\n",
              "      <th>origin_FJB</th>\n",
              "      <th>origin_MWL</th>\n",
              "      <th>origin_PUA</th>\n",
              "      <th>origin_TCY</th>\n",
              "      <th>origin_TZF</th>\n",
              "      <th>origin_ZQO</th>\n",
              "    </tr>\n",
              "  </thead>\n",
              "  <tbody>\n",
              "    <tr>\n",
              "      <th>40337</th>\n",
              "      <td>11</td>\n",
              "      <td>0</td>\n",
              "      <td>10.177197</td>\n",
              "      <td>13.177197</td>\n",
              "      <td>134</td>\n",
              "      <td>2017</td>\n",
              "      <td>0</td>\n",
              "      <td>-4.298068</td>\n",
              "      <td>1</td>\n",
              "      <td>0</td>\n",
              "      <td>...</td>\n",
              "      <td>0</td>\n",
              "      <td>0</td>\n",
              "      <td>0</td>\n",
              "      <td>1</td>\n",
              "      <td>0</td>\n",
              "      <td>0</td>\n",
              "      <td>0</td>\n",
              "      <td>0</td>\n",
              "      <td>0</td>\n",
              "      <td>0</td>\n",
              "    </tr>\n",
              "    <tr>\n",
              "      <th>9354</th>\n",
              "      <td>22</td>\n",
              "      <td>0</td>\n",
              "      <td>8.794147</td>\n",
              "      <td>11.794147</td>\n",
              "      <td>258</td>\n",
              "      <td>2011</td>\n",
              "      <td>0</td>\n",
              "      <td>29.712747</td>\n",
              "      <td>0</td>\n",
              "      <td>0</td>\n",
              "      <td>...</td>\n",
              "      <td>0</td>\n",
              "      <td>0</td>\n",
              "      <td>0</td>\n",
              "      <td>0</td>\n",
              "      <td>0</td>\n",
              "      <td>1</td>\n",
              "      <td>0</td>\n",
              "      <td>0</td>\n",
              "      <td>0</td>\n",
              "      <td>0</td>\n",
              "    </tr>\n",
              "    <tr>\n",
              "      <th>64321</th>\n",
              "      <td>5</td>\n",
              "      <td>1</td>\n",
              "      <td>9.344097</td>\n",
              "      <td>12.344097</td>\n",
              "      <td>273</td>\n",
              "      <td>2021</td>\n",
              "      <td>0</td>\n",
              "      <td>20.725673</td>\n",
              "      <td>1</td>\n",
              "      <td>0</td>\n",
              "      <td>...</td>\n",
              "      <td>0</td>\n",
              "      <td>0</td>\n",
              "      <td>0</td>\n",
              "      <td>0</td>\n",
              "      <td>0</td>\n",
              "      <td>0</td>\n",
              "      <td>0</td>\n",
              "      <td>0</td>\n",
              "      <td>0</td>\n",
              "      <td>1</td>\n",
              "    </tr>\n",
              "    <tr>\n",
              "      <th>24993</th>\n",
              "      <td>16</td>\n",
              "      <td>0</td>\n",
              "      <td>17.041281</td>\n",
              "      <td>20.041281</td>\n",
              "      <td>206</td>\n",
              "      <td>2014</td>\n",
              "      <td>0</td>\n",
              "      <td>55.791744</td>\n",
              "      <td>0</td>\n",
              "      <td>1</td>\n",
              "      <td>...</td>\n",
              "      <td>0</td>\n",
              "      <td>0</td>\n",
              "      <td>1</td>\n",
              "      <td>0</td>\n",
              "      <td>0</td>\n",
              "      <td>0</td>\n",
              "      <td>0</td>\n",
              "      <td>0</td>\n",
              "      <td>0</td>\n",
              "      <td>0</td>\n",
              "    </tr>\n",
              "    <tr>\n",
              "      <th>10688</th>\n",
              "      <td>7</td>\n",
              "      <td>1</td>\n",
              "      <td>8.564949</td>\n",
              "      <td>13.564949</td>\n",
              "      <td>347</td>\n",
              "      <td>2011</td>\n",
              "      <td>0</td>\n",
              "      <td>16.965341</td>\n",
              "      <td>0</td>\n",
              "      <td>1</td>\n",
              "      <td>...</td>\n",
              "      <td>0</td>\n",
              "      <td>0</td>\n",
              "      <td>0</td>\n",
              "      <td>0</td>\n",
              "      <td>0</td>\n",
              "      <td>0</td>\n",
              "      <td>0</td>\n",
              "      <td>0</td>\n",
              "      <td>1</td>\n",
              "      <td>0</td>\n",
              "    </tr>\n",
              "  </tbody>\n",
              "</table>\n",
              "<p>5 rows × 27 columns</p>\n",
              "</div>"
            ],
            "text/plain": [
              "       flight_id  schengen  arrival_time  departure_time  day  year  \\\n",
              "40337         11         0     10.177197       13.177197  134  2017   \n",
              "9354          22         0      8.794147       11.794147  258  2011   \n",
              "64321          5         1      9.344097       12.344097  273  2021   \n",
              "24993         16         0     17.041281       20.041281  206  2014   \n",
              "10688          7         1      8.564949       13.564949  347  2011   \n",
              "\n",
              "       is_holiday      delay  airline_BZ  airline_MM  ...  origin_AUZ  \\\n",
              "40337           0  -4.298068           1           0  ...           0   \n",
              "9354            0  29.712747           0           0  ...           0   \n",
              "64321           0  20.725673           1           0  ...           0   \n",
              "24993           0  55.791744           0           1  ...           0   \n",
              "10688           0  16.965341           0           1  ...           0   \n",
              "\n",
              "       origin_CNU  origin_CSF  origin_EMM  origin_FJB  origin_MWL  origin_PUA  \\\n",
              "40337           0           0           1           0           0           0   \n",
              "9354            0           0           0           0           1           0   \n",
              "64321           0           0           0           0           0           0   \n",
              "24993           0           1           0           0           0           0   \n",
              "10688           0           0           0           0           0           0   \n",
              "\n",
              "       origin_TCY  origin_TZF  origin_ZQO  \n",
              "40337           0           0           0  \n",
              "9354            0           0           0  \n",
              "64321           0           0           1  \n",
              "24993           0           0           0  \n",
              "10688           0           1           0  \n",
              "\n",
              "[5 rows x 27 columns]"
            ]
          },
          "execution_count": 16,
          "metadata": {},
          "output_type": "execute_result"
        }
      ],
      "source": [
        "df_encoded.head()"
      ]
    },
    {
      "cell_type": "code",
      "execution_count": 17,
      "metadata": {
        "colab": {
          "base_uri": "https://localhost:8080/",
          "height": 112
        },
        "id": "Hp1d-i2yC9i5",
        "outputId": "598ff39a-06f7-43bd-b236-72ce72545341"
      },
      "outputs": [
        {
          "data": {
            "text/html": [
              "<div>\n",
              "<style scoped>\n",
              "    .dataframe tbody tr th:only-of-type {\n",
              "        vertical-align: middle;\n",
              "    }\n",
              "\n",
              "    .dataframe tbody tr th {\n",
              "        vertical-align: top;\n",
              "    }\n",
              "\n",
              "    .dataframe thead th {\n",
              "        text-align: right;\n",
              "    }\n",
              "</style>\n",
              "<table border=\"1\" class=\"dataframe\">\n",
              "  <thead>\n",
              "    <tr style=\"text-align: right;\">\n",
              "      <th></th>\n",
              "      <th>arrival_time</th>\n",
              "      <th>departure_time</th>\n",
              "    </tr>\n",
              "  </thead>\n",
              "  <tbody>\n",
              "    <tr>\n",
              "      <th>arrival_time</th>\n",
              "      <td>1.000000</td>\n",
              "      <td>0.973235</td>\n",
              "    </tr>\n",
              "    <tr>\n",
              "      <th>departure_time</th>\n",
              "      <td>0.973235</td>\n",
              "      <td>1.000000</td>\n",
              "    </tr>\n",
              "  </tbody>\n",
              "</table>\n",
              "</div>"
            ],
            "text/plain": [
              "                arrival_time  departure_time\n",
              "arrival_time        1.000000        0.973235\n",
              "departure_time      0.973235        1.000000"
            ]
          },
          "execution_count": 17,
          "metadata": {},
          "output_type": "execute_result"
        }
      ],
      "source": [
        "df_encoded[['arrival_time', 'departure_time']].corr()"
      ]
    },
    {
      "attachments": {},
      "cell_type": "markdown",
      "metadata": {
        "id": "v7MXsOoRGyJL"
      },
      "source": [
        "## **RandomForestRegressor model**"
      ]
    },
    {
      "cell_type": "code",
      "execution_count": 18,
      "metadata": {
        "id": "BHVx8p50CXwf"
      },
      "outputs": [],
      "source": [
        "X = df_encoded.drop(['flight_id', 'departure_time', 'day', 'year', 'delay'], axis=1)\n",
        "y = df_encoded['delay']"
      ]
    },
    {
      "cell_type": "code",
      "execution_count": 19,
      "metadata": {
        "colab": {
          "base_uri": "https://localhost:8080/",
          "height": 316
        },
        "id": "3oGfsPxPDn74",
        "outputId": "684165c9-47d3-409a-d5f4-912c0de431da"
      },
      "outputs": [
        {
          "data": {
            "text/html": [
              "<div>\n",
              "<style scoped>\n",
              "    .dataframe tbody tr th:only-of-type {\n",
              "        vertical-align: middle;\n",
              "    }\n",
              "\n",
              "    .dataframe tbody tr th {\n",
              "        vertical-align: top;\n",
              "    }\n",
              "\n",
              "    .dataframe thead th {\n",
              "        text-align: right;\n",
              "    }\n",
              "</style>\n",
              "<table border=\"1\" class=\"dataframe\">\n",
              "  <thead>\n",
              "    <tr style=\"text-align: right;\">\n",
              "      <th></th>\n",
              "      <th>schengen</th>\n",
              "      <th>arrival_time</th>\n",
              "      <th>is_holiday</th>\n",
              "      <th>airline_BZ</th>\n",
              "      <th>airline_MM</th>\n",
              "      <th>airline_YE</th>\n",
              "      <th>aircraft_type_Airbus A320</th>\n",
              "      <th>aircraft_type_Airbus A330</th>\n",
              "      <th>aircraft_type_Boeing 737</th>\n",
              "      <th>aircraft_type_Boeing 777</th>\n",
              "      <th>...</th>\n",
              "      <th>origin_AUZ</th>\n",
              "      <th>origin_CNU</th>\n",
              "      <th>origin_CSF</th>\n",
              "      <th>origin_EMM</th>\n",
              "      <th>origin_FJB</th>\n",
              "      <th>origin_MWL</th>\n",
              "      <th>origin_PUA</th>\n",
              "      <th>origin_TCY</th>\n",
              "      <th>origin_TZF</th>\n",
              "      <th>origin_ZQO</th>\n",
              "    </tr>\n",
              "  </thead>\n",
              "  <tbody>\n",
              "    <tr>\n",
              "      <th>40337</th>\n",
              "      <td>0</td>\n",
              "      <td>10.177197</td>\n",
              "      <td>0</td>\n",
              "      <td>1</td>\n",
              "      <td>0</td>\n",
              "      <td>0</td>\n",
              "      <td>1</td>\n",
              "      <td>0</td>\n",
              "      <td>0</td>\n",
              "      <td>0</td>\n",
              "      <td>...</td>\n",
              "      <td>0</td>\n",
              "      <td>0</td>\n",
              "      <td>0</td>\n",
              "      <td>1</td>\n",
              "      <td>0</td>\n",
              "      <td>0</td>\n",
              "      <td>0</td>\n",
              "      <td>0</td>\n",
              "      <td>0</td>\n",
              "      <td>0</td>\n",
              "    </tr>\n",
              "    <tr>\n",
              "      <th>9354</th>\n",
              "      <td>0</td>\n",
              "      <td>8.794147</td>\n",
              "      <td>0</td>\n",
              "      <td>0</td>\n",
              "      <td>0</td>\n",
              "      <td>1</td>\n",
              "      <td>1</td>\n",
              "      <td>0</td>\n",
              "      <td>0</td>\n",
              "      <td>0</td>\n",
              "      <td>...</td>\n",
              "      <td>0</td>\n",
              "      <td>0</td>\n",
              "      <td>0</td>\n",
              "      <td>0</td>\n",
              "      <td>0</td>\n",
              "      <td>1</td>\n",
              "      <td>0</td>\n",
              "      <td>0</td>\n",
              "      <td>0</td>\n",
              "      <td>0</td>\n",
              "    </tr>\n",
              "    <tr>\n",
              "      <th>64321</th>\n",
              "      <td>1</td>\n",
              "      <td>9.344097</td>\n",
              "      <td>0</td>\n",
              "      <td>1</td>\n",
              "      <td>0</td>\n",
              "      <td>0</td>\n",
              "      <td>1</td>\n",
              "      <td>0</td>\n",
              "      <td>0</td>\n",
              "      <td>0</td>\n",
              "      <td>...</td>\n",
              "      <td>0</td>\n",
              "      <td>0</td>\n",
              "      <td>0</td>\n",
              "      <td>0</td>\n",
              "      <td>0</td>\n",
              "      <td>0</td>\n",
              "      <td>0</td>\n",
              "      <td>0</td>\n",
              "      <td>0</td>\n",
              "      <td>1</td>\n",
              "    </tr>\n",
              "    <tr>\n",
              "      <th>24993</th>\n",
              "      <td>0</td>\n",
              "      <td>17.041281</td>\n",
              "      <td>0</td>\n",
              "      <td>0</td>\n",
              "      <td>1</td>\n",
              "      <td>0</td>\n",
              "      <td>1</td>\n",
              "      <td>0</td>\n",
              "      <td>0</td>\n",
              "      <td>0</td>\n",
              "      <td>...</td>\n",
              "      <td>0</td>\n",
              "      <td>0</td>\n",
              "      <td>1</td>\n",
              "      <td>0</td>\n",
              "      <td>0</td>\n",
              "      <td>0</td>\n",
              "      <td>0</td>\n",
              "      <td>0</td>\n",
              "      <td>0</td>\n",
              "      <td>0</td>\n",
              "    </tr>\n",
              "    <tr>\n",
              "      <th>10688</th>\n",
              "      <td>1</td>\n",
              "      <td>8.564949</td>\n",
              "      <td>0</td>\n",
              "      <td>0</td>\n",
              "      <td>1</td>\n",
              "      <td>0</td>\n",
              "      <td>0</td>\n",
              "      <td>0</td>\n",
              "      <td>0</td>\n",
              "      <td>0</td>\n",
              "      <td>...</td>\n",
              "      <td>0</td>\n",
              "      <td>0</td>\n",
              "      <td>0</td>\n",
              "      <td>0</td>\n",
              "      <td>0</td>\n",
              "      <td>0</td>\n",
              "      <td>0</td>\n",
              "      <td>0</td>\n",
              "      <td>1</td>\n",
              "      <td>0</td>\n",
              "    </tr>\n",
              "  </tbody>\n",
              "</table>\n",
              "<p>5 rows × 22 columns</p>\n",
              "</div>"
            ],
            "text/plain": [
              "       schengen  arrival_time  is_holiday  airline_BZ  airline_MM  airline_YE  \\\n",
              "40337         0     10.177197           0           1           0           0   \n",
              "9354          0      8.794147           0           0           0           1   \n",
              "64321         1      9.344097           0           1           0           0   \n",
              "24993         0     17.041281           0           0           1           0   \n",
              "10688         1      8.564949           0           0           1           0   \n",
              "\n",
              "       aircraft_type_Airbus A320  aircraft_type_Airbus A330  \\\n",
              "40337                          1                          0   \n",
              "9354                           1                          0   \n",
              "64321                          1                          0   \n",
              "24993                          1                          0   \n",
              "10688                          0                          0   \n",
              "\n",
              "       aircraft_type_Boeing 737  aircraft_type_Boeing 777  ...  origin_AUZ  \\\n",
              "40337                         0                         0  ...           0   \n",
              "9354                          0                         0  ...           0   \n",
              "64321                         0                         0  ...           0   \n",
              "24993                         0                         0  ...           0   \n",
              "10688                         0                         0  ...           0   \n",
              "\n",
              "       origin_CNU  origin_CSF  origin_EMM  origin_FJB  origin_MWL  origin_PUA  \\\n",
              "40337           0           0           1           0           0           0   \n",
              "9354            0           0           0           0           1           0   \n",
              "64321           0           0           0           0           0           0   \n",
              "24993           0           1           0           0           0           0   \n",
              "10688           0           0           0           0           0           0   \n",
              "\n",
              "       origin_TCY  origin_TZF  origin_ZQO  \n",
              "40337           0           0           0  \n",
              "9354            0           0           0  \n",
              "64321           0           0           1  \n",
              "24993           0           0           0  \n",
              "10688           0           1           0  \n",
              "\n",
              "[5 rows x 22 columns]"
            ]
          },
          "execution_count": 19,
          "metadata": {},
          "output_type": "execute_result"
        }
      ],
      "source": [
        "X.head()"
      ]
    },
    {
      "cell_type": "code",
      "execution_count": 20,
      "metadata": {
        "colab": {
          "base_uri": "https://localhost:8080/"
        },
        "id": "spD56bE6DqMz",
        "outputId": "ce095fa5-4a45-4473-bc31-e0646062a82f"
      },
      "outputs": [
        {
          "data": {
            "text/plain": [
              "40337    -4.298068\n",
              "9354     29.712747\n",
              "64321    20.725673\n",
              "24993    55.791744\n",
              "10688    16.965341\n",
              "Name: delay, dtype: float64"
            ]
          },
          "execution_count": 20,
          "metadata": {},
          "output_type": "execute_result"
        }
      ],
      "source": [
        "y.head()"
      ]
    },
    {
      "cell_type": "code",
      "execution_count": 21,
      "metadata": {
        "id": "ZVwd7q1pDrdh"
      },
      "outputs": [],
      "source": [
        "from sklearn.model_selection import train_test_split\n",
        "\n",
        "# Splitting the dataset into training and testing sets\n",
        "X_train, X_test, y_train, y_test = train_test_split(X, y, test_size=0.2, random_state=SEED)"
      ]
    },
    {
      "cell_type": "code",
      "execution_count": 22,
      "metadata": {
        "colab": {
          "base_uri": "https://localhost:8080/"
        },
        "id": "mnkXsq93DwNO",
        "outputId": "01aef1d6-74a9-41ee-a9f8-b2dfc363cc00"
      },
      "outputs": [
        {
          "name": "stdout",
          "output_type": "stream",
          "text": [
            "Mean Squared Error: 182.16849846890668\n",
            "Root Mean Squared Error: 13.496981087224901\n",
            "Mean Absolute Error: 10.817680956084459\n",
            "R-squared: 0.6554222490702772\n"
          ]
        }
      ],
      "source": [
        "from sklearn.ensemble import RandomForestRegressor\n",
        "from sklearn.metrics import mean_squared_error, mean_absolute_error, r2_score\n",
        "\n",
        "# Training the model\n",
        "model = RandomForestRegressor()\n",
        "model.fit(X_train, y_train)\n",
        "\n",
        "# Making predictions\n",
        "y_pred = model.predict(X_test)\n",
        "\n",
        "mse = mean_squared_error(y_test, y_pred)\n",
        "print('Mean Squared Error:', mse)\n",
        "\n",
        "rmse = mean_squared_error(y_test, y_pred, squared=False)\n",
        "print('Root Mean Squared Error:', rmse)\n",
        "\n",
        "mae = mean_absolute_error(y_test, y_pred)\n",
        "print('Mean Absolute Error:', mae)\n",
        "\n",
        "r2 = r2_score(y_test, y_pred)\n",
        "print('R-squared:', r2)"
      ]
    },
    {
      "cell_type": "code",
      "execution_count": 23,
      "metadata": {
        "colab": {
          "base_uri": "https://localhost:8080/",
          "height": 472
        },
        "id": "o6MACR8BHqPo",
        "outputId": "6a4f8dff-f842-406c-e3e2-c42a5684dcb5"
      },
      "outputs": [
        {
          "data": {
            "image/png": "[encoded data removed]",
            "text/plain": [
              "<Figure size 640x480 with 1 Axes>"
            ]
          },
          "metadata": {},
          "output_type": "display_data"
        }
      ],
      "source": [
        "# Calculating the difference between predicted and actual delays.\n",
        "delay_diff = y_pred - y_test\n",
        "\n",
        "# Plotting a histogram of the delay difference\n",
        "plt.hist(delay_diff, bins=30)\n",
        "plt.xlabel(\"Delay Difference (Predicted - Actual)\")\n",
        "plt.ylabel(\"Frequency\")\n",
        "plt.title(\"Histogram of Delay Difference\")\n",
        "plt.show()"
      ]
    },
    {
      "attachments": {},
      "cell_type": "markdown",
      "metadata": {
        "id": "3X4Ji5iBGb4O"
      },
      "source": [
        "### **Creating a new feature: is_weekend**"
      ]
    },
    {
      "cell_type": "code",
      "execution_count": 24,
      "metadata": {
        "id": "bZK4SZPQD0Wx"
      },
      "outputs": [],
      "source": [
        "#Creating a new feature: is_weekend\n",
        "df_encoded['is_weekend'] = df_encoded['day'].apply(lambda day: day % 7 == 0 or day % 7 == 6)"
      ]
    },
    {
      "cell_type": "code",
      "execution_count": 25,
      "metadata": {
        "colab": {
          "base_uri": "https://localhost:8080/",
          "height": 299
        },
        "id": "bvW2i7_XE5nr",
        "outputId": "57d81323-9742-45e5-a89a-b450f8d41634"
      },
      "outputs": [
        {
          "data": {
            "text/html": [
              "<div>\n",
              "<style scoped>\n",
              "    .dataframe tbody tr th:only-of-type {\n",
              "        vertical-align: middle;\n",
              "    }\n",
              "\n",
              "    .dataframe tbody tr th {\n",
              "        vertical-align: top;\n",
              "    }\n",
              "\n",
              "    .dataframe thead th {\n",
              "        text-align: right;\n",
              "    }\n",
              "</style>\n",
              "<table border=\"1\" class=\"dataframe\">\n",
              "  <thead>\n",
              "    <tr style=\"text-align: right;\">\n",
              "      <th></th>\n",
              "      <th>flight_id</th>\n",
              "      <th>schengen</th>\n",
              "      <th>arrival_time</th>\n",
              "      <th>departure_time</th>\n",
              "      <th>day</th>\n",
              "      <th>year</th>\n",
              "      <th>is_holiday</th>\n",
              "      <th>delay</th>\n",
              "      <th>airline_BZ</th>\n",
              "      <th>airline_MM</th>\n",
              "      <th>...</th>\n",
              "      <th>origin_CNU</th>\n",
              "      <th>origin_CSF</th>\n",
              "      <th>origin_EMM</th>\n",
              "      <th>origin_FJB</th>\n",
              "      <th>origin_MWL</th>\n",
              "      <th>origin_PUA</th>\n",
              "      <th>origin_TCY</th>\n",
              "      <th>origin_TZF</th>\n",
              "      <th>origin_ZQO</th>\n",
              "      <th>is_weekend</th>\n",
              "    </tr>\n",
              "  </thead>\n",
              "  <tbody>\n",
              "    <tr>\n",
              "      <th>40337</th>\n",
              "      <td>11</td>\n",
              "      <td>0</td>\n",
              "      <td>10.177197</td>\n",
              "      <td>13.177197</td>\n",
              "      <td>134</td>\n",
              "      <td>2017</td>\n",
              "      <td>0</td>\n",
              "      <td>-4.298068</td>\n",
              "      <td>1</td>\n",
              "      <td>0</td>\n",
              "      <td>...</td>\n",
              "      <td>0</td>\n",
              "      <td>0</td>\n",
              "      <td>1</td>\n",
              "      <td>0</td>\n",
              "      <td>0</td>\n",
              "      <td>0</td>\n",
              "      <td>0</td>\n",
              "      <td>0</td>\n",
              "      <td>0</td>\n",
              "      <td>False</td>\n",
              "    </tr>\n",
              "    <tr>\n",
              "      <th>9354</th>\n",
              "      <td>22</td>\n",
              "      <td>0</td>\n",
              "      <td>8.794147</td>\n",
              "      <td>11.794147</td>\n",
              "      <td>258</td>\n",
              "      <td>2011</td>\n",
              "      <td>0</td>\n",
              "      <td>29.712747</td>\n",
              "      <td>0</td>\n",
              "      <td>0</td>\n",
              "      <td>...</td>\n",
              "      <td>0</td>\n",
              "      <td>0</td>\n",
              "      <td>0</td>\n",
              "      <td>0</td>\n",
              "      <td>1</td>\n",
              "      <td>0</td>\n",
              "      <td>0</td>\n",
              "      <td>0</td>\n",
              "      <td>0</td>\n",
              "      <td>True</td>\n",
              "    </tr>\n",
              "    <tr>\n",
              "      <th>64321</th>\n",
              "      <td>5</td>\n",
              "      <td>1</td>\n",
              "      <td>9.344097</td>\n",
              "      <td>12.344097</td>\n",
              "      <td>273</td>\n",
              "      <td>2021</td>\n",
              "      <td>0</td>\n",
              "      <td>20.725673</td>\n",
              "      <td>1</td>\n",
              "      <td>0</td>\n",
              "      <td>...</td>\n",
              "      <td>0</td>\n",
              "      <td>0</td>\n",
              "      <td>0</td>\n",
              "      <td>0</td>\n",
              "      <td>0</td>\n",
              "      <td>0</td>\n",
              "      <td>0</td>\n",
              "      <td>0</td>\n",
              "      <td>1</td>\n",
              "      <td>True</td>\n",
              "    </tr>\n",
              "    <tr>\n",
              "      <th>24993</th>\n",
              "      <td>16</td>\n",
              "      <td>0</td>\n",
              "      <td>17.041281</td>\n",
              "      <td>20.041281</td>\n",
              "      <td>206</td>\n",
              "      <td>2014</td>\n",
              "      <td>0</td>\n",
              "      <td>55.791744</td>\n",
              "      <td>0</td>\n",
              "      <td>1</td>\n",
              "      <td>...</td>\n",
              "      <td>0</td>\n",
              "      <td>1</td>\n",
              "      <td>0</td>\n",
              "      <td>0</td>\n",
              "      <td>0</td>\n",
              "      <td>0</td>\n",
              "      <td>0</td>\n",
              "      <td>0</td>\n",
              "      <td>0</td>\n",
              "      <td>False</td>\n",
              "    </tr>\n",
              "    <tr>\n",
              "      <th>10688</th>\n",
              "      <td>7</td>\n",
              "      <td>1</td>\n",
              "      <td>8.564949</td>\n",
              "      <td>13.564949</td>\n",
              "      <td>347</td>\n",
              "      <td>2011</td>\n",
              "      <td>0</td>\n",
              "      <td>16.965341</td>\n",
              "      <td>0</td>\n",
              "      <td>1</td>\n",
              "      <td>...</td>\n",
              "      <td>0</td>\n",
              "      <td>0</td>\n",
              "      <td>0</td>\n",
              "      <td>0</td>\n",
              "      <td>0</td>\n",
              "      <td>0</td>\n",
              "      <td>0</td>\n",
              "      <td>1</td>\n",
              "      <td>0</td>\n",
              "      <td>False</td>\n",
              "    </tr>\n",
              "  </tbody>\n",
              "</table>\n",
              "<p>5 rows × 28 columns</p>\n",
              "</div>"
            ],
            "text/plain": [
              "       flight_id  schengen  arrival_time  departure_time  day  year  \\\n",
              "40337         11         0     10.177197       13.177197  134  2017   \n",
              "9354          22         0      8.794147       11.794147  258  2011   \n",
              "64321          5         1      9.344097       12.344097  273  2021   \n",
              "24993         16         0     17.041281       20.041281  206  2014   \n",
              "10688          7         1      8.564949       13.564949  347  2011   \n",
              "\n",
              "       is_holiday      delay  airline_BZ  airline_MM  ...  origin_CNU  \\\n",
              "40337           0  -4.298068           1           0  ...           0   \n",
              "9354            0  29.712747           0           0  ...           0   \n",
              "64321           0  20.725673           1           0  ...           0   \n",
              "24993           0  55.791744           0           1  ...           0   \n",
              "10688           0  16.965341           0           1  ...           0   \n",
              "\n",
              "       origin_CSF  origin_EMM  origin_FJB  origin_MWL  origin_PUA  origin_TCY  \\\n",
              "40337           0           1           0           0           0           0   \n",
              "9354            0           0           0           1           0           0   \n",
              "64321           0           0           0           0           0           0   \n",
              "24993           1           0           0           0           0           0   \n",
              "10688           0           0           0           0           0           0   \n",
              "\n",
              "       origin_TZF  origin_ZQO  is_weekend  \n",
              "40337           0           0       False  \n",
              "9354            0           0        True  \n",
              "64321           0           1        True  \n",
              "24993           0           0       False  \n",
              "10688           1           0       False  \n",
              "\n",
              "[5 rows x 28 columns]"
            ]
          },
          "execution_count": 25,
          "metadata": {},
          "output_type": "execute_result"
        }
      ],
      "source": [
        "df_encoded.head()"
      ]
    },
    {
      "cell_type": "code",
      "execution_count": 26,
      "metadata": {
        "id": "9Pj82S3SE83x"
      },
      "outputs": [],
      "source": [
        "# Transforming 'False' and 'True' values into 0 and 1\n",
        "df_encoded['is_weekend'] = df_encoded['is_weekend'].map({False: 0, True: 1})"
      ]
    },
    {
      "cell_type": "code",
      "execution_count": 27,
      "metadata": {
        "colab": {
          "base_uri": "https://localhost:8080/",
          "height": 299
        },
        "id": "O3mSroTGFCrc",
        "outputId": "1085c9cf-49e0-4de9-af29-8d5f4a5aa8ac"
      },
      "outputs": [
        {
          "data": {
            "text/html": [
              "<div>\n",
              "<style scoped>\n",
              "    .dataframe tbody tr th:only-of-type {\n",
              "        vertical-align: middle;\n",
              "    }\n",
              "\n",
              "    .dataframe tbody tr th {\n",
              "        vertical-align: top;\n",
              "    }\n",
              "\n",
              "    .dataframe thead th {\n",
              "        text-align: right;\n",
              "    }\n",
              "</style>\n",
              "<table border=\"1\" class=\"dataframe\">\n",
              "  <thead>\n",
              "    <tr style=\"text-align: right;\">\n",
              "      <th></th>\n",
              "      <th>flight_id</th>\n",
              "      <th>schengen</th>\n",
              "      <th>arrival_time</th>\n",
              "      <th>departure_time</th>\n",
              "      <th>day</th>\n",
              "      <th>year</th>\n",
              "      <th>is_holiday</th>\n",
              "      <th>delay</th>\n",
              "      <th>airline_BZ</th>\n",
              "      <th>airline_MM</th>\n",
              "      <th>...</th>\n",
              "      <th>origin_CNU</th>\n",
              "      <th>origin_CSF</th>\n",
              "      <th>origin_EMM</th>\n",
              "      <th>origin_FJB</th>\n",
              "      <th>origin_MWL</th>\n",
              "      <th>origin_PUA</th>\n",
              "      <th>origin_TCY</th>\n",
              "      <th>origin_TZF</th>\n",
              "      <th>origin_ZQO</th>\n",
              "      <th>is_weekend</th>\n",
              "    </tr>\n",
              "  </thead>\n",
              "  <tbody>\n",
              "    <tr>\n",
              "      <th>40337</th>\n",
              "      <td>11</td>\n",
              "      <td>0</td>\n",
              "      <td>10.177197</td>\n",
              "      <td>13.177197</td>\n",
              "      <td>134</td>\n",
              "      <td>2017</td>\n",
              "      <td>0</td>\n",
              "      <td>-4.298068</td>\n",
              "      <td>1</td>\n",
              "      <td>0</td>\n",
              "      <td>...</td>\n",
              "      <td>0</td>\n",
              "      <td>0</td>\n",
              "      <td>1</td>\n",
              "      <td>0</td>\n",
              "      <td>0</td>\n",
              "      <td>0</td>\n",
              "      <td>0</td>\n",
              "      <td>0</td>\n",
              "      <td>0</td>\n",
              "      <td>0</td>\n",
              "    </tr>\n",
              "    <tr>\n",
              "      <th>9354</th>\n",
              "      <td>22</td>\n",
              "      <td>0</td>\n",
              "      <td>8.794147</td>\n",
              "      <td>11.794147</td>\n",
              "      <td>258</td>\n",
              "      <td>2011</td>\n",
              "      <td>0</td>\n",
              "      <td>29.712747</td>\n",
              "      <td>0</td>\n",
              "      <td>0</td>\n",
              "      <td>...</td>\n",
              "      <td>0</td>\n",
              "      <td>0</td>\n",
              "      <td>0</td>\n",
              "      <td>0</td>\n",
              "      <td>1</td>\n",
              "      <td>0</td>\n",
              "      <td>0</td>\n",
              "      <td>0</td>\n",
              "      <td>0</td>\n",
              "      <td>1</td>\n",
              "    </tr>\n",
              "    <tr>\n",
              "      <th>64321</th>\n",
              "      <td>5</td>\n",
              "      <td>1</td>\n",
              "      <td>9.344097</td>\n",
              "      <td>12.344097</td>\n",
              "      <td>273</td>\n",
              "      <td>2021</td>\n",
              "      <td>0</td>\n",
              "      <td>20.725673</td>\n",
              "      <td>1</td>\n",
              "      <td>0</td>\n",
              "      <td>...</td>\n",
              "      <td>0</td>\n",
              "      <td>0</td>\n",
              "      <td>0</td>\n",
              "      <td>0</td>\n",
              "      <td>0</td>\n",
              "      <td>0</td>\n",
              "      <td>0</td>\n",
              "      <td>0</td>\n",
              "      <td>1</td>\n",
              "      <td>1</td>\n",
              "    </tr>\n",
              "    <tr>\n",
              "      <th>24993</th>\n",
              "      <td>16</td>\n",
              "      <td>0</td>\n",
              "      <td>17.041281</td>\n",
              "      <td>20.041281</td>\n",
              "      <td>206</td>\n",
              "      <td>2014</td>\n",
              "      <td>0</td>\n",
              "      <td>55.791744</td>\n",
              "      <td>0</td>\n",
              "      <td>1</td>\n",
              "      <td>...</td>\n",
              "      <td>0</td>\n",
              "      <td>1</td>\n",
              "      <td>0</td>\n",
              "      <td>0</td>\n",
              "      <td>0</td>\n",
              "      <td>0</td>\n",
              "      <td>0</td>\n",
              "      <td>0</td>\n",
              "      <td>0</td>\n",
              "      <td>0</td>\n",
              "    </tr>\n",
              "    <tr>\n",
              "      <th>10688</th>\n",
              "      <td>7</td>\n",
              "      <td>1</td>\n",
              "      <td>8.564949</td>\n",
              "      <td>13.564949</td>\n",
              "      <td>347</td>\n",
              "      <td>2011</td>\n",
              "      <td>0</td>\n",
              "      <td>16.965341</td>\n",
              "      <td>0</td>\n",
              "      <td>1</td>\n",
              "      <td>...</td>\n",
              "      <td>0</td>\n",
              "      <td>0</td>\n",
              "      <td>0</td>\n",
              "      <td>0</td>\n",
              "      <td>0</td>\n",
              "      <td>0</td>\n",
              "      <td>0</td>\n",
              "      <td>1</td>\n",
              "      <td>0</td>\n",
              "      <td>0</td>\n",
              "    </tr>\n",
              "  </tbody>\n",
              "</table>\n",
              "<p>5 rows × 28 columns</p>\n",
              "</div>"
            ],
            "text/plain": [
              "       flight_id  schengen  arrival_time  departure_time  day  year  \\\n",
              "40337         11         0     10.177197       13.177197  134  2017   \n",
              "9354          22         0      8.794147       11.794147  258  2011   \n",
              "64321          5         1      9.344097       12.344097  273  2021   \n",
              "24993         16         0     17.041281       20.041281  206  2014   \n",
              "10688          7         1      8.564949       13.564949  347  2011   \n",
              "\n",
              "       is_holiday      delay  airline_BZ  airline_MM  ...  origin_CNU  \\\n",
              "40337           0  -4.298068           1           0  ...           0   \n",
              "9354            0  29.712747           0           0  ...           0   \n",
              "64321           0  20.725673           1           0  ...           0   \n",
              "24993           0  55.791744           0           1  ...           0   \n",
              "10688           0  16.965341           0           1  ...           0   \n",
              "\n",
              "       origin_CSF  origin_EMM  origin_FJB  origin_MWL  origin_PUA  origin_TCY  \\\n",
              "40337           0           1           0           0           0           0   \n",
              "9354            0           0           0           1           0           0   \n",
              "64321           0           0           0           0           0           0   \n",
              "24993           1           0           0           0           0           0   \n",
              "10688           0           0           0           0           0           0   \n",
              "\n",
              "       origin_TZF  origin_ZQO  is_weekend  \n",
              "40337           0           0           0  \n",
              "9354            0           0           1  \n",
              "64321           0           1           1  \n",
              "24993           0           0           0  \n",
              "10688           1           0           0  \n",
              "\n",
              "[5 rows x 28 columns]"
            ]
          },
          "execution_count": 27,
          "metadata": {},
          "output_type": "execute_result"
        }
      ],
      "source": [
        "df_encoded.head()"
      ]
    },
    {
      "cell_type": "code",
      "execution_count": 28,
      "metadata": {
        "id": "n9HCVfOeFEol"
      },
      "outputs": [],
      "source": [
        "X = df_encoded.drop(['flight_id', 'departure_time', 'day', 'year', 'delay'], axis=1)\n",
        "y = df_encoded['delay']"
      ]
    },
    {
      "cell_type": "code",
      "execution_count": 29,
      "metadata": {
        "id": "Cto14vyPFNtG"
      },
      "outputs": [],
      "source": [
        "# Splitting the dataset into training and testing sets\n",
        "X_train, X_test, y_train, y_test = train_test_split(X, y, test_size=0.2, random_state=SEED)"
      ]
    },
    {
      "cell_type": "code",
      "execution_count": 30,
      "metadata": {
        "colab": {
          "base_uri": "https://localhost:8080/"
        },
        "id": "1q4-g7Y4FTMD",
        "outputId": "851580bd-cdc5-4212-f830-fde7559e7405"
      },
      "outputs": [
        {
          "name": "stdout",
          "output_type": "stream",
          "text": [
            "Mean Squared Error: 69.21253934483737\n",
            "Root Mean Squared Error: 8.319407391445461\n",
            "Mean Absolute Error: 6.057440846198629\n",
            "R-squared: 0.8690821885011601\n"
          ]
        }
      ],
      "source": [
        "# Training the model\n",
        "model = RandomForestRegressor()\n",
        "model.fit(X_train, y_train)\n",
        "\n",
        "# Making predictions\n",
        "y_pred = model.predict(X_test)\n",
        "\n",
        "mse = mean_squared_error(y_test, y_pred)\n",
        "print('Mean Squared Error:', mse)\n",
        "\n",
        "rmse = mean_squared_error(y_test, y_pred, squared=False)\n",
        "print('Root Mean Squared Error:', rmse)\n",
        "\n",
        "mae = mean_absolute_error(y_test, y_pred)\n",
        "print('Mean Absolute Error:', mae)\n",
        "\n",
        "r2 = r2_score(y_test, y_pred)\n",
        "print('R-squared:', r2)"
      ]
    },
    {
      "cell_type": "code",
      "execution_count": 31,
      "metadata": {
        "colab": {
          "base_uri": "https://localhost:8080/",
          "height": 472
        },
        "id": "z8vyzH-OHdxA",
        "outputId": "d897a2d8-5a7e-4a8b-f6cf-e1c0a02d8f8c"
      },
      "outputs": [
        {
          "data": {
            "image/png": "[encoded data removed]",
            "text/plain": [
              "<Figure size 640x480 with 1 Axes>"
            ]
          },
          "metadata": {},
          "output_type": "display_data"
        }
      ],
      "source": [
        "# Calculating the difference between predicted and actual delays\n",
        "delay_diff = y_pred - y_test\n",
        "\n",
        "# Plotting a histogram of the delay difference\n",
        "plt.hist(delay_diff, bins=30)\n",
        "plt.xlabel(\"Delay Difference (Predicted - Actual)\")\n",
        "plt.ylabel(\"Frequency\")\n",
        "plt.title(\"Histogram of Delay Difference\")\n",
        "plt.show()"
      ]
    },
    {
      "attachments": {},
      "cell_type": "markdown",
      "metadata": {
        "id": "QI_vaEVdPh0m"
      },
      "source": [
        "### **Cross-validation**"
      ]
    },
    {
      "cell_type": "code",
      "execution_count": 32,
      "metadata": {
        "colab": {
          "base_uri": "https://localhost:8080/"
        },
        "id": "1O5JEvtoNPn-",
        "outputId": "2d0a4494-ebff-480a-eb10-d545f1802160"
      },
      "outputs": [
        {
          "name": "stdout",
          "output_type": "stream",
          "text": [
            "MSE Scores: [71.45117394 70.24284895 72.85786154 71.31485139 70.98003108]\n",
            "RMSE Scores: [8.45287962 8.3811007  8.53568167 8.4448121  8.42496475]\n",
            "MAE Scores: [6.21450619 6.19480376 6.09792648 6.11451487 6.22556291]\n",
            "R2 Scores: [0.86827729 0.86844426 0.86663573 0.86407105 0.87410542]\n",
            "----------------------------------------------------------------\n",
            "MSE Mean: 71.36935338020639, MSE Std: 0.8539210407499073\n",
            "RMSE Mean: 8.447887768864401, RMSE Std: 0.050454185927981045\n",
            "MAE Mean: 6.169462841707055, MAE Std: 0.0528299404461588\n",
            "R2 Mean: 0.868306748595488, R2 Std: 0.0032978119982590925\n"
          ]
        }
      ],
      "source": [
        "from sklearn.model_selection import cross_validate\n",
        "from sklearn.metrics import make_scorer\n",
        "\n",
        "# Defining the evaluation metrics\n",
        "scoring = {\n",
        "    'mae': make_scorer(mean_absolute_error),\n",
        "    'mse': make_scorer(mean_squared_error),\n",
        "    'rmse': make_scorer(lambda y_true, y_pred: np.sqrt(mean_squared_error(y_true, y_pred))),\n",
        "    'r2': make_scorer(r2_score)\n",
        "}\n",
        "\n",
        "# Performing cross-validation and calculating the metrics\n",
        "cv_results = cross_validate(model, X, y, cv=5, scoring=scoring)\n",
        "\n",
        "# Extracting the evaluation metrics\n",
        "mse_scores = cv_results['test_mse']\n",
        "rmse_scores = cv_results['test_rmse']\n",
        "mae_scores = cv_results['test_mae']\n",
        "r2_scores = cv_results['test_r2']\n",
        "\n",
        "# Calculating the standard deviation of the metrics\n",
        "mse_std = np.std(mse_scores)\n",
        "rmse_std = np.std(rmse_scores)\n",
        "mae_std = np.std(mae_scores)\n",
        "r2_std = np.std(r2_scores)\n",
        "\n",
        "# Printing the evaluation metrics and standard deviation\n",
        "print(f\"MSE Scores: {mse_scores}\")\n",
        "print(f\"RMSE Scores: {rmse_scores}\")\n",
        "print(f\"MAE Scores: {mae_scores}\")\n",
        "print(f\"R2 Scores: {r2_scores}\")\n",
        "print('----------------------------------------------------------------')\n",
        "print(f\"MSE Mean: {mse_scores.mean()}, MSE Std: {mse_std}\")\n",
        "print(f\"RMSE Mean: {rmse_scores.mean()}, RMSE Std: {rmse_std}\")\n",
        "print(f\"MAE Mean: {mae_scores.mean()}, MAE Std: {mae_std}\")\n",
        "print(f\"R2 Mean: {r2_scores.mean()}, R2 Std: {r2_std}\")"
      ]
    },
    {
      "attachments": {},
      "cell_type": "markdown",
      "metadata": {
        "id": "ZIGp8tP8G7RP"
      },
      "source": [
        "### **Feature importance**"
      ]
    },
    {
      "cell_type": "code",
      "execution_count": 33,
      "metadata": {
        "colab": {
          "base_uri": "https://localhost:8080/",
          "height": 770
        },
        "id": "isbUyX2TFT3F",
        "outputId": "5e32ee56-ba3a-42de-c412-4e2b776b72ae"
      },
      "outputs": [
        {
          "data": {
            "text/html": [
              "<div>\n",
              "<style scoped>\n",
              "    .dataframe tbody tr th:only-of-type {\n",
              "        vertical-align: middle;\n",
              "    }\n",
              "\n",
              "    .dataframe tbody tr th {\n",
              "        vertical-align: top;\n",
              "    }\n",
              "\n",
              "    .dataframe thead th {\n",
              "        text-align: right;\n",
              "    }\n",
              "</style>\n",
              "<table border=\"1\" class=\"dataframe\">\n",
              "  <thead>\n",
              "    <tr style=\"text-align: right;\">\n",
              "      <th></th>\n",
              "      <th>Feature</th>\n",
              "      <th>Importance</th>\n",
              "    </tr>\n",
              "  </thead>\n",
              "  <tbody>\n",
              "    <tr>\n",
              "      <th>3</th>\n",
              "      <td>airline_BZ</td>\n",
              "      <td>0.395225</td>\n",
              "    </tr>\n",
              "    <tr>\n",
              "      <th>22</th>\n",
              "      <td>is_weekend</td>\n",
              "      <td>0.228636</td>\n",
              "    </tr>\n",
              "    <tr>\n",
              "      <th>2</th>\n",
              "      <td>is_holiday</td>\n",
              "      <td>0.107613</td>\n",
              "    </tr>\n",
              "    <tr>\n",
              "      <th>6</th>\n",
              "      <td>aircraft_type_Airbus A320</td>\n",
              "      <td>0.078925</td>\n",
              "    </tr>\n",
              "    <tr>\n",
              "      <th>7</th>\n",
              "      <td>aircraft_type_Airbus A330</td>\n",
              "      <td>0.042351</td>\n",
              "    </tr>\n",
              "    <tr>\n",
              "      <th>1</th>\n",
              "      <td>arrival_time</td>\n",
              "      <td>0.031097</td>\n",
              "    </tr>\n",
              "    <tr>\n",
              "      <th>11</th>\n",
              "      <td>aircraft_type_Embraer E175</td>\n",
              "      <td>0.030729</td>\n",
              "    </tr>\n",
              "    <tr>\n",
              "      <th>19</th>\n",
              "      <td>origin_TCY</td>\n",
              "      <td>0.015230</td>\n",
              "    </tr>\n",
              "    <tr>\n",
              "      <th>10</th>\n",
              "      <td>aircraft_type_Boeing 787</td>\n",
              "      <td>0.014900</td>\n",
              "    </tr>\n",
              "    <tr>\n",
              "      <th>14</th>\n",
              "      <td>origin_CSF</td>\n",
              "      <td>0.013793</td>\n",
              "    </tr>\n",
              "    <tr>\n",
              "      <th>16</th>\n",
              "      <td>origin_FJB</td>\n",
              "      <td>0.012050</td>\n",
              "    </tr>\n",
              "    <tr>\n",
              "      <th>20</th>\n",
              "      <td>origin_TZF</td>\n",
              "      <td>0.009952</td>\n",
              "    </tr>\n",
              "    <tr>\n",
              "      <th>0</th>\n",
              "      <td>schengen</td>\n",
              "      <td>0.005334</td>\n",
              "    </tr>\n",
              "    <tr>\n",
              "      <th>18</th>\n",
              "      <td>origin_PUA</td>\n",
              "      <td>0.004321</td>\n",
              "    </tr>\n",
              "    <tr>\n",
              "      <th>21</th>\n",
              "      <td>origin_ZQO</td>\n",
              "      <td>0.003247</td>\n",
              "    </tr>\n",
              "    <tr>\n",
              "      <th>8</th>\n",
              "      <td>aircraft_type_Boeing 737</td>\n",
              "      <td>0.001548</td>\n",
              "    </tr>\n",
              "    <tr>\n",
              "      <th>15</th>\n",
              "      <td>origin_EMM</td>\n",
              "      <td>0.001447</td>\n",
              "    </tr>\n",
              "    <tr>\n",
              "      <th>13</th>\n",
              "      <td>origin_CNU</td>\n",
              "      <td>0.001377</td>\n",
              "    </tr>\n",
              "    <tr>\n",
              "      <th>12</th>\n",
              "      <td>origin_AUZ</td>\n",
              "      <td>0.000917</td>\n",
              "    </tr>\n",
              "    <tr>\n",
              "      <th>17</th>\n",
              "      <td>origin_MWL</td>\n",
              "      <td>0.000652</td>\n",
              "    </tr>\n",
              "    <tr>\n",
              "      <th>9</th>\n",
              "      <td>aircraft_type_Boeing 777</td>\n",
              "      <td>0.000238</td>\n",
              "    </tr>\n",
              "    <tr>\n",
              "      <th>5</th>\n",
              "      <td>airline_YE</td>\n",
              "      <td>0.000211</td>\n",
              "    </tr>\n",
              "    <tr>\n",
              "      <th>4</th>\n",
              "      <td>airline_MM</td>\n",
              "      <td>0.000205</td>\n",
              "    </tr>\n",
              "  </tbody>\n",
              "</table>\n",
              "</div>"
            ],
            "text/plain": [
              "                       Feature  Importance\n",
              "3                   airline_BZ    0.395225\n",
              "22                  is_weekend    0.228636\n",
              "2                   is_holiday    0.107613\n",
              "6    aircraft_type_Airbus A320    0.078925\n",
              "7    aircraft_type_Airbus A330    0.042351\n",
              "1                 arrival_time    0.031097\n",
              "11  aircraft_type_Embraer E175    0.030729\n",
              "19                  origin_TCY    0.015230\n",
              "10    aircraft_type_Boeing 787    0.014900\n",
              "14                  origin_CSF    0.013793\n",
              "16                  origin_FJB    0.012050\n",
              "20                  origin_TZF    0.009952\n",
              "0                     schengen    0.005334\n",
              "18                  origin_PUA    0.004321\n",
              "21                  origin_ZQO    0.003247\n",
              "8     aircraft_type_Boeing 737    0.001548\n",
              "15                  origin_EMM    0.001447\n",
              "13                  origin_CNU    0.001377\n",
              "12                  origin_AUZ    0.000917\n",
              "17                  origin_MWL    0.000652\n",
              "9     aircraft_type_Boeing 777    0.000238\n",
              "5                   airline_YE    0.000211\n",
              "4                   airline_MM    0.000205"
            ]
          },
          "execution_count": 33,
          "metadata": {},
          "output_type": "execute_result"
        }
      ],
      "source": [
        "# Getting the feature importances\n",
        "feature_importance = model.feature_importances_\n",
        "\n",
        "# Creating a DataFrame to visualize the feature importances\n",
        "feature_importance_df = pd.DataFrame({'Feature': X.columns, 'Importance': feature_importance})\n",
        "feature_importance_df = feature_importance_df.sort_values('Importance', ascending=False)\n",
        "\n",
        "# Displaying the feature importances\n",
        "feature_importance_df"
      ]
    },
    {
      "attachments": {},
      "cell_type": "markdown",
      "metadata": {
        "id": "R7lkm2giRNkm"
      },
      "source": [
        "### **Hyperparameters**"
      ]
    },
    {
      "cell_type": "code",
      "execution_count": 34,
      "metadata": {
        "colab": {
          "base_uri": "https://localhost:8080/"
        },
        "id": "tb7qaXpIhE-V",
        "outputId": "615fe2e6-365f-48bd-83c2-934f7919ed89"
      },
      "outputs": [
        {
          "name": "stdout",
          "output_type": "stream",
          "text": [
            "bootstrap: True\n",
            "ccp_alpha: 0.0\n",
            "criterion: squared_error\n",
            "max_depth: None\n",
            "max_features: 1.0\n",
            "max_leaf_nodes: None\n",
            "max_samples: None\n",
            "min_impurity_decrease: 0.0\n",
            "min_samples_leaf: 1\n",
            "min_samples_split: 2\n",
            "min_weight_fraction_leaf: 0.0\n",
            "n_estimators: 100\n",
            "n_jobs: None\n",
            "oob_score: False\n",
            "random_state: None\n",
            "verbose: 0\n",
            "warm_start: False\n"
          ]
        }
      ],
      "source": [
        "# Print the model parameters\n",
        "params = model.get_params()\n",
        "for param, value in params.items():\n",
        "    print(f\"{param}: {value}\")"
      ]
    },
    {
      "cell_type": "code",
      "execution_count": 35,
      "metadata": {
        "id": "HczLgXUEM41E"
      },
      "outputs": [],
      "source": [
        "from sklearn.model_selection import GridSearchCV\n",
        "\n",
        "def grid_search_cv(parameters, model, X_train, y_train):\n",
        "\n",
        "  # Defining the model and which parameters will be tuned\n",
        "  model_grid = GridSearchCV(model, param_grid=parameters, cv=5, scoring='neg_mean_absolute_error')\n",
        "\n",
        "  # Training\n",
        "  model_grid.fit(X_train, y_train)\n",
        "\n",
        "  # Obtaining the best values for each parameter\n",
        "  best_params = model_grid.best_params_\n",
        "\n",
        "  return best_params"
      ]
    },
    {
      "cell_type": "code",
      "execution_count": 36,
      "metadata": {
        "id": "1hDWMZWMNBpm"
      },
      "outputs": [],
      "source": [
        "# Defining the hyperparameters to be optimized\n",
        "param_grid = {\n",
        "    'n_estimators': [100, 200, 300],\n",
        "    'max_depth': [None, 5, 10],\n",
        "    'min_samples_split': [2, 5, 10],\n",
        "    'min_samples_leaf': [1,2,3]\n",
        "}\n",
        "\n",
        "modelo_rf = RandomForestRegressor(random_state=SEED)"
      ]
    },
    {
      "cell_type": "code",
      "execution_count": 37,
      "metadata": {
        "colab": {
          "base_uri": "https://localhost:8080/"
        },
        "id": "IF7O18eQNU2x",
        "outputId": "2baea592-8ecd-4f07-a450-27581fe83070"
      },
      "outputs": [
        {
          "data": {
            "text/plain": [
              "{'max_depth': 10,\n",
              " 'min_samples_leaf': 2,\n",
              " 'min_samples_split': 2,\n",
              " 'n_estimators': 300}"
            ]
          },
          "execution_count": 37,
          "metadata": {},
          "output_type": "execute_result"
        }
      ],
      "source": [
        "grid_search_cv(param_grid, modelo_rf, X_train, y_train)"
      ]
    },
    {
      "cell_type": "code",
      "execution_count": 38,
      "metadata": {
        "colab": {
          "base_uri": "https://localhost:8080/"
        },
        "id": "zpD2t5HwNkus",
        "outputId": "e46252ab-b8e4-4541-ad5b-96a6ef655c03"
      },
      "outputs": [
        {
          "name": "stdout",
          "output_type": "stream",
          "text": [
            "Mean Squared Error: 68.91253973769726\n",
            "Root Mean Squared Error: 8.301357704478061\n",
            "Mean Absolute Error: 6.042217204661081\n",
            "R-squared: 0.8696496476984252\n"
          ]
        }
      ],
      "source": [
        "# Training the model\n",
        "model = RandomForestRegressor(random_state=SEED, max_depth=10, min_samples_leaf=2, min_samples_split=2, n_estimators=300)\n",
        "model.fit(X_train, y_train)\n",
        "\n",
        "# Making predictions\n",
        "y_pred = model.predict(X_test)\n",
        "\n",
        "mse = mean_squared_error(y_test, y_pred)\n",
        "print('Mean Squared Error:', mse)\n",
        "\n",
        "rmse = mean_squared_error(y_test, y_pred, squared=False)\n",
        "print('Root Mean Squared Error:', rmse)\n",
        "\n",
        "mae = mean_absolute_error(y_test, y_pred)\n",
        "print('Mean Absolute Error:', mae)\n",
        "\n",
        "r2 = r2_score(y_test, y_pred)\n",
        "print('R-squared:', r2)"
      ]
    },
    {
      "attachments": {},
      "cell_type": "markdown",
      "metadata": {
        "id": "vFpZZGZ8ibLy"
      },
      "source": [
        "**Before optimization:**\n",
        "\n",
        "- Mean Squared Error: 69.07698110323099\n",
        "- Root Mean Squared Error: 8.311256289107622\n",
        "- Mean Absolute Error: 6.04707479745361\n",
        "- R-squared: 0.8693386014068234"
      ]
    },
    {
      "attachments": {},
      "cell_type": "markdown",
      "metadata": {
        "id": "RBw46XpYcdYv"
      },
      "source": [
        "### **Gradient Boosting Regressor**"
      ]
    },
    {
      "cell_type": "code",
      "execution_count": 39,
      "metadata": {
        "id": "hszY5RDoSYT1"
      },
      "outputs": [],
      "source": [
        "from sklearn.ensemble import GradientBoostingRegressor"
      ]
    },
    {
      "cell_type": "code",
      "execution_count": 40,
      "metadata": {
        "colab": {
          "base_uri": "https://localhost:8080/"
        },
        "id": "gUqyRSl7cjDQ",
        "outputId": "8beb0e33-5650-4cc0-cf45-89f0572c9732"
      },
      "outputs": [
        {
          "name": "stdout",
          "output_type": "stream",
          "text": [
            "Mean Squared Error: 69.16201911862846\n",
            "Root Mean Squared Error: 8.316370549622501\n",
            "Mean Absolute Error: 6.087796897089667\n",
            "R-squared: 0.8691777491830006\n"
          ]
        }
      ],
      "source": [
        "# Training the model\n",
        "model_boosting = GradientBoostingRegressor()\n",
        "model_boosting.fit(X_train, y_train)\n",
        "\n",
        "# Making predictions\n",
        "y_pred = model_boosting.predict(X_test)\n",
        "\n",
        "# Evaluating the model\n",
        "mse = mean_squared_error(y_test, y_pred)\n",
        "print('Mean Squared Error:', mse)\n",
        "\n",
        "rmse = mean_squared_error(y_test, y_pred, squared=False)\n",
        "print('Root Mean Squared Error:', rmse)\n",
        "\n",
        "mae = mean_absolute_error(y_test, y_pred)\n",
        "print('Mean Absolute Error:', mae)\n",
        "\n",
        "r2 = r2_score(y_test, y_pred)\n",
        "print('R-squared:', r2)"
      ]
    },
    {
      "cell_type": "code",
      "execution_count": 41,
      "metadata": {
        "id": "pAGeGOinknTs"
      },
      "outputs": [],
      "source": [
        "# Defining the hyperparameters to test\n",
        "parameters = {\n",
        "    'n_estimators': [50, 100, 200],\n",
        "    'learning_rate': [0.1, 0.05, 0.01],\n",
        "    'max_depth': [3, 4, 5]\n",
        "}\n",
        "modelo_boosting = GradientBoostingRegressor(random_state=SEED)"
      ]
    },
    {
      "cell_type": "code",
      "execution_count": 42,
      "metadata": {
        "colab": {
          "base_uri": "https://localhost:8080/"
        },
        "id": "T5nRTY3hknWU",
        "outputId": "1c0201df-7a46-4d7d-8033-0347acb3d8d4"
      },
      "outputs": [
        {
          "data": {
            "text/plain": [
              "{'learning_rate': 0.1, 'max_depth': 3, 'n_estimators': 200}"
            ]
          },
          "execution_count": 42,
          "metadata": {},
          "output_type": "execute_result"
        }
      ],
      "source": [
        "grid_search_cv(parameters, modelo_boosting, X_train, y_train)"
      ]
    },
    {
      "cell_type": "code",
      "execution_count": 43,
      "metadata": {
        "colab": {
          "base_uri": "https://localhost:8080/"
        },
        "id": "B-nLRIlBknZL",
        "outputId": "e79c2bb0-e985-43f7-a342-40cfae8c6739"
      },
      "outputs": [
        {
          "name": "stdout",
          "output_type": "stream",
          "text": [
            "Mean Squared Error: 68.47812045360301\n",
            "Root Mean Squared Error: 8.27515078132133\n",
            "Mean Absolute Error: 6.028584721984536\n",
            "R-squared: 0.8704713661685879\n"
          ]
        }
      ],
      "source": [
        "# Training the model\n",
        "model_boosting = GradientBoostingRegressor(learning_rate=0.1, max_depth=3, n_estimators=200)\n",
        "model_boosting.fit(X_train, y_train)\n",
        "\n",
        "# Making predictions\n",
        "y_pred = model_boosting.predict(X_test)\n",
        "\n",
        "# Evaluating the model\n",
        "mse = mean_squared_error(y_test, y_pred)\n",
        "print('Mean Squared Error:', mse)\n",
        "\n",
        "rmse = mean_squared_error(y_test, y_pred, squared=False)\n",
        "print('Root Mean Squared Error:', rmse)\n",
        "\n",
        "mae = mean_absolute_error(y_test, y_pred)\n",
        "print('Mean Absolute Error:', mae)\n",
        "\n",
        "r2 = r2_score(y_test, y_pred)\n",
        "print('R-squared:', r2)"
      ]
    }
  ],
  "metadata": {
    "colab": {
      "provenance": []
    },
    "kernelspec": {
      "display_name": "Python 3",
      "name": "python3"
    },
    "language_info": {
      "codemirror_mode": {
        "name": "ipython",
        "version": 3
      },
      "file_extension": ".py",
      "mimetype": "text/x-python",
      "name": "python",
      "nbconvert_exporter": "python",
      "pygments_lexer": "ipython3",
      "version": "3.11.3"
    }
  },
  "nbformat": 4,
  "nbformat_minor": 0
}
