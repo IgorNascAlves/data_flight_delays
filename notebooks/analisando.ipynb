{
  "cells": [
    {
      "cell_type": "code",
      "execution_count": 1,
      "metadata": {
        "id": "lsMfpYLKPf1P"
      },
      "outputs": [],
      "source": [
        "# url_raw = 'https://github.com/IgorNascAlves/data_flight_delays/raw/main/data/concatenated_data.parquet'"
      ]
    },
    {
      "cell_type": "code",
      "execution_count": 2,
      "metadata": {},
      "outputs": [],
      "source": [
        "path = r'C:\\Users\\Igor\\Desktop\\dados\\data\\concatenated_data.parquet'"
      ]
    },
    {
      "cell_type": "code",
      "execution_count": 3,
      "metadata": {
        "id": "FJtQ2qBOW9wF"
      },
      "outputs": [],
      "source": [
        "import pandas as pd"
      ]
    },
    {
      "cell_type": "code",
      "execution_count": 4,
      "metadata": {},
      "outputs": [],
      "source": [
        "# df = pd.read_parquet(url_raw)"
      ]
    },
    {
      "cell_type": "code",
      "execution_count": 5,
      "metadata": {
        "id": "aihFbpWbW-lZ"
      },
      "outputs": [],
      "source": [
        "df = pd.read_parquet(path)"
      ]
    },
    {
      "cell_type": "code",
      "execution_count": 6,
      "metadata": {
        "id": "J3fqGerzXFXX"
      },
      "outputs": [
        {
          "data": {
            "text/html": [
              "<div>\n",
              "<style scoped>\n",
              "    .dataframe tbody tr th:only-of-type {\n",
              "        vertical-align: middle;\n",
              "    }\n",
              "\n",
              "    .dataframe tbody tr th {\n",
              "        vertical-align: top;\n",
              "    }\n",
              "\n",
              "    .dataframe thead th {\n",
              "        text-align: right;\n",
              "    }\n",
              "</style>\n",
              "<table border=\"1\" class=\"dataframe\">\n",
              "  <thead>\n",
              "    <tr style=\"text-align: right;\">\n",
              "      <th></th>\n",
              "      <th>FL_DATE</th>\n",
              "      <th>ORIGIN</th>\n",
              "      <th>ORIGIN_CITY_NAME</th>\n",
              "      <th>ORIGIN_STATE_NM</th>\n",
              "      <th>DEST</th>\n",
              "      <th>DEST_CITY_NAME</th>\n",
              "      <th>DEST_STATE_NM</th>\n",
              "      <th>CRS_DEP_TIME</th>\n",
              "      <th>DEP_TIME</th>\n",
              "      <th>DEP_DELAY</th>\n",
              "      <th>...</th>\n",
              "      <th>DIVERTED</th>\n",
              "      <th>CRS_ELAPSED_TIME</th>\n",
              "      <th>ACTUAL_ELAPSED_TIME</th>\n",
              "      <th>AIR_TIME</th>\n",
              "      <th>DISTANCE</th>\n",
              "      <th>CARRIER_DELAY</th>\n",
              "      <th>WEATHER_DELAY</th>\n",
              "      <th>NAS_DELAY</th>\n",
              "      <th>SECURITY_DELAY</th>\n",
              "      <th>LATE_AIRCRAFT_DELAY</th>\n",
              "    </tr>\n",
              "  </thead>\n",
              "  <tbody>\n",
              "    <tr>\n",
              "      <th>0</th>\n",
              "      <td>4/1/2018 12:00:00 AM</td>\n",
              "      <td>ABE</td>\n",
              "      <td>Allentown/Bethlehem/Easton, PA</td>\n",
              "      <td>Pennsylvania</td>\n",
              "      <td>ATL</td>\n",
              "      <td>Atlanta, GA</td>\n",
              "      <td>Georgia</td>\n",
              "      <td>600</td>\n",
              "      <td>555.0</td>\n",
              "      <td>-5.0</td>\n",
              "      <td>...</td>\n",
              "      <td>0.0</td>\n",
              "      <td>135.0</td>\n",
              "      <td>116.0</td>\n",
              "      <td>101.0</td>\n",
              "      <td>692.0</td>\n",
              "      <td>NaN</td>\n",
              "      <td>NaN</td>\n",
              "      <td>NaN</td>\n",
              "      <td>NaN</td>\n",
              "      <td>NaN</td>\n",
              "    </tr>\n",
              "    <tr>\n",
              "      <th>1</th>\n",
              "      <td>4/1/2018 12:00:00 AM</td>\n",
              "      <td>ABE</td>\n",
              "      <td>Allentown/Bethlehem/Easton, PA</td>\n",
              "      <td>Pennsylvania</td>\n",
              "      <td>ATL</td>\n",
              "      <td>Atlanta, GA</td>\n",
              "      <td>Georgia</td>\n",
              "      <td>1304</td>\n",
              "      <td>1358.0</td>\n",
              "      <td>54.0</td>\n",
              "      <td>...</td>\n",
              "      <td>0.0</td>\n",
              "      <td>130.0</td>\n",
              "      <td>117.0</td>\n",
              "      <td>99.0</td>\n",
              "      <td>692.0</td>\n",
              "      <td>0.0</td>\n",
              "      <td>0.0</td>\n",
              "      <td>0.0</td>\n",
              "      <td>0.0</td>\n",
              "      <td>41.0</td>\n",
              "    </tr>\n",
              "    <tr>\n",
              "      <th>2</th>\n",
              "      <td>4/1/2018 12:00:00 AM</td>\n",
              "      <td>ABE</td>\n",
              "      <td>Allentown/Bethlehem/Easton, PA</td>\n",
              "      <td>Pennsylvania</td>\n",
              "      <td>ATL</td>\n",
              "      <td>Atlanta, GA</td>\n",
              "      <td>Georgia</td>\n",
              "      <td>1749</td>\n",
              "      <td>1746.0</td>\n",
              "      <td>-3.0</td>\n",
              "      <td>...</td>\n",
              "      <td>0.0</td>\n",
              "      <td>136.0</td>\n",
              "      <td>150.0</td>\n",
              "      <td>110.0</td>\n",
              "      <td>692.0</td>\n",
              "      <td>NaN</td>\n",
              "      <td>NaN</td>\n",
              "      <td>NaN</td>\n",
              "      <td>NaN</td>\n",
              "      <td>NaN</td>\n",
              "    </tr>\n",
              "    <tr>\n",
              "      <th>3</th>\n",
              "      <td>4/1/2018 12:00:00 AM</td>\n",
              "      <td>ABE</td>\n",
              "      <td>Allentown/Bethlehem/Easton, PA</td>\n",
              "      <td>Pennsylvania</td>\n",
              "      <td>CLT</td>\n",
              "      <td>Charlotte, NC</td>\n",
              "      <td>North Carolina</td>\n",
              "      <td>708</td>\n",
              "      <td>655.0</td>\n",
              "      <td>-13.0</td>\n",
              "      <td>...</td>\n",
              "      <td>0.0</td>\n",
              "      <td>129.0</td>\n",
              "      <td>140.0</td>\n",
              "      <td>91.0</td>\n",
              "      <td>481.0</td>\n",
              "      <td>NaN</td>\n",
              "      <td>NaN</td>\n",
              "      <td>NaN</td>\n",
              "      <td>NaN</td>\n",
              "      <td>NaN</td>\n",
              "    </tr>\n",
              "    <tr>\n",
              "      <th>4</th>\n",
              "      <td>4/1/2018 12:00:00 AM</td>\n",
              "      <td>ABE</td>\n",
              "      <td>Allentown/Bethlehem/Easton, PA</td>\n",
              "      <td>Pennsylvania</td>\n",
              "      <td>CLT</td>\n",
              "      <td>Charlotte, NC</td>\n",
              "      <td>North Carolina</td>\n",
              "      <td>1638</td>\n",
              "      <td>1624.0</td>\n",
              "      <td>-14.0</td>\n",
              "      <td>...</td>\n",
              "      <td>0.0</td>\n",
              "      <td>127.0</td>\n",
              "      <td>128.0</td>\n",
              "      <td>96.0</td>\n",
              "      <td>481.0</td>\n",
              "      <td>NaN</td>\n",
              "      <td>NaN</td>\n",
              "      <td>NaN</td>\n",
              "      <td>NaN</td>\n",
              "      <td>NaN</td>\n",
              "    </tr>\n",
              "  </tbody>\n",
              "</table>\n",
              "<p>5 rows × 28 columns</p>\n",
              "</div>"
            ],
            "text/plain": [
              "                FL_DATE ORIGIN                ORIGIN_CITY_NAME  \\\n",
              "0  4/1/2018 12:00:00 AM    ABE  Allentown/Bethlehem/Easton, PA   \n",
              "1  4/1/2018 12:00:00 AM    ABE  Allentown/Bethlehem/Easton, PA   \n",
              "2  4/1/2018 12:00:00 AM    ABE  Allentown/Bethlehem/Easton, PA   \n",
              "3  4/1/2018 12:00:00 AM    ABE  Allentown/Bethlehem/Easton, PA   \n",
              "4  4/1/2018 12:00:00 AM    ABE  Allentown/Bethlehem/Easton, PA   \n",
              "\n",
              "  ORIGIN_STATE_NM DEST DEST_CITY_NAME   DEST_STATE_NM  CRS_DEP_TIME  DEP_TIME  \\\n",
              "0    Pennsylvania  ATL    Atlanta, GA         Georgia           600     555.0   \n",
              "1    Pennsylvania  ATL    Atlanta, GA         Georgia          1304    1358.0   \n",
              "2    Pennsylvania  ATL    Atlanta, GA         Georgia          1749    1746.0   \n",
              "3    Pennsylvania  CLT  Charlotte, NC  North Carolina           708     655.0   \n",
              "4    Pennsylvania  CLT  Charlotte, NC  North Carolina          1638    1624.0   \n",
              "\n",
              "   DEP_DELAY  ...  DIVERTED  CRS_ELAPSED_TIME  ACTUAL_ELAPSED_TIME  AIR_TIME  \\\n",
              "0       -5.0  ...       0.0             135.0                116.0     101.0   \n",
              "1       54.0  ...       0.0             130.0                117.0      99.0   \n",
              "2       -3.0  ...       0.0             136.0                150.0     110.0   \n",
              "3      -13.0  ...       0.0             129.0                140.0      91.0   \n",
              "4      -14.0  ...       0.0             127.0                128.0      96.0   \n",
              "\n",
              "   DISTANCE  CARRIER_DELAY  WEATHER_DELAY  NAS_DELAY  SECURITY_DELAY  \\\n",
              "0     692.0            NaN            NaN        NaN             NaN   \n",
              "1     692.0            0.0            0.0        0.0             0.0   \n",
              "2     692.0            NaN            NaN        NaN             NaN   \n",
              "3     481.0            NaN            NaN        NaN             NaN   \n",
              "4     481.0            NaN            NaN        NaN             NaN   \n",
              "\n",
              "   LATE_AIRCRAFT_DELAY  \n",
              "0                  NaN  \n",
              "1                 41.0  \n",
              "2                  NaN  \n",
              "3                  NaN  \n",
              "4                  NaN  \n",
              "\n",
              "[5 rows x 28 columns]"
            ]
          },
          "execution_count": 6,
          "metadata": {},
          "output_type": "execute_result"
        }
      ],
      "source": [
        "df.head()"
      ]
    },
    {
      "cell_type": "code",
      "execution_count": 7,
      "metadata": {
        "id": "acMsSkX_XIB4"
      },
      "outputs": [
        {
          "data": {
            "text/plain": [
              "(33663016, 28)"
            ]
          },
          "execution_count": 7,
          "metadata": {},
          "output_type": "execute_result"
        }
      ],
      "source": [
        "df.shape"
      ]
    },
    {
      "cell_type": "code",
      "execution_count": 8,
      "metadata": {
        "id": "A9Pe7GcvXI3Z"
      },
      "outputs": [
        {
          "name": "stdout",
          "output_type": "stream",
          "text": [
            "<class 'pandas.core.frame.DataFrame'>\n",
            "RangeIndex: 33663016 entries, 0 to 33663015\n",
            "Data columns (total 28 columns):\n",
            " #   Column               Dtype  \n",
            "---  ------               -----  \n",
            " 0   FL_DATE              object \n",
            " 1   ORIGIN               object \n",
            " 2   ORIGIN_CITY_NAME     object \n",
            " 3   ORIGIN_STATE_NM      object \n",
            " 4   DEST                 object \n",
            " 5   DEST_CITY_NAME       object \n",
            " 6   DEST_STATE_NM        object \n",
            " 7   CRS_DEP_TIME         int64  \n",
            " 8   DEP_TIME             float64\n",
            " 9   DEP_DELAY            float64\n",
            " 10  TAXI_OUT             float64\n",
            " 11  WHEELS_OFF           float64\n",
            " 12  WHEELS_ON            float64\n",
            " 13  TAXI_IN              float64\n",
            " 14  CRS_ARR_TIME         int64  \n",
            " 15  ARR_TIME             float64\n",
            " 16  ARR_DELAY            float64\n",
            " 17  CANCELLED            float64\n",
            " 18  DIVERTED             float64\n",
            " 19  CRS_ELAPSED_TIME     float64\n",
            " 20  ACTUAL_ELAPSED_TIME  float64\n",
            " 21  AIR_TIME             float64\n",
            " 22  DISTANCE             float64\n",
            " 23  CARRIER_DELAY        float64\n",
            " 24  WEATHER_DELAY        float64\n",
            " 25  NAS_DELAY            float64\n",
            " 26  SECURITY_DELAY       float64\n",
            " 27  LATE_AIRCRAFT_DELAY  float64\n",
            "dtypes: float64(19), int64(2), object(7)\n",
            "memory usage: 7.0+ GB\n"
          ]
        }
      ],
      "source": [
        "df.info()"
      ]
    },
    {
      "cell_type": "code",
      "execution_count": 9,
      "metadata": {
        "id": "wt5jlCCFXJil"
      },
      "outputs": [
        {
          "name": "stdout",
          "output_type": "stream",
          "text": [
            "\n",
            "Period of time:\n",
            "Begin date: 2018-01-01\n",
            "End date: 2023-03-31\n"
          ]
        }
      ],
      "source": [
        "fl_date = pd.to_datetime(df['FL_DATE'], format='%m/%d/%Y %I:%M:%S %p')\n",
        "period_begin = fl_date.min().strftime('%Y-%m-%d')\n",
        "period_end = fl_date.max().strftime('%Y-%m-%d')\n",
        "print(f\"\\nPeriod of time:\")\n",
        "print(f\"Begin date: {period_begin}\")\n",
        "print(f\"End date: {period_end}\")"
      ]
    },
    {
      "cell_type": "code",
      "execution_count": 10,
      "metadata": {},
      "outputs": [],
      "source": [
        "del df"
      ]
    },
    {
      "cell_type": "code",
      "execution_count": null,
      "metadata": {},
      "outputs": [],
      "source": []
    }
  ],
  "metadata": {
    "colab": {
      "provenance": [],
      "toc_visible": true
    },
    "kernelspec": {
      "display_name": "Python 3",
      "name": "python3"
    },
    "language_info": {
      "codemirror_mode": {
        "name": "ipython",
        "version": 3
      },
      "file_extension": ".py",
      "mimetype": "text/x-python",
      "name": "python",
      "nbconvert_exporter": "python",
      "pygments_lexer": "ipython3",
      "version": "3.11.3"
    }
  },
  "nbformat": 4,
  "nbformat_minor": 0
}
